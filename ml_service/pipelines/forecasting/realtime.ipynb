{
 "cells": [
  {
   "cell_type": "markdown",
   "source": [
    "Copyright (c) Microsoft Corporation. All rights reserved.\n",
    "\n",
    "Licensed under the MIT License."
   ],
   "metadata": {}
  },
  {
   "cell_type": "markdown",
   "source": [
    "![Impressions](https://PixelServer20190423114238.azurewebsites.net/api/impressions/MachineLearningNotebooks/how-to-use-azureml/automated-machine-learning/manymodels/03_Forecasting/03_Forecasting_Pipeline.png)"
   ],
   "metadata": {}
  },
  {
   "cell_type": "markdown",
   "source": [
    "# Real-time Forecasting Webservice Deployment - Automated ML\n",
    "---\n",
    "\n",
    "In this notebook we deploy multiple webservices to forecast sales in real-time with the models we trained in the last step.\n",
    "\n",
    "Models are grouped based on their tags and each group is deployed together to the same webservice. You can customize your grouping strategy by simply playing with the model tags. \n",
    "\n",
    "### Prerequisites \n",
    "At this point, you should have already: \n",
    "1. Created your AML Workspace using the [00_Setup_AML_Workspace notebook](../../00_Setup_AML_Workspace.ipynb)\n",
    "2. Run [01_Data_Preparation.ipynb](../../01_Data_Preparation.ipynb) to create the dataset\n",
    "3. Run [02_AutoML_Training_Pipeline.ipynb](../02_AutoML_Training_Pipeline/02_AutoML_Training_Pipeline.ipynb) to train the models"
   ],
   "metadata": {}
  },
  {
   "cell_type": "markdown",
   "source": [
    "## 1.0 Connect to workspace"
   ],
   "metadata": {}
  },
  {
   "cell_type": "code",
   "execution_count": 1,
   "source": [
    "import azureml.core\n",
    "from azureml.core import Workspace, Datastore\n",
    "import pandas as pd\n",
    "import os\n",
    "import sys\n",
    "\n",
    "sys.path.append(\"../../../\")\n"
   ],
   "outputs": [],
   "metadata": {}
  },
  {
   "cell_type": "code",
   "execution_count": 2,
   "source": [
    "from ml_service.utils.pipeline_info import Info\n",
    "from ml_service.utils.env_variables import Env\n",
    "from ml_service.utils.aml_workspace import Connect\n",
    "\n",
    "# set up workspace\n",
    "# ws=Workspace.from_config()\n",
    "# Get the variables defined in config file .env\n",
    "e=Env()\n",
    "\n",
    "ws = Connect().authenticate()"
   ],
   "outputs": [
    {
     "output_type": "stream",
     "name": "stdout",
     "text": [
      "Performing interactive authentication. Please follow the instructions on the terminal.\n",
      "To sign in, use a web browser to open the page https://microsoft.com/devicelogin and enter the code FVSZYUWNA to authenticate.\n",
      "You have logged in. Now let us find all the subscriptions to which you have access...\n"
     ]
    },
    {
     "output_type": "stream",
     "name": "stderr",
     "text": [
      "Failed to authenticate to tenant '491d83df-1091-40f8-bcf9-b112f9a35fcf' due to error 'Get Token request returned http error: 400 and server response: {\"error\":\"interaction_required\",\"error_description\":\"AADSTS53003: Access has been blocked by Conditional Access policies. The access policy does not allow token issuance.\\r\\nTrace ID: 7abda583-9586-40b7-9d92-7b500e741b00\\r\\nCorrelation ID: 0f3d247b-e62c-4fdd-b187-d9000b4d49a3\\r\\nTimestamp: 2021-10-05 12:12:39Z\",\"error_codes\":[53003],\"timestamp\":\"2021-10-05 12:12:39Z\",\"trace_id\":\"7abda583-9586-40b7-9d92-7b500e741b00\",\"correlation_id\":\"0f3d247b-e62c-4fdd-b187-d9000b4d49a3\",\"error_uri\":\"https://login.microsoftonline.com/error?code=53003\",\"suberror\":\"message_only\"}'.Will continue to look for other tenants to find subscriptions to which you have access\n",
      "Failed to authenticate to tenant '79c07380-cc98-41bd-806b-0ae925588f66' due to error 'Get Token request returned http error: 400 and server response: {\"error\":\"interaction_required\",\"error_description\":\"AADSTS50076: Due to a configuration change made by your administrator, or because you moved to a new location, you must use multi-factor authentication to access '797f4846-ba00-4fd7-ba43-dac1f8f63013'.\\r\\nTrace ID: 249793e4-a14f-40e3-b3f0-e54f77962100\\r\\nCorrelation ID: 667a0a82-3e34-45bc-9147-cf5597ceaace\\r\\nTimestamp: 2021-10-05 12:12:39Z\",\"error_codes\":[50076],\"timestamp\":\"2021-10-05 12:12:39Z\",\"trace_id\":\"249793e4-a14f-40e3-b3f0-e54f77962100\",\"correlation_id\":\"667a0a82-3e34-45bc-9147-cf5597ceaace\",\"error_uri\":\"https://login.microsoftonline.com/error?code=50076\",\"suberror\":\"basic_action\"}'.Will continue to look for other tenants to find subscriptions to which you have access\n"
     ]
    },
    {
     "output_type": "stream",
     "name": "stdout",
     "text": [
      "Interactive authentication successfully completed.\n"
     ]
    }
   ],
   "metadata": {}
  },
  {
   "cell_type": "code",
   "execution_count": 3,
   "source": [
    "# Take a look at Workspace\n",
    "ws.get_details()\n",
    "\n",
    "# set up datastores\n",
    "dstore = Datastore.get(ws, e.datastore_name)\n",
    "\n",
    "output = {}\n",
    "output['SDK version'] = azureml.core.VERSION\n",
    "output['Subscription ID'] = ws.subscription_id\n",
    "output['Workspace'] = ws.name\n",
    "output['Resource Group'] = ws.resource_group\n",
    "output['Location'] = ws.location\n",
    "output['Default datastore name'] = dstore.name\n",
    "pd.set_option('display.max_colwidth', -1)\n",
    "outputDf = pd.DataFrame(data = output, index = [''])"
   ],
   "outputs": [],
   "metadata": {}
  },
  {
   "cell_type": "markdown",
   "source": [
    "## 2.0 Get models to be deployed"
   ],
   "metadata": {}
  },
  {
   "cell_type": "markdown",
   "source": [
    "### 2.1 Get models registered in the workspace that had been trained by a run"
   ],
   "metadata": {}
  },
  {
   "cell_type": "code",
   "execution_count": 4,
   "source": [
    "from azureml.core import Model\n",
    "\n",
    "info = Info(ws, e.experiment_name, os.environ.get(\"BUILDID\"))\n",
    "\n",
    "# runid = info.get_run_id()   #'aa417fa2-45ca-4060-9026-adb81b164c8a' # update the pipeline run \n",
    "runid='6dc0c1e6-3335-4278-b355-d959e9ab70ac'\n",
    "tags = [['ModelType', 'AutoML'], ['RunId', runid]]\n",
    "\n",
    "models = Model.list(ws, tags=tags, latest=True, expand=False)\n",
    "print('Got '+str(len(models))+' models from the workspace.')"
   ],
   "outputs": [
    {
     "output_type": "stream",
     "name": "stdout",
     "text": [
      "Got 10 models from the workspace.\n"
     ]
    }
   ],
   "metadata": {}
  },
  {
   "cell_type": "markdown",
   "source": [
    "### 2.2 Group models by store\n",
    "\n",
    "We will group the models by store. Therefore, each group will contain three models, one for each of the orange juice brands, and all of them corresponding to the same store.\n",
    "\n",
    "You can change the grouping strategy by modifying the `grouping_tags` variable below and specifying the names of the tags you want to use for grouping. For convenience, we have created two additional grouping tags you can use:\n",
    "- `StoreGroup10`: groups stores 10 by 10\n",
    "- `StoreGroup100`: groups stores 100 by 100\n",
    "\n",
    "To create custom tags, modify the `tags_dict` object in the [training script](scripts/train.py) and run the training again."
   ],
   "metadata": {}
  },
  {
   "cell_type": "code",
   "execution_count": 5,
   "source": [
    "grouping_tags = ['Store']"
   ],
   "outputs": [],
   "metadata": {}
  },
  {
   "cell_type": "code",
   "execution_count": 6,
   "source": [
    "grouped_models = {}\n",
    "for m in models:\n",
    "    \n",
    "    if m.tags['ModelType'] == '_meta_':\n",
    "        continue\n",
    "    \n",
    "    group_name = '/'.join([m.tags[t] for t in grouping_tags])\n",
    "    group = grouped_models.setdefault(group_name, [])\n",
    "    group.append(m)"
   ],
   "outputs": [],
   "metadata": {}
  },
  {
   "cell_type": "markdown",
   "source": [
    "## 3.0 Configure deployment"
   ],
   "metadata": {
    "scrolled": true
   }
  },
  {
   "cell_type": "markdown",
   "source": [
    "### 3.1 Define inference environment"
   ],
   "metadata": {
    "scrolled": true
   }
  },
  {
   "cell_type": "code",
   "execution_count": 7,
   "source": [
    "from scripts.helper import get_automl_environment\n",
    "forecast_env = get_automl_environment(workspace=ws, training_pipeline_run_id=runid, training_experiment_name='manymodels-training-pipeline')"
   ],
   "outputs": [],
   "metadata": {}
  },
  {
   "cell_type": "markdown",
   "source": [
    "### 3.2 Define inference configuration"
   ],
   "metadata": {}
  },
  {
   "cell_type": "code",
   "execution_count": 8,
   "source": [
    "from azureml.core.model import InferenceConfig\n",
    "\n",
    "inference_config = InferenceConfig(\n",
    "    entry_script='forecast_webservice.py',\n",
    "    source_directory='./scripts',\n",
    "    environment=forecast_env\n",
    ")"
   ],
   "outputs": [],
   "metadata": {}
  },
  {
   "cell_type": "markdown",
   "source": [
    "### 3.3 [Option A] Define deploy configuration using ACI (dev/test)\n",
    "\n",
    "Use this option to deploy the models to Azure Container Instances, indicated for dev/test environments."
   ],
   "metadata": {}
  },
  {
   "cell_type": "code",
   "execution_count": 9,
   "source": [
    "from azureml.core.webservice import AciWebservice\n",
    "\n",
    "deployment_type = 'aci'\n",
    "deployment_config = AciWebservice.deploy_configuration(cpu_cores=1, memory_gb=1)\n",
    "deployment_target = None"
   ],
   "outputs": [],
   "metadata": {}
  },
  {
   "cell_type": "markdown",
   "source": [
    "### 3.3 [Option B] Define deploy configuration using AKS (production)\n",
    "\n",
    "Use this option to deploy the models to Azure Kubernetes Services, indicated for production environments."
   ],
   "metadata": {}
  },
  {
   "cell_type": "code",
   "execution_count": 44,
   "source": [
    "# aks_target_name = 'codingforge-aks'  # aks with TLS enabled\n",
    "aks_target_name = 'coding-forge-aks'\n",
    "aks_resource_name = aks_target_name\n",
    "aks_resource_group = ws.resource_group"
   ],
   "outputs": [],
   "metadata": {}
  },
  {
   "cell_type": "code",
   "execution_count": 45,
   "source": [
    "from azureml.core.compute import AksCompute\n",
    "from azureml.core.compute import ComputeTarget\n",
    "from azureml.core.compute_target import ComputeTargetException\n",
    "\n",
    "try:\n",
    "    aks_target = AksCompute(ws, aks_target_name)\n",
    "    aks_target.provisioning_configuration().enable_ssl(leaf_domain_label=\"coding-forge\", overwrite_existing_domain=True)\n",
    "    #provisioning_config = AksCompute.provisioning_configuration()\n",
    "    #provisioning_config.enable_ssl(leaf_domain_label=\"coding-forge\")\n",
    "\n",
    "    #found_aks_cluster = True\n",
    "    print('AKS cluster already attached. Skip the optional step below and jump to \"Configure AKS\"')\n",
    "except ComputeTargetException:\n",
    "    print('AKS cluster not attached yet. Attempting to attach compute now')\n",
    "    attach_config = AksCompute.attach_configuration(\n",
    "        resource_group=aks_resource_group,\n",
    "        cluster_name=aks_resource_name\n",
    "    )\n",
    "\n",
    "    aks_target = ComputeTarget.attach(ws, aks_target_name, attach_config)\n",
    "    aks_target.wait_for_completion(show_output=True)    "
   ],
   "outputs": [
    {
     "output_type": "stream",
     "name": "stdout",
     "text": [
      "AKS cluster already attached. Skip the optional step below and jump to \"Configure AKS\"\n"
     ]
    }
   ],
   "metadata": {}
  },
  {
   "cell_type": "markdown",
   "source": [
    "#### Configure AKS"
   ],
   "metadata": {}
  },
  {
   "cell_type": "code",
   "execution_count": 46,
   "source": [
    "from azureml.core.webservice import AksWebservice\n",
    "\n",
    "deployment_type = 'aks'\n",
    "deployment_config = AksWebservice.deploy_configuration(cpu_cores=1, memory_gb=1)\n",
    "deployment_target = aks_target"
   ],
   "outputs": [],
   "metadata": {}
  },
  {
   "cell_type": "markdown",
   "source": [
    "## 4.0 Deploy the models\n",
    "\n",
    "We will now deploy one webservice for each of the groups of models. Deployment takes some minutes to complete, so we'll request all of them and then wait for them to finish."
   ],
   "metadata": {}
  },
  {
   "cell_type": "code",
   "execution_count": 47,
   "source": [
    "deployments = []\n",
    "for group_name, group_models in grouped_models.items():\n",
    "    \n",
    "    service_name = '{prefix}manymodels-{group}'.format(\n",
    "        prefix='test-' if deployment_type == 'aci' else '',\n",
    "        group=group_name\n",
    "    ).lower()\n",
    "    \n",
    "    print('Launching deployment of {}...'.format(service_name))\n",
    "    service = Model.deploy(\n",
    "        workspace=ws,\n",
    "        name=service_name,\n",
    "        models=group_models,\n",
    "        inference_config=inference_config,\n",
    "        deployment_config=deployment_config,\n",
    "        deployment_target=deployment_target,\n",
    "        overwrite=True\n",
    "    )\n",
    "    print('Deployment of {} started'.format(service_name))\n",
    "    \n",
    "    deployments.append({ 'service': service, 'group': group_name, 'models': group_models })\n",
    "    "
   ],
   "outputs": [
    {
     "output_type": "stream",
     "name": "stdout",
     "text": [
      "Launching deployment of manymodels-1001...\n",
      "Deployment of manymodels-1001 started\n",
      "Launching deployment of manymodels-1000...\n",
      "Deployment of manymodels-1000 started\n",
      "Launching deployment of manymodels-1002...\n",
      "Deployment of manymodels-1002 started\n",
      "Launching deployment of manymodels-1003...\n",
      "Deployment of manymodels-1003 started\n"
     ]
    }
   ],
   "metadata": {}
  },
  {
   "cell_type": "code",
   "execution_count": 48,
   "source": [
    "models_deployed = {}\n",
    "for deployment in deployments:\n",
    "    \n",
    "    service = deployment['service']\n",
    "    print('Waiting for deployment of {} to finish...'.format(service.name))\n",
    "    service.wait_for_deployment(show_output=True)\n",
    "    if service.state != 'Healthy':\n",
    "        print('DEPLOYMENT FAILED FOR SERVICE {}'.format(service.name))\n",
    "    \n",
    "    service_info = {\n",
    "        'webservice': service.name,\n",
    "        'state': service.state,\n",
    "        'endpoint': service.scoring_uri if service.state == 'Healthy' else None,\n",
    "        'key': service.get_keys()[0] if service.auth_enabled and service.state == 'Healthy' else None\n",
    "    }\n",
    "\n",
    "    print(\"Rolling out the deployment for service {}\".format(service.name))\n",
    "    # Store deployment info for each deployed model\n",
    "    for m in deployment['models']:\n",
    "        models_deployed[m.name] = {\n",
    "            'version': m.version,\n",
    "            'group': deployment['group'],\n",
    "            **service_info\n",
    "        }\n"
   ],
   "outputs": [
    {
     "output_type": "stream",
     "name": "stdout",
     "text": [
      "Waiting for deployment of manymodels-1001 to finish...\n",
      "Tips: You can try get_logs(): https://aka.ms/debugimage#dockerlog or local deployment: https://aka.ms/debugimage#debug-locally to debug if deployment takes longer than 10 minutes.\n",
      "SucceededAKS service creation operation finished, operation \"Succeeded\"\n",
      "Rolling out the deployment for service manymodels-1001\n",
      "Waiting for deployment of manymodels-1000 to finish...\n",
      "Tips: You can try get_logs(): https://aka.ms/debugimage#dockerlog or local deployment: https://aka.ms/debugimage#debug-locally to debug if deployment takes longer than 10 minutes.\n",
      "SucceededAKS service creation operation finished, operation \"Succeeded\"\n",
      "Rolling out the deployment for service manymodels-1000\n",
      "Waiting for deployment of manymodels-1002 to finish...\n",
      "Tips: You can try get_logs(): https://aka.ms/debugimage#dockerlog or local deployment: https://aka.ms/debugimage#debug-locally to debug if deployment takes longer than 10 minutes.\n",
      "Running\n",
      "2021-10-05 15:27:42-04:00 Creating Container Registry if not exists.\n",
      "2021-10-05 15:27:42-04:00 Registering the environment.\n",
      "2021-10-05 15:27:44-04:00 Use the existing image.\n",
      "2021-10-05 15:27:45-04:00 Creating resources in AKS.\n",
      "2021-10-05 15:27:46-04:00 Submitting deployment to compute.\n",
      "2021-10-05 15:27:46-04:00 Checking the status of deployment manymodels-1002..\n",
      "2021-10-05 15:28:08-04:00 Checking the status of inference endpoint manymodels-1002.\n",
      "Succeeded\n",
      "AKS service creation operation finished, operation \"Succeeded\"\n",
      "Rolling out the deployment for service manymodels-1002\n",
      "Waiting for deployment of manymodels-1003 to finish...\n",
      "Tips: You can try get_logs(): https://aka.ms/debugimage#dockerlog or local deployment: https://aka.ms/debugimage#debug-locally to debug if deployment takes longer than 10 minutes.\n",
      "SucceededAKS service creation operation finished, operation \"Succeeded\"\n",
      "Rolling out the deployment for service manymodels-1003\n"
     ]
    }
   ],
   "metadata": {}
  },
  {
   "cell_type": "markdown",
   "source": [
    "### 4.2 Test the webservices"
   ],
   "metadata": {}
  },
  {
   "cell_type": "markdown",
   "source": [
    "We can query for multiple models into the same request, but all of them need to be from the same store, as each endpoint only contains models corresponding to one particular store."
   ],
   "metadata": {}
  },
  {
   "cell_type": "code",
   "execution_count": 49,
   "source": [
    "from azureml.core import Datastore\n",
    "\n",
    "# Please change the following to point to your own blob container and pass in account_key\n",
    "blob_datastore_name =   e.blob_datastore_name           # \"automl_many_models\"\n",
    "container_name =        e.container_name                # \"automl-sample-notebook-data\"\n",
    "account_name =          e.account_name                  # \"automlsamplenotebookdata\"\n",
    "\n",
    "oj_datastore = Datastore.register_azure_blob_container(workspace=ws, \n",
    "                                                       datastore_name=blob_datastore_name, \n",
    "                                                       container_name=container_name,\n",
    "                                                       account_name=account_name,\n",
    "                                                       create_if_not_exists=True)"
   ],
   "outputs": [],
   "metadata": {}
  },
  {
   "cell_type": "code",
   "execution_count": 50,
   "source": [
    "from azureml.core.dataset import Dataset\n",
    "inference_name_small = 'oj_inference_small'\n",
    "\n",
    "inference_ds_small = Dataset.Tabular.from_delimited_files(path=oj_datastore.path(inference_name_small + '/'), validate=False)\n",
    "all_df = inference_ds_small.to_pandas_dataframe()"
   ],
   "outputs": [],
   "metadata": {}
  },
  {
   "cell_type": "code",
   "execution_count": 51,
   "source": [
    "from scripts.helper import get_model_name\n",
    "store = 1002\n",
    "brand = 'dominicks'\n",
    "tags_dict = {'store':store, 'brand': brand}\n",
    "model_name = get_model_name(tags_dict)"
   ],
   "outputs": [],
   "metadata": {}
  },
  {
   "cell_type": "code",
   "execution_count": 52,
   "source": [
    "dominicks_test_data = all_df.loc[(all_df['Store']==store) & (all_df['Brand']==brand)]\n",
    "print(dominicks_test_data.head(5))"
   ],
   "outputs": [
    {
     "output_type": "stream",
     "name": "stdout",
     "text": [
      "    WeekStarting  Store      Brand  Quantity  Advert  Price   Revenue\n",
      "108 1992-06-04    1002   dominicks  11957     1       2.07   24750.99\n",
      "109 1992-06-11    1002   dominicks  16608     1       2.49   41353.92\n",
      "110 1992-06-18    1002   dominicks  15073     1       2.63   39641.99\n",
      "111 1992-06-25    1002   dominicks  10881     1       2.16   23502.96\n",
      "112 1992-07-02    1002   dominicks  9384      1       2.66   24961.44\n"
     ]
    }
   ],
   "metadata": {}
  },
  {
   "cell_type": "code",
   "execution_count": 53,
   "source": [
    "dominicks_test_data_json = dominicks_test_data[:].to_json(orient='records', date_format='iso')"
   ],
   "outputs": [],
   "metadata": {}
  },
  {
   "cell_type": "code",
   "execution_count": 54,
   "source": [
    "test_data = [{\n",
    "        \"group_column_names\": ['Store', 'Brand'], # This is the same list that is passed in the training script\n",
    "        \"time_column_name\": \"WeekStarting\", # This is the same value for time_column_name that is passed in the training script\n",
    "        \"data\": dominicks_test_data_json\n",
    "    }]"
   ],
   "outputs": [],
   "metadata": {}
  },
  {
   "cell_type": "code",
   "execution_count": 55,
   "source": [
    "test_data"
   ],
   "outputs": [
    {
     "output_type": "execute_result",
     "data": {
      "text/plain": [
       "[{'group_column_names': ['Store', 'Brand'],\n",
       "  'time_column_name': 'WeekStarting',\n",
       "  'data': '[{\"WeekStarting\":\"1992-06-04T00:00:00.000Z\",\"Store\":1002,\"Brand\":\"dominicks\",\"Quantity\":11957,\"Advert\":1,\"Price\":2.07,\"Revenue\":24750.99},{\"WeekStarting\":\"1992-06-11T00:00:00.000Z\",\"Store\":1002,\"Brand\":\"dominicks\",\"Quantity\":16608,\"Advert\":1,\"Price\":2.49,\"Revenue\":41353.92},{\"WeekStarting\":\"1992-06-18T00:00:00.000Z\",\"Store\":1002,\"Brand\":\"dominicks\",\"Quantity\":15073,\"Advert\":1,\"Price\":2.63,\"Revenue\":39641.99},{\"WeekStarting\":\"1992-06-25T00:00:00.000Z\",\"Store\":1002,\"Brand\":\"dominicks\",\"Quantity\":10881,\"Advert\":1,\"Price\":2.16,\"Revenue\":23502.96},{\"WeekStarting\":\"1992-07-02T00:00:00.000Z\",\"Store\":1002,\"Brand\":\"dominicks\",\"Quantity\":9384,\"Advert\":1,\"Price\":2.66,\"Revenue\":24961.44},{\"WeekStarting\":\"1992-07-09T00:00:00.000Z\",\"Store\":1002,\"Brand\":\"dominicks\",\"Quantity\":9029,\"Advert\":1,\"Price\":1.92,\"Revenue\":17335.68},{\"WeekStarting\":\"1992-07-16T00:00:00.000Z\",\"Store\":1002,\"Brand\":\"dominicks\",\"Quantity\":14381,\"Advert\":1,\"Price\":2.28,\"Revenue\":32788.68},{\"WeekStarting\":\"1992-07-23T00:00:00.000Z\",\"Store\":1002,\"Brand\":\"dominicks\",\"Quantity\":13214,\"Advert\":1,\"Price\":2.55,\"Revenue\":33695.7},{\"WeekStarting\":\"1992-07-30T00:00:00.000Z\",\"Store\":1002,\"Brand\":\"dominicks\",\"Quantity\":12285,\"Advert\":1,\"Price\":2.53,\"Revenue\":31081.05},{\"WeekStarting\":\"1992-08-06T00:00:00.000Z\",\"Store\":1002,\"Brand\":\"dominicks\",\"Quantity\":17355,\"Advert\":1,\"Price\":2.52,\"Revenue\":43734.6},{\"WeekStarting\":\"1992-08-13T00:00:00.000Z\",\"Store\":1002,\"Brand\":\"dominicks\",\"Quantity\":13680,\"Advert\":1,\"Price\":2.34,\"Revenue\":32011.2},{\"WeekStarting\":\"1992-08-20T00:00:00.000Z\",\"Store\":1002,\"Brand\":\"dominicks\",\"Quantity\":17433,\"Advert\":1,\"Price\":2.16,\"Revenue\":37655.28},{\"WeekStarting\":\"1992-08-27T00:00:00.000Z\",\"Store\":1002,\"Brand\":\"dominicks\",\"Quantity\":9567,\"Advert\":1,\"Price\":2.38,\"Revenue\":22769.46},{\"WeekStarting\":\"1992-09-03T00:00:00.000Z\",\"Store\":1002,\"Brand\":\"dominicks\",\"Quantity\":13669,\"Advert\":1,\"Price\":2.67,\"Revenue\":36496.23},{\"WeekStarting\":\"1992-09-10T00:00:00.000Z\",\"Store\":1002,\"Brand\":\"dominicks\",\"Quantity\":9918,\"Advert\":1,\"Price\":2.41,\"Revenue\":23902.38},{\"WeekStarting\":\"1992-09-17T00:00:00.000Z\",\"Store\":1002,\"Brand\":\"dominicks\",\"Quantity\":16352,\"Advert\":1,\"Price\":2.21,\"Revenue\":36137.92},{\"WeekStarting\":\"1992-09-24T00:00:00.000Z\",\"Store\":1002,\"Brand\":\"dominicks\",\"Quantity\":11015,\"Advert\":1,\"Price\":2.33,\"Revenue\":25664.95},{\"WeekStarting\":\"1992-10-01T00:00:00.000Z\",\"Store\":1002,\"Brand\":\"dominicks\",\"Quantity\":10280,\"Advert\":1,\"Price\":2.29,\"Revenue\":23541.2}]'}]"
      ]
     },
     "metadata": {},
     "execution_count": 55
    }
   ],
   "metadata": {}
  },
  {
   "cell_type": "code",
   "execution_count": 56,
   "source": [
    "import requests\n",
    "import json\n",
    "\n",
    "try:\n",
    "    url = models_deployed[model_name]['endpoint']\n",
    "    key = models_deployed[model_name]['key']    \n",
    "except KeyError as e:\n",
    "    raise ValueError(f'Model for store {store} and brand {brand} has not been deployed')\n",
    "\n",
    "request_headers = {'Content-Type': 'application/json'}\n",
    "if key:\n",
    "    request_headers['Authorization'] = f'Bearer {key}'\n",
    "\n",
    "response = requests.post(url, json=test_data, headers=request_headers)\n",
    "# response.json() # uncomment the line to see the values returned in the response"
   ],
   "outputs": [],
   "metadata": {}
  },
  {
   "cell_type": "markdown",
   "source": [
    "## 5.0 Group all models into a single routing endpoint"
   ],
   "metadata": {}
  },
  {
   "cell_type": "markdown",
   "source": [
    "We can now group all the services into a single entry point, so that we don't have to handle each endpoint separately. \n",
    "For that, we'll register the `endpoints` object as a model, and deploy it as a webservice. This webservice will receive the incoming requests and route them to the appropiate model service, acting as the unique entry point for outside requests."
   ],
   "metadata": {}
  },
  {
   "cell_type": "markdown",
   "source": [
    "### 5.1 Register endpoints dict as an AML model"
   ],
   "metadata": {}
  },
  {
   "cell_type": "code",
   "execution_count": 57,
   "source": [
    "import joblib\n",
    "\n",
    "joblib.dump(models_deployed, 'models_deployed.pkl')\n",
    "\n",
    "dep_model = Model.register(\n",
    "    workspace=ws, \n",
    "    model_path ='models_deployed.pkl', \n",
    "    model_name='deployed_models_info',\n",
    "    tags={'ModelType': '_meta_'},\n",
    "    description='Dictionary of the service endpoint where each model is deployed'\n",
    ")"
   ],
   "outputs": [
    {
     "output_type": "stream",
     "name": "stdout",
     "text": [
      "Registering model deployed_models_info\n"
     ]
    }
   ],
   "metadata": {}
  },
  {
   "cell_type": "markdown",
   "source": [
    "### 5.2 Deploy routing webservice"
   ],
   "metadata": {}
  },
  {
   "cell_type": "code",
   "execution_count": 58,
   "source": [
    "from azureml.core import Environment\n",
    "from azureml.core.conda_dependencies import CondaDependencies\n",
    "from azureml.core.runconfig import DEFAULT_CPU_IMAGE\n",
    "routing_env = Environment(name=\"many_models_routing_environment\")\n",
    "routing_env_deps = CondaDependencies.create(pip_packages=['azureml-defaults', 'joblib', 'pandas'])\n",
    "routing_env.python.conda_dependencies = routing_env_deps\n",
    "\n",
    "routing_infconfig = InferenceConfig(\n",
    "    entry_script='routing_webservice.py',\n",
    "    source_directory='./scripts',\n",
    "    environment=routing_env\n",
    ")\n",
    "\n",
    "# Reuse deployment config with lower capacity\n",
    "deployment_config.cpu_cores = 0.1\n",
    "deployment_config.memory_gb = 0.5\n",
    "\n",
    "routing_service = Model.deploy(\n",
    "    workspace=ws,\n",
    "    name='routing-manymodels',\n",
    "    models=[dep_model],\n",
    "    inference_config=routing_infconfig,\n",
    "    deployment_config=deployment_config,\n",
    "    deployment_target=deployment_target,\n",
    "    overwrite=True\n",
    ")\n",
    "routing_service.wait_for_deployment(show_output=True)\n",
    "\n",
    "assert routing_service.state == 'Healthy'\n",
    "\n",
    "print('Routing endpoint deployed with URL: {}'.format(routing_service.scoring_uri))"
   ],
   "outputs": [
    {
     "output_type": "stream",
     "name": "stdout",
     "text": [
      "Tips: You can try get_logs(): https://aka.ms/debugimage#dockerlog or local deployment: https://aka.ms/debugimage#debug-locally to debug if deployment takes longer than 10 minutes.\n",
      "Running\n",
      "2021-10-05 15:28:34-04:00 Creating Container Registry if not exists.\n",
      "2021-10-05 15:28:34-04:00 Registering the environment..\n",
      "2021-10-05 15:29:07-04:00 Use the existing image.\n",
      "2021-10-05 15:29:08-04:00 Creating resources in AKS.\n",
      "2021-10-05 15:29:09-04:00 Submitting deployment to compute.\n",
      "2021-10-05 15:29:09-04:00 Checking the status of deployment routing-manymodels."
     ]
    }
   ],
   "metadata": {}
  },
  {
   "cell_type": "markdown",
   "source": [
    "### 5.3 Test the webservice"
   ],
   "metadata": {}
  },
  {
   "cell_type": "markdown",
   "source": [
    "This new endpoint can be called with data from different stores or brands, and it will automatically route the request to the appropiate model endpoint."
   ],
   "metadata": {}
  },
  {
   "cell_type": "code",
   "execution_count": null,
   "source": [
    "import requests\n",
    "import json\n",
    "url = routing_service.scoring_uri\n",
    "\n",
    "request_headers = {'Content-Type': 'application/json'}\n",
    "if routing_service.auth_enabled:\n",
    "    keys = routing_service.get_keys()\n",
    "    request_headers['Authorization'] = 'Bearer {}'.format(keys[0])\n",
    "\n",
    "response = requests.post(url, json=test_data, headers=request_headers)\n",
    "# response.json() # uncomment to show the response"
   ],
   "outputs": [],
   "metadata": {}
  },
  {
   "cell_type": "code",
   "execution_count": null,
   "source": [
    "response.json()"
   ],
   "outputs": [],
   "metadata": {}
  },
  {
   "cell_type": "code",
   "execution_count": null,
   "source": [
    "display(test_data)\n",
    "display(url)\n",
    "display(keys)\n",
    "display(request_headers)"
   ],
   "outputs": [],
   "metadata": {}
  },
  {
   "cell_type": "markdown",
   "source": [
    "## Clean up after running the example\n",
    "\n",
    "When you complete the tutorial you can remove all webservices create for the many models solution"
   ],
   "metadata": {}
  },
  {
   "cell_type": "code",
   "execution_count": null,
   "source": [
    "#from azureml.core import Webservice\n",
    "#for webservice in Webservice.list(ws):\n",
    "#   print('name:', webservice.name)\n",
    "#   if \"manymodels\" in webservice.name:\n",
    "#       Webservice(ws, name = webservice.name).delete()"
   ],
   "outputs": [
    {
     "output_type": "stream",
     "name": "stdout",
     "text": [
      "name: manymodels-1003\n",
      "name: manymodels-1002\n",
      "name: manymodels-1000\n",
      "name: manymodels-1001\n"
     ]
    }
   ],
   "metadata": {}
  }
 ],
 "metadata": {
  "authors": [
   {
    "name": "deeptim"
   }
  ],
  "kernelspec": {
   "name": "python3",
   "display_name": "Python 3.7.11 64-bit ('azureml': conda)"
  },
  "language_info": {
   "codemirror_mode": {
    "name": "ipython",
    "version": 3
   },
   "file_extension": ".py",
   "mimetype": "text/x-python",
   "name": "python",
   "nbconvert_exporter": "python",
   "pygments_lexer": "ipython3",
   "version": "3.7.11"
  },
  "interpreter": {
   "hash": "fc0fb121d752cced448f43b2f303c42132b78d669142cc103b5afd06e57e136b"
  }
 },
 "nbformat": 4,
 "nbformat_minor": 2
}