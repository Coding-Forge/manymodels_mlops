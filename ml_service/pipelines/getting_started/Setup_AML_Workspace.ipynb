{
 "cells": [
  {
   "cell_type": "markdown",
   "metadata": {},
   "source": [
    "Copyright (c) Microsoft Corporation. All rights reserved.\n",
    "\n",
    "Licensed under the MIT License."
   ]
  },
  {
   "cell_type": "markdown",
   "metadata": {},
   "source": [
    "# Setup AML Workspace\n",
    "---\n",
    "\n",
    "This notebook walks you through all the necessary steps to configure your environment for this solution accelerator including:\n",
    "\n",
    "1. Setting the path to the utils folder to take advantage of environment variables\n",
    "2. Connecting to your workspace \n",
    "3. Create a config.json (this can be skipped if running on an AML compute instance)\n",
    "4. Create a compute cluster\n"
   ]
  },
  {
   "cell_type": "markdown",
   "metadata": {},
   "source": [
    "## Environment Variable\n",
    "\n",
    "This will allow the user or operations to set environment variables on the local compute or the build agent. This way values can be changed simply by using the name of the environment variable and replacing it with a new value whether that occurs locally or while deploying through Operations.\n",
    "\n",
    "[NOTE] If you change values in the .env file you must close and re-open your IDE. This is necessary because the values in the .env file are set on open. Similarly, if you change values on the compute you will have to restart terminal. If you are using Linux or Mac you can restart your bash by executing `source ~/.bashrc`.\n"
   ]
  },
  {
   "cell_type": "code",
   "execution_count": 1,
   "metadata": {},
   "outputs": [
    {
     "name": "stderr",
     "output_type": "stream",
     "text": [
      "Failure while loading azureml_run_type_providers. Failed to load entrypoint hyperdrive = azureml.train.hyperdrive:HyperDriveRun._from_run_dto with exception (cryptography 2.9.2 (/home/brandon/miniconda3/envs/azureml/lib/python3.7/site-packages), Requirement.parse('cryptography>=3.2'), {'pyopenssl', 'PyOpenSSL'}).\n",
      "Failure while loading azureml_run_type_providers. Failed to load entrypoint automl = azureml.train.automl.run:AutoMLRun._from_run_dto with exception (cryptography 2.9.2 (/home/brandon/miniconda3/envs/azureml/lib/python3.7/site-packages), Requirement.parse('cryptography>=3.2'), {'pyopenssl', 'PyOpenSSL'}).\n",
      "Failure while loading azureml_run_type_providers. Failed to load entrypoint azureml.PipelineRun = azureml.pipeline.core.run:PipelineRun._from_dto with exception (cryptography 2.9.2 (/home/brandon/miniconda3/envs/azureml/lib/python3.7/site-packages), Requirement.parse('cryptography>=3.2'), {'pyopenssl', 'PyOpenSSL'}).\n",
      "Failure while loading azureml_run_type_providers. Failed to load entrypoint azureml.ReusedStepRun = azureml.pipeline.core.run:StepRun._from_reused_dto with exception (cryptography 2.9.2 (/home/brandon/miniconda3/envs/azureml/lib/python3.7/site-packages), Requirement.parse('cryptography>=3.2'), {'pyopenssl', 'PyOpenSSL'}).\n",
      "Failure while loading azureml_run_type_providers. Failed to load entrypoint azureml.StepRun = azureml.pipeline.core.run:StepRun._from_dto with exception (cryptography 2.9.2 (/home/brandon/miniconda3/envs/azureml/lib/python3.7/site-packages), Requirement.parse('cryptography>=3.2'), {'pyopenssl', 'PyOpenSSL'}).\n",
      "Failure while loading azureml_run_type_providers. Failed to load entrypoint azureml.scriptrun = azureml.core.script_run:ScriptRun._from_run_dto with exception (cryptography 2.9.2 (/home/brandon/miniconda3/envs/azureml/lib/python3.7/site-packages), Requirement.parse('cryptography>=3.2'), {'pyopenssl', 'PyOpenSSL'}).\n"
     ]
    }
   ],
   "source": [
    "import sys\n",
    "sys.path.append(\"../../\")\n",
    "\n",
    "from utils.env_variables import Env\n",
    "from utils.aml_workspace import Connect\n",
    "e=Env()"
   ]
  },
  {
   "cell_type": "markdown",
   "metadata": {},
   "source": [
    "## 1.0 Connect to workspace\n",
    "\n",
    "Connect this solution accelerator to your AML workspace. This step isn't necessary if you're using a Notebook VM.\n",
    "\n",
    "The following cell allows you to specify your workspace parameters. This cell uses the python method os.getenv to read values from environment variables which is useful for automation. If no environment variable exists, the parameters will be set to the specified default values."
   ]
  },
  {
   "cell_type": "code",
   "execution_count": 2,
   "metadata": {},
   "outputs": [],
   "source": [
    "%load_ext dotenv\n",
    "import os\n",
    "\n",
    "subscription_id = e.subscription_id\n",
    "resource_group = e.resource_group\n",
    "workspace_name = e.workspace_name\n",
    "workspace_region = e.workspace_region"
   ]
  },
  {
   "cell_type": "code",
   "execution_count": 3,
   "metadata": {},
   "outputs": [
    {
     "name": "stderr",
     "output_type": "stream",
     "text": [
      "Warning: Falling back to use azure cli login credentials.\n",
      "If you run your code in unattended mode, i.e., where you can't give a user input, then we recommend to use ServicePrincipalAuthentication or MsiAuthentication.\n",
      "Please refer to aka.ms/aml-notebook-auth for different authentication mechanisms in azureml-sdk.\n"
     ]
    },
    {
     "name": "stdout",
     "output_type": "stream",
     "text": [
      "Workspace configuration succeeded. Skip the workspace creation steps below\n"
     ]
    }
   ],
   "source": [
    "from azureml.core import Workspace\n",
    "\n",
    "try:\n",
    "    connect = Connect()\n",
    "    ws = connect.authenticate()\n",
    "    print(\"Workspace configuration succeeded. Skip the workspace creation steps below\")\n",
    "except:\n",
    "    print(\"Workspace does not exist. Creating workspace\")\n",
    "    ws = Workspace.create(name=workspace_name, subscription_id=subscription_id, resource_group=resource_group,\n",
    "                            location=workspace_region, create_resource_group=True, sku='enterprise', exist_ok=True)"
   ]
  },
  {
   "cell_type": "code",
   "execution_count": 4,
   "metadata": {},
   "outputs": [
    {
     "data": {
      "text/plain": [
       "{'id': '/subscriptions/af3877c2-18a2-4ce2-b67c-a8e21e968128/resourceGroups/coding-forge-rg/providers/Microsoft.MachineLearningServices/workspaces/coding-forge-ml-ws',\n",
       " 'name': 'coding-forge-ml-ws',\n",
       " 'identity': {'principal_id': '62dda26f-3571-42bf-8c44-ccb3db7f889b',\n",
       "  'tenant_id': '72f988bf-86f1-41af-91ab-2d7cd011db47',\n",
       "  'type': 'SystemAssigned'},\n",
       " 'location': 'eastus',\n",
       " 'type': 'Microsoft.MachineLearningServices/workspaces',\n",
       " 'tags': {'Created By': 'brandon campbell',\n",
       "  'contact': 'brandon.campbell@microsoft.com',\n",
       "  'phone': '770.853.0352'},\n",
       " 'sku': 'Basic',\n",
       " 'workspaceid': 'e057c1f8-0319-435b-92cd-84642f9e37d5',\n",
       " 'sdkTelemetryAppInsightsKey': 'f5784ccd-178d-4ecc-9998-b05841b44ae9',\n",
       " 'description': '',\n",
       " 'friendlyName': 'coding-forge-ml-ws',\n",
       " 'creationTime': '2021-09-01T12:30:38.7634249+00:00',\n",
       " 'containerRegistry': '/subscriptions/af3877c2-18a2-4ce2-b67c-a8e21e968128/resourcegroups/coding-forge-rg/providers/microsoft.containerregistry/registries/codingforgeacr',\n",
       " 'keyVault': '/subscriptions/af3877c2-18a2-4ce2-b67c-a8e21e968128/resourcegroups/coding-forge-rg/providers/microsoft.keyvault/vaults/codingforgekv',\n",
       " 'applicationInsights': '/subscriptions/af3877c2-18a2-4ce2-b67c-a8e21e968128/resourcegroups/coding-forge-rg/providers/microsoft.insights/components/codingforgeai',\n",
       " 'storageAccount': '/subscriptions/af3877c2-18a2-4ce2-b67c-a8e21e968128/resourcegroups/coding-forge-rg/providers/microsoft.storage/storageaccounts/codingforgesa',\n",
       " 'hbiWorkspace': False,\n",
       " 'allowPublicAccessWhenBehindVnet': False,\n",
       " 'provisioningState': 'Succeeded',\n",
       " 'imageBuildCompute': '',\n",
       " 'discoveryUrl': 'https://eastus.api.azureml.ms/discovery',\n",
       " 'notebookInfo': {'fqdn': 'ml-coding-forge-ml--eastus-e057c1f8-0319-435b-92cd-84642f9e37d5.notebooks.azure.net',\n",
       "  'resource_id': '83a76f94073e4e25a7d8cd7ad4e30bc1'}}"
      ]
     },
     "execution_count": 4,
     "metadata": {},
     "output_type": "execute_result"
    }
   ],
   "source": [
    "ws.get_details()"
   ]
  },
  {
   "cell_type": "markdown",
   "metadata": {},
   "source": [
    "## 2.0 Write config file\n",
    "Write the details of the workspace to a config.json file:"
   ]
  },
  {
   "cell_type": "code",
   "execution_count": 6,
   "metadata": {},
   "outputs": [],
   "source": [
    "from azureml.core import Workspace\n",
    "#ws = Workspace.from_config()\n",
    "ws.write_config()"
   ]
  },
  {
   "cell_type": "markdown",
   "metadata": {},
   "source": [
    "## 3.0 Create compute cluster\n",
    "\n",
    "You will need a compute cluster for training and batch forecasting.\n",
    "This is a one-time set up so you won't need to re-run this in future notebooks, but you'll need to use the same cluster name to reference this cluster in following notebooks."
   ]
  },
  {
   "cell_type": "code",
   "execution_count": 7,
   "metadata": {},
   "outputs": [],
   "source": [
    "# Choose a name for your CPU cluster\n",
    "cpu_cluster_name = \"gpu-clusters\" # e.compute_name"
   ]
  },
  {
   "cell_type": "markdown",
   "metadata": {},
   "source": [
    "We create a STANDARD_D13_V2 compute cluster. D-series VMs are used for tasks that require higher compute power and temporary disk performance. This [page](https://docs.microsoft.com/azure/cloud-services/cloud-services-sizes-specs) will give you more information on VM sizes to help you decide which will best fit your use case."
   ]
  },
  {
   "cell_type": "code",
   "execution_count": 8,
   "metadata": {},
   "outputs": [
    {
     "name": "stdout",
     "output_type": "stream",
     "text": [
      "InProgress...\n",
      "SucceededProvisioning operation finished, operation \"Succeeded\"\n",
      "Succeeded\n",
      "AmlCompute wait for completion finished\n",
      "\n",
      "Minimum number of nodes requested have been provisioned\n"
     ]
    }
   ],
   "source": [
    "from azureml.core.compute import ComputeTarget, AmlCompute\n",
    "from azureml.core.compute_target import ComputeTargetException\n",
    "\n",
    "# Verify that cluster does not exist already\n",
    "try:\n",
    "    cpu_cluster = ComputeTarget(workspace=ws, name=cpu_cluster_name)\n",
    "    print('Found an existing cluster, using it instead.')\n",
    "except ComputeTargetException:\n",
    "    compute_config = AmlCompute.provisioning_configuration(vm_size=\"STANDARD_NC6\",\n",
    "                                                           min_nodes=e.min_nodes,\n",
    "                                                           max_nodes=e.max_nodes)\n",
    "    cpu_cluster = ComputeTarget.create(ws, cpu_cluster_name, compute_config)\n",
    "    cpu_cluster.wait_for_completion(show_output=True)"
   ]
  },
  {
   "cell_type": "markdown",
   "metadata": {},
   "source": [
    "## Next Steps\n",
    "\n",
    "Now that the AML Workspace its configured, it's time to create the sample datasets. Follow the steps in [01_Data_Preparation.ipynb](01_Data_Preparation.ipynb) for that."
   ]
  }
 ],
 "metadata": {
  "authors": [
   {
    "name": "roastala"
   }
  ],
  "interpreter": {
   "hash": "3fec610cbb67958716dc318121910cfa04ded6f5645ced1eebbb9789e5469472"
  },
  "kernelspec": {
   "display_name": "Python 3.7.11 64-bit ('azureml': conda)",
   "name": "python3"
  },
  "language_info": {
   "codemirror_mode": {
    "name": "ipython",
    "version": 3
   },
   "file_extension": ".py",
   "mimetype": "text/x-python",
   "name": "python",
   "nbconvert_exporter": "python",
   "pygments_lexer": "ipython3",
   "version": "3.7.11"
  }
 },
 "nbformat": 4,
 "nbformat_minor": 4
}
