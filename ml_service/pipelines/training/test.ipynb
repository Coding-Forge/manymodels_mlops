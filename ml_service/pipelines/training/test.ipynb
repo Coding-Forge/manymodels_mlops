{
 "cells": [
  {
   "cell_type": "markdown",
   "source": [
    "# Trying to move this"
   ],
   "metadata": {}
  },
  {
   "cell_type": "code",
   "execution_count": 2,
   "source": [
    "import os\n",
    "print(f'this is the working directory: {os.getcwd()}')\n"
   ],
   "outputs": [
    {
     "output_type": "stream",
     "name": "stdout",
     "text": [
      "this is the working directory: /home/brandon/projects/aml/mm/ml_service/pipelines/training\n"
     ]
    }
   ],
   "metadata": {}
  },
  {
   "cell_type": "markdown",
   "source": [
    "## did this complete"
   ],
   "metadata": {}
  },
  {
   "cell_type": "code",
   "execution_count": 3,
   "source": [
    "print(\"completed\")"
   ],
   "outputs": [
    {
     "output_type": "stream",
     "name": "stdout",
     "text": [
      "completed\n"
     ]
    }
   ],
   "metadata": {}
  }
 ],
 "metadata": {
  "orig_nbformat": 4,
  "language_info": {
   "name": "python",
   "version": "3.7.11",
   "mimetype": "text/x-python",
   "codemirror_mode": {
    "name": "ipython",
    "version": 3
   },
   "pygments_lexer": "ipython3",
   "nbconvert_exporter": "python",
   "file_extension": ".py"
  },
  "kernelspec": {
   "name": "python3",
   "display_name": "Python 3.7.11 64-bit ('azureml': conda)"
  },
  "interpreter": {
   "hash": "fc0fb121d752cced448f43b2f303c42132b78d669142cc103b5afd06e57e136b"
  }
 },
 "nbformat": 4,
 "nbformat_minor": 2
}