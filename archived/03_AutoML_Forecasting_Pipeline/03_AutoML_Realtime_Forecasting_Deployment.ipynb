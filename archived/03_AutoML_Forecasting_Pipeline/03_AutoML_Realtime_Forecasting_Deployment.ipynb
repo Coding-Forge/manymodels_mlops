{
 "cells": [
  {
   "cell_type": "markdown",
   "source": [
    "Copyright (c) Microsoft Corporation. All rights reserved.\n",
    "\n",
    "Licensed under the MIT License."
   ],
   "metadata": {}
  },
  {
   "cell_type": "markdown",
   "source": [
    "![Impressions](https://PixelServer20190423114238.azurewebsites.net/api/impressions/MachineLearningNotebooks/how-to-use-azureml/automated-machine-learning/manymodels/03_Forecasting/03_Forecasting_Pipeline.png)"
   ],
   "metadata": {}
  },
  {
   "cell_type": "markdown",
   "source": [
    "# Real-time Forecasting Webservice Deployment - Automated ML\n",
    "---\n",
    "\n",
    "In this notebook we deploy multiple webservices to forecast sales in real-time with the models we trained in the last step.\n",
    "\n",
    "Models are grouped based on their tags and each group is deployed together to the same webservice. You can customize your grouping strategy by simply playing with the model tags. \n",
    "\n",
    "### Prerequisites \n",
    "At this point, you should have already: \n",
    "1. Created your AML Workspace using the [00_Setup_AML_Workspace notebook](../../00_Setup_AML_Workspace.ipynb)\n",
    "2. Run [01_Data_Preparation.ipynb](../../01_Data_Preparation.ipynb) to create the dataset\n",
    "3. Run [02_AutoML_Training_Pipeline.ipynb](../02_AutoML_Training_Pipeline/02_AutoML_Training_Pipeline.ipynb) to train the models"
   ],
   "metadata": {}
  },
  {
   "cell_type": "markdown",
   "source": [
    "## 1.0 Connect to workspace"
   ],
   "metadata": {}
  },
  {
   "cell_type": "code",
   "execution_count": 3,
   "source": [
    "import azureml.core\n",
    "from azureml.core import Workspace, Datastore\n",
    "import pandas as pd\n",
    "import os\n",
    "import sys\n",
    "\n",
    "sys.path.append(\"..\")\n",
    "\n",
    "from ml_service.utils.pipeline_info import Info\n",
    "from ml_service.utils.env_variables import Env\n",
    "\n",
    "# set up workspace\n",
    "# ws=Workspace.from_config()\n",
    "\n",
    "ws = Workspace.get(\n",
    "    name=os.environ.get(\"WORKSPACE\"),\n",
    "    subscription_id=os.environ.get(\"SUBSCRIPTION\"),\n",
    "    resource_group=os.environ.get(\"RG\"),\n",
    ")\n",
    "\n",
    "# Get the variables defined in config file .env\n",
    "e=Env()\n",
    "\n",
    "# Take a look at Workspace\n",
    "ws.get_details()\n",
    "\n",
    "# set up datastores\n",
    "dstore = Datastore.get(ws, e.datastore_name)\n",
    "\n",
    "output = {}\n",
    "output['SDK version'] = azureml.core.VERSION\n",
    "output['Subscription ID'] = ws.subscription_id\n",
    "output['Workspace'] = ws.name\n",
    "output['Resource Group'] = ws.resource_group\n",
    "output['Location'] = ws.location\n",
    "output['Default datastore name'] = dstore.name\n",
    "pd.set_option('display.max_colwidth', -1)\n",
    "outputDf = pd.DataFrame(data = output, index = [''])"
   ],
   "outputs": [
    {
     "output_type": "error",
     "ename": "ModuleNotFoundError",
     "evalue": "No module named 'ml_service'",
     "traceback": [
      "\u001b[0;31m---------------------------------------------------------------------------\u001b[0m",
      "\u001b[0;31mModuleNotFoundError\u001b[0m                       Traceback (most recent call last)",
      "\u001b[0;32m<ipython-input-3-6b3f5db2d384>\u001b[0m in \u001b[0;36m<module>\u001b[0;34m\u001b[0m\n\u001b[1;32m      7\u001b[0m \u001b[0msys\u001b[0m\u001b[0;34m.\u001b[0m\u001b[0mpath\u001b[0m\u001b[0;34m.\u001b[0m\u001b[0mappend\u001b[0m\u001b[0;34m(\u001b[0m\u001b[0;34m\"..\"\u001b[0m\u001b[0;34m)\u001b[0m\u001b[0;34m\u001b[0m\u001b[0;34m\u001b[0m\u001b[0m\n\u001b[1;32m      8\u001b[0m \u001b[0;34m\u001b[0m\u001b[0m\n\u001b[0;32m----> 9\u001b[0;31m \u001b[0;32mfrom\u001b[0m \u001b[0mml_service\u001b[0m\u001b[0;34m.\u001b[0m\u001b[0mutils\u001b[0m\u001b[0;34m.\u001b[0m\u001b[0mpipeline_info\u001b[0m \u001b[0;32mimport\u001b[0m \u001b[0mInfo\u001b[0m\u001b[0;34m\u001b[0m\u001b[0;34m\u001b[0m\u001b[0m\n\u001b[0m\u001b[1;32m     10\u001b[0m \u001b[0;32mfrom\u001b[0m \u001b[0mml_service\u001b[0m\u001b[0;34m.\u001b[0m\u001b[0mutils\u001b[0m\u001b[0;34m.\u001b[0m\u001b[0menv_variables\u001b[0m \u001b[0;32mimport\u001b[0m \u001b[0mEnv\u001b[0m\u001b[0;34m\u001b[0m\u001b[0;34m\u001b[0m\u001b[0m\n\u001b[1;32m     11\u001b[0m \u001b[0;34m\u001b[0m\u001b[0m\n",
      "\u001b[0;31mModuleNotFoundError\u001b[0m: No module named 'ml_service'"
     ]
    }
   ],
   "metadata": {}
  },
  {
   "cell_type": "markdown",
   "source": [
    "## 2.0 Get models to be deployed"
   ],
   "metadata": {}
  },
  {
   "cell_type": "markdown",
   "source": [
    "### 2.1 Get models registered in the workspace that had been trained by a run"
   ],
   "metadata": {}
  },
  {
   "cell_type": "code",
   "execution_count": null,
   "source": [
    "from azureml.core import Model\n",
    "\n",
    "info = Info(ws, e.experiment_name, 156)\n",
    "\n",
    "runid = info.get_run_id()   #'aa417fa2-45ca-4060-9026-adb81b164c8a' # update the pipeline run \n",
    "tags = [['ModelType', 'AutoML'], ['RunId', runid]]\n",
    "\n",
    "models = Model.list(ws, tags=tags, latest=True)\n",
    "print('Got '+str(len(models))+' models from the workspace.')"
   ],
   "outputs": [],
   "metadata": {}
  },
  {
   "cell_type": "markdown",
   "source": [
    "### 2.2 Group models by store\n",
    "\n",
    "We will group the models by store. Therefore, each group will contain three models, one for each of the orange juice brands, and all of them corresponding to the same store.\n",
    "\n",
    "You can change the grouping strategy by modifying the `grouping_tags` variable below and specifying the names of the tags you want to use for grouping. For convenience, we have created two additional grouping tags you can use:\n",
    "- `StoreGroup10`: groups stores 10 by 10\n",
    "- `StoreGroup100`: groups stores 100 by 100\n",
    "\n",
    "To create custom tags, modify the `tags_dict` object in the [training script](scripts/train.py) and run the training again."
   ],
   "metadata": {}
  },
  {
   "cell_type": "code",
   "execution_count": null,
   "source": [
    "grouping_tags = ['Store']"
   ],
   "outputs": [],
   "metadata": {}
  },
  {
   "cell_type": "code",
   "execution_count": null,
   "source": [
    "grouped_models = {}\n",
    "for m in models:\n",
    "    \n",
    "    if m.tags['ModelType'] == '_meta_':\n",
    "        continue\n",
    "    \n",
    "    group_name = '/'.join([m.tags[t] for t in grouping_tags])\n",
    "    group = grouped_models.setdefault(group_name, [])\n",
    "    group.append(m)"
   ],
   "outputs": [],
   "metadata": {}
  },
  {
   "cell_type": "markdown",
   "source": [
    "## 3.0 Configure deployment"
   ],
   "metadata": {
    "scrolled": true
   }
  },
  {
   "cell_type": "markdown",
   "source": [
    "### 3.1 Define inference environment"
   ],
   "metadata": {
    "scrolled": true
   }
  },
  {
   "cell_type": "code",
   "execution_count": null,
   "source": [
    "from scripts.helper import get_automl_environment\n",
    "forecast_env = get_automl_environment(workspace=ws, training_pipeline_run_id=runid, training_experiment_name='manymodels-training-pipeline')"
   ],
   "outputs": [],
   "metadata": {}
  },
  {
   "cell_type": "markdown",
   "source": [
    "### 3.2 Define inference configuration"
   ],
   "metadata": {}
  },
  {
   "cell_type": "code",
   "execution_count": null,
   "source": [
    "from azureml.core.model import InferenceConfig\n",
    "\n",
    "inference_config = InferenceConfig(\n",
    "    entry_script='forecast_webservice.py',\n",
    "    source_directory='./scripts',\n",
    "    environment=forecast_env\n",
    ")"
   ],
   "outputs": [],
   "metadata": {}
  },
  {
   "cell_type": "markdown",
   "source": [
    "### 3.3 [Option A] Define deploy configuration using ACI (dev/test)\n",
    "\n",
    "Use this option to deploy the models to Azure Container Instances, indicated for dev/test environments."
   ],
   "metadata": {}
  },
  {
   "cell_type": "code",
   "execution_count": null,
   "source": [
    "from azureml.core.webservice import AciWebservice\n",
    "\n",
    "deployment_type = 'aci'\n",
    "deployment_config = AciWebservice.deploy_configuration(cpu_cores=1, memory_gb=1)\n",
    "deployment_target = None"
   ],
   "outputs": [],
   "metadata": {}
  },
  {
   "cell_type": "markdown",
   "source": [
    "### 3.3 [Option B] Define deploy configuration using AKS (production)\n",
    "\n",
    "Use this option to deploy the models to Azure Kubernetes Services, indicated for production environments."
   ],
   "metadata": {}
  },
  {
   "cell_type": "code",
   "execution_count": null,
   "source": [
    "aks_target_name = 'coding-forge-aks'\n",
    "aks_resource_name = aks_target_name\n",
    "aks_resource_group = ws.resource_group"
   ],
   "outputs": [],
   "metadata": {}
  },
  {
   "cell_type": "code",
   "execution_count": null,
   "source": [
    "from azureml.core.compute import AksCompute\n",
    "from azureml.core.compute import ComputeTarget\n",
    "from azureml.core.compute_target import ComputeTargetException\n",
    "\n",
    "try:\n",
    "    aks_target = AksCompute(ws, aks_target_name)\n",
    "    found_aks_cluster = True\n",
    "    print('AKS cluster already attached. Skip the optional step below and jump to \"Configure AKS\"')\n",
    "except ComputeTargetException:\n",
    "    print('AKS cluster not attached yet. Attempting to attach compute now')\n",
    "    attach_config = AksCompute.attach_configuration(\n",
    "        resource_group=aks_resource_group,\n",
    "        cluster_name=aks_resource_name\n",
    "    )\n",
    "\n",
    "    aks_target = ComputeTarget.attach(ws, aks_target_name, attach_config)\n",
    "    aks_target.wait_for_completion(show_output=True)    "
   ],
   "outputs": [],
   "metadata": {}
  },
  {
   "cell_type": "markdown",
   "source": [
    "#### [Optional] Attach AKS cluster\n",
    "\n",
    "Attach existing AKS cluster as Compute Target in Azure Machine Learning. This needs to be run only the first time."
   ],
   "metadata": {}
  },
  {
   "cell_type": "markdown",
   "source": [
    "#### Configure AKS"
   ],
   "metadata": {}
  },
  {
   "cell_type": "code",
   "execution_count": null,
   "source": [
    "from azureml.core.webservice import AksWebservice\n",
    "\n",
    "deployment_type = 'aks'\n",
    "deployment_config = AksWebservice.deploy_configuration(cpu_cores=1, memory_gb=1)\n",
    "deployment_target = aks_target"
   ],
   "outputs": [],
   "metadata": {}
  },
  {
   "cell_type": "markdown",
   "source": [
    "## 4.0 Deploy the models\n",
    "\n",
    "We will now deploy one webservice for each of the groups of models. Deployment takes some minutes to complete, so we'll request all of them and then wait for them to finish."
   ],
   "metadata": {}
  },
  {
   "cell_type": "code",
   "execution_count": null,
   "source": [
    "deployments = []\n",
    "for group_name, group_models in grouped_models.items():\n",
    "    \n",
    "    service_name = '{prefix}manymodels-{group}'.format(\n",
    "        prefix='test-' if deployment_type == 'aci' else '',\n",
    "        group=group_name\n",
    "    ).lower()\n",
    "    \n",
    "    print('Launching deployment of {}...'.format(service_name))\n",
    "    service = Model.deploy(\n",
    "        workspace=ws,\n",
    "        name=service_name,\n",
    "        models=group_models,\n",
    "        inference_config=inference_config,\n",
    "        deployment_config=deployment_config,\n",
    "        deployment_target=deployment_target,\n",
    "        overwrite=True\n",
    "    )\n",
    "    print('Deployment of {} started'.format(service_name))\n",
    "    \n",
    "    deployments.append({ 'service': service, 'group': group_name, 'models': group_models })\n",
    "    "
   ],
   "outputs": [],
   "metadata": {}
  },
  {
   "cell_type": "code",
   "execution_count": null,
   "source": [
    "models_deployed = {}\n",
    "for deployment in deployments:\n",
    "    \n",
    "    service = deployment['service']\n",
    "    print('Waiting for deployment of {} to finish...'.format(service.name))\n",
    "    service.wait_for_deployment(show_output=True)\n",
    "    if service.state != 'Healthy':\n",
    "        print('DEPLOYMENT FAILED FOR SERVICE {}'.format(service.name))\n",
    "    \n",
    "    service_info = {\n",
    "        'webservice': service.name,\n",
    "        'state': service.state,\n",
    "        'endpoint': service.scoring_uri if service.state == 'Healthy' else None,\n",
    "        'key': service.get_keys()[0] if service.auth_enabled and service.state == 'Healthy' else None\n",
    "    }\n",
    "\n",
    "    # Store deployment info for each deployed model\n",
    "    for m in deployment['models']:\n",
    "        models_deployed[m.name] = {\n",
    "            'version': m.version,\n",
    "            'group': deployment['group'],\n",
    "            **service_info\n",
    "        }\n"
   ],
   "outputs": [],
   "metadata": {}
  },
  {
   "cell_type": "markdown",
   "source": [
    "### 4.2 Test the webservices"
   ],
   "metadata": {}
  },
  {
   "cell_type": "markdown",
   "source": [
    "We can query for multiple models into the same request, but all of them need to be from the same store, as each endpoint only contains models corresponding to one particular store."
   ],
   "metadata": {}
  },
  {
   "cell_type": "code",
   "execution_count": null,
   "source": [
    "from azureml.core import Datastore\n",
    "\n",
    "# Please change the following to point to your own blob container and pass in account_key\n",
    "blob_datastore_name = \"automl_many_models\"\n",
    "container_name = \"automl-sample-notebook-data\"\n",
    "account_name =  \"automlsamplenotebookdata\"\n",
    "\n",
    "oj_datastore = Datastore.register_azure_blob_container(workspace=ws, \n",
    "                                                       datastore_name=blob_datastore_name, \n",
    "                                                       container_name=container_name,\n",
    "                                                       account_name=account_name,\n",
    "                                                       create_if_not_exists=True)"
   ],
   "outputs": [],
   "metadata": {}
  },
  {
   "cell_type": "code",
   "execution_count": null,
   "source": [
    "from azureml.core.dataset import Dataset\n",
    "inference_name_small = 'oj_inference_small'\n",
    "\n",
    "inference_ds_small = Dataset.Tabular.from_delimited_files(path=oj_datastore.path(inference_name_small + '/'), validate=False)\n",
    "all_df = inference_ds_small.to_pandas_dataframe()"
   ],
   "outputs": [],
   "metadata": {}
  },
  {
   "cell_type": "code",
   "execution_count": null,
   "source": [
    "from scripts.helper import get_model_name\n",
    "store = 1002\n",
    "brand = 'dominicks'\n",
    "tags_dict = {'store':store, 'brand': brand}\n",
    "model_name = get_model_name(tags_dict)"
   ],
   "outputs": [],
   "metadata": {}
  },
  {
   "cell_type": "code",
   "execution_count": null,
   "source": [
    "dominicks_test_data = all_df.loc[(all_df['Store']==store) & (all_df['Brand']==brand)]\n",
    "print(dominicks_test_data.head(5))"
   ],
   "outputs": [],
   "metadata": {}
  },
  {
   "cell_type": "code",
   "execution_count": null,
   "source": [
    "dominicks_test_data_json = dominicks_test_data[:].to_json(orient='records', date_format='iso')"
   ],
   "outputs": [],
   "metadata": {}
  },
  {
   "cell_type": "code",
   "execution_count": null,
   "source": [
    "test_data = [{\n",
    "        \"group_column_names\": ['Store', 'Brand'], # This is the same list that is passed in the training script\n",
    "        \"time_column_name\": \"WeekStarting\", # This is the same value for time_column_name that is passed in the training script\n",
    "        \"data\": dominicks_test_data_json\n",
    "    }]"
   ],
   "outputs": [],
   "metadata": {}
  },
  {
   "cell_type": "code",
   "execution_count": null,
   "source": [
    "test_data"
   ],
   "outputs": [],
   "metadata": {}
  },
  {
   "cell_type": "code",
   "execution_count": null,
   "source": [
    "import requests\n",
    "import json\n",
    "\n",
    "try:\n",
    "    url = models_deployed[model_name]['endpoint']\n",
    "    key = models_deployed[model_name]['key']    \n",
    "except KeyError as e:\n",
    "    raise ValueError(f'Model for store {store} and brand {brand} has not been deployed')\n",
    "\n",
    "request_headers = {'Content-Type': 'application/json'}\n",
    "if key:\n",
    "    request_headers['Authorization'] = f'Bearer {key}'\n",
    "\n",
    "response = requests.post(url, json=test_data, headers=request_headers)\n",
    "# response.json() # uncomment the line to see the values returned in the response"
   ],
   "outputs": [],
   "metadata": {}
  },
  {
   "cell_type": "markdown",
   "source": [
    "## 5.0 Group all models into a single routing endpoint"
   ],
   "metadata": {}
  },
  {
   "cell_type": "markdown",
   "source": [
    "We can now group all the services into a single entry point, so that we don't have to handle each endpoint separately. \n",
    "For that, we'll register the `endpoints` object as a model, and deploy it as a webservice. This webservice will receive the incoming requests and route them to the appropiate model service, acting as the unique entry point for outside requests."
   ],
   "metadata": {}
  },
  {
   "cell_type": "markdown",
   "source": [
    "### 5.1 Register endpoints dict as an AML model"
   ],
   "metadata": {}
  },
  {
   "cell_type": "code",
   "execution_count": null,
   "source": [
    "import joblib\n",
    "\n",
    "joblib.dump(models_deployed, 'models_deployed.pkl')\n",
    "\n",
    "dep_model = Model.register(\n",
    "    workspace=ws, \n",
    "    model_path ='models_deployed.pkl', \n",
    "    model_name='deployed_models_info',\n",
    "    tags={'ModelType': '_meta_'},\n",
    "    description='Dictionary of the service endpoint where each model is deployed'\n",
    ")"
   ],
   "outputs": [],
   "metadata": {}
  },
  {
   "cell_type": "markdown",
   "source": [
    "### 5.2 Deploy routing webservice"
   ],
   "metadata": {}
  },
  {
   "cell_type": "code",
   "execution_count": null,
   "source": [
    "from azureml.core import Environment\n",
    "from azureml.core.conda_dependencies import CondaDependencies\n",
    "from azureml.core.runconfig import DEFAULT_CPU_IMAGE\n",
    "routing_env = Environment(name=\"many_models_routing_environment\")\n",
    "routing_env_deps = CondaDependencies.create(pip_packages=['azureml-defaults', 'joblib', 'pandas'])\n",
    "routing_env.python.conda_dependencies = routing_env_deps\n",
    "\n",
    "routing_infconfig = InferenceConfig(\n",
    "    entry_script='routing_webservice.py',\n",
    "    source_directory='./scripts',\n",
    "    environment=routing_env\n",
    ")\n",
    "\n",
    "# Reuse deployment config with lower capacity\n",
    "deployment_config.cpu_cores = 0.1\n",
    "deployment_config.memory_gb = 0.5\n",
    "\n",
    "routing_service = Model.deploy(\n",
    "    workspace=ws,\n",
    "    name='routing-manymodels',\n",
    "    models=[dep_model],\n",
    "    inference_config=routing_infconfig,\n",
    "    deployment_config=deployment_config,\n",
    "    deployment_target=deployment_target,\n",
    "    overwrite=True\n",
    ")\n",
    "routing_service.wait_for_deployment(show_output=True)\n",
    "\n",
    "assert routing_service.state == 'Healthy'\n",
    "\n",
    "print('Routing endpoint deployed with URL: {}'.format(routing_service.scoring_uri))"
   ],
   "outputs": [],
   "metadata": {}
  },
  {
   "cell_type": "markdown",
   "source": [
    "### 5.3 Test the webservice"
   ],
   "metadata": {}
  },
  {
   "cell_type": "markdown",
   "source": [
    "This new endpoint can be called with data from different stores or brands, and it will automatically route the request to the appropiate model endpoint."
   ],
   "metadata": {}
  },
  {
   "cell_type": "code",
   "execution_count": null,
   "source": [
    "import requests\n",
    "import json\n",
    "url = routing_service.scoring_uri\n",
    "\n",
    "request_headers = {'Content-Type': 'application/json'}\n",
    "if routing_service.auth_enabled:\n",
    "    keys = routing_service.get_keys()\n",
    "    request_headers['Authorization'] = 'Bearer {}'.format(keys[0])\n",
    "\n",
    "response = requests.post(url, json=test_data, headers=request_headers)\n",
    "# response.json() # uncomment to show the response"
   ],
   "outputs": [],
   "metadata": {}
  },
  {
   "cell_type": "markdown",
   "source": [
    "## Clean up after running the example\n",
    "\n",
    "When you complete the tutorial you can remove all webservices create for the many models solution"
   ],
   "metadata": {}
  },
  {
   "cell_type": "code",
   "execution_count": null,
   "source": [
    "from azureml.core import Webservice\n",
    "for webservice in Webservice.list(ws):\n",
    "    print('name:', webservice.name)\n",
    "    if \"manymodels\" in webservice.name:\n",
    "        Webservice(ws, name = webservice.name).delete()"
   ],
   "outputs": [],
   "metadata": {}
  }
 ],
 "metadata": {
  "authors": [
   {
    "name": "deeptim"
   }
  ],
  "kernelspec": {
   "name": "python3",
   "display_name": "Python 3.7.11 64-bit ('mm': conda)"
  },
  "language_info": {
   "codemirror_mode": {
    "name": "ipython",
    "version": 3
   },
   "file_extension": ".py",
   "mimetype": "text/x-python",
   "name": "python",
   "nbconvert_exporter": "python",
   "pygments_lexer": "ipython3",
   "version": "3.7.11"
  },
  "interpreter": {
   "hash": "9ffaa93a1da240c6e4760ff6f5da4e26eb0b2149dc0c9afc5ced3714a737930b"
  }
 },
 "nbformat": 4,
 "nbformat_minor": 2
}