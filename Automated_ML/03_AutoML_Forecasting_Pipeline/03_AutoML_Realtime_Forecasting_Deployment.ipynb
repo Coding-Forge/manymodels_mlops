{
 "cells": [
  {
   "cell_type": "markdown",
   "metadata": {},
   "source": [
    "Copyright (c) Microsoft Corporation. All rights reserved.\n",
    "\n",
    "Licensed under the MIT License."
   ]
  },
  {
   "cell_type": "markdown",
   "metadata": {},
   "source": [
    "![Impressions](https://PixelServer20190423114238.azurewebsites.net/api/impressions/MachineLearningNotebooks/how-to-use-azureml/automated-machine-learning/manymodels/03_Forecasting/03_Forecasting_Pipeline.png)"
   ]
  },
  {
   "cell_type": "markdown",
   "metadata": {},
   "source": [
    "# Real-time Forecasting Webservice Deployment - Automated ML\n",
    "---\n",
    "\n",
    "In this notebook we deploy multiple webservices to forecast sales in real-time with the models we trained in the last step.\n",
    "\n",
    "Models are grouped based on their tags and each group is deployed together to the same webservice. You can customize your grouping strategy by simply playing with the model tags. \n",
    "\n",
    "### Prerequisites \n",
    "At this point, you should have already: \n",
    "1. Created your AML Workspace using the [00_Setup_AML_Workspace notebook](../../00_Setup_AML_Workspace.ipynb)\n",
    "2. Run [01_Data_Preparation.ipynb](../../01_Data_Preparation.ipynb) to create the dataset\n",
    "3. Run [02_AutoML_Training_Pipeline.ipynb](../02_AutoML_Training_Pipeline/02_AutoML_Training_Pipeline.ipynb) to train the models"
   ]
  },
  {
   "cell_type": "markdown",
   "metadata": {},
   "source": [
    "## 1.0 Connect to workspace"
   ]
  },
  {
   "cell_type": "code",
   "execution_count": 1,
   "metadata": {},
   "outputs": [
    {
     "data": {
      "text/html": [
       "<div>\n",
       "<style scoped>\n",
       "    .dataframe tbody tr th:only-of-type {\n",
       "        vertical-align: middle;\n",
       "    }\n",
       "\n",
       "    .dataframe tbody tr th {\n",
       "        vertical-align: top;\n",
       "    }\n",
       "\n",
       "    .dataframe thead th {\n",
       "        text-align: right;\n",
       "    }\n",
       "</style>\n",
       "<table border=\"1\" class=\"dataframe\">\n",
       "  <thead>\n",
       "    <tr style=\"text-align: right;\">\n",
       "      <th></th>\n",
       "      <th></th>\n",
       "    </tr>\n",
       "  </thead>\n",
       "  <tbody>\n",
       "    <tr>\n",
       "      <th>SDK version</th>\n",
       "      <td>1.33.0</td>\n",
       "    </tr>\n",
       "    <tr>\n",
       "      <th>Subscription ID</th>\n",
       "      <td>af3877c2-18a2-4ce2-b67c-a8e21e968128</td>\n",
       "    </tr>\n",
       "    <tr>\n",
       "      <th>Workspace</th>\n",
       "      <td>coding-forge-ml-ws</td>\n",
       "    </tr>\n",
       "    <tr>\n",
       "      <th>Resource Group</th>\n",
       "      <td>coding-forge-rg</td>\n",
       "    </tr>\n",
       "    <tr>\n",
       "      <th>Location</th>\n",
       "      <td>eastus</td>\n",
       "    </tr>\n",
       "    <tr>\n",
       "      <th>Default datastore name</th>\n",
       "      <td>workspaceblobstore</td>\n",
       "    </tr>\n",
       "  </tbody>\n",
       "</table>\n",
       "</div>"
      ],
      "text/plain": [
       "                                                            \n",
       "SDK version             1.33.0                              \n",
       "Subscription ID         af3877c2-18a2-4ce2-b67c-a8e21e968128\n",
       "Workspace               coding-forge-ml-ws                  \n",
       "Resource Group          coding-forge-rg                     \n",
       "Location                eastus                              \n",
       "Default datastore name  workspaceblobstore                  "
      ]
     },
     "execution_count": 1,
     "metadata": {},
     "output_type": "execute_result"
    }
   ],
   "source": [
    "import azureml.core\n",
    "from azureml.core import Workspace, Datastore\n",
    "import pandas as pd\n",
    "\n",
    "# set up workspace\n",
    "ws= Workspace.from_config() \n",
    "\n",
    "# Take a look at Workspace\n",
    "ws.get_details()\n",
    "\n",
    "# set up datastores\n",
    "dstore = ws.get_default_datastore()\n",
    "\n",
    "output = {}\n",
    "output['SDK version'] = azureml.core.VERSION\n",
    "output['Subscription ID'] = ws.subscription_id\n",
    "output['Workspace'] = ws.name\n",
    "output['Resource Group'] = ws.resource_group\n",
    "output['Location'] = ws.location\n",
    "output['Default datastore name'] = dstore.name\n",
    "pd.set_option('display.max_colwidth', -1)\n",
    "outputDf = pd.DataFrame(data = output, index = [''])\n",
    "outputDf.T"
   ]
  },
  {
   "cell_type": "markdown",
   "metadata": {},
   "source": [
    "## 2.0 Get models to be deployed"
   ]
  },
  {
   "cell_type": "markdown",
   "metadata": {},
   "source": [
    "### 2.1 Get models registered in the workspace that had been trained by a run"
   ]
  },
  {
   "cell_type": "code",
   "execution_count": 13,
   "metadata": {},
   "outputs": [
    {
     "name": "stdout",
     "output_type": "stream",
     "text": [
      "Got 10 models from the workspace.\n"
     ]
    }
   ],
   "source": [
    "from azureml.core import Model\n",
    "runid =  'aa417fa2-45ca-4060-9026-adb81b164c8a' # update the pipeline run \n",
    "tags = [['ModelType', 'AutoML'], ['RunId', runid]]\n",
    "\n",
    "models = Model.list(ws, tags=tags, latest=True)\n",
    "print('Got '+str(len(models))+' models from the workspace.')"
   ]
  },
  {
   "cell_type": "markdown",
   "metadata": {},
   "source": [
    "### 2.2 Group models by store\n",
    "\n",
    "We will group the models by store. Therefore, each group will contain three models, one for each of the orange juice brands, and all of them corresponding to the same store.\n",
    "\n",
    "You can change the grouping strategy by modifying the `grouping_tags` variable below and specifying the names of the tags you want to use for grouping. For convenience, we have created two additional grouping tags you can use:\n",
    "- `StoreGroup10`: groups stores 10 by 10\n",
    "- `StoreGroup100`: groups stores 100 by 100\n",
    "\n",
    "To create custom tags, modify the `tags_dict` object in the [training script](scripts/train.py) and run the training again."
   ]
  },
  {
   "cell_type": "code",
   "execution_count": 14,
   "metadata": {},
   "outputs": [],
   "source": [
    "grouping_tags = ['Store']"
   ]
  },
  {
   "cell_type": "code",
   "execution_count": 15,
   "metadata": {},
   "outputs": [],
   "source": [
    "grouped_models = {}\n",
    "for m in models:\n",
    "    \n",
    "    if m.tags['ModelType'] == '_meta_':\n",
    "        continue\n",
    "    \n",
    "    group_name = '/'.join([m.tags[t] for t in grouping_tags])\n",
    "    group = grouped_models.setdefault(group_name, [])\n",
    "    group.append(m)"
   ]
  },
  {
   "cell_type": "markdown",
   "metadata": {},
   "source": [
    "## 3.0 Configure deployment"
   ]
  },
  {
   "cell_type": "markdown",
   "metadata": {},
   "source": [
    "### 3.1 Define inference environment"
   ]
  },
  {
   "cell_type": "code",
   "execution_count": 16,
   "metadata": {},
   "outputs": [
    {
     "name": "stdout",
     "output_type": "stream",
     "text": [
      "here is one\n",
      "here is two\n",
      "here is three\n",
      "here is four\n"
     ]
    }
   ],
   "source": [
    "from scripts.helper import get_automl_environment\n",
    "forecast_env = get_automl_environment(workspace=ws, training_pipeline_run_id=runid, training_experiment_name='manymodels-training-pipeline')"
   ]
  },
  {
   "cell_type": "markdown",
   "metadata": {},
   "source": [
    "### 3.2 Define inference configuration"
   ]
  },
  {
   "cell_type": "code",
   "execution_count": 17,
   "metadata": {},
   "outputs": [],
   "source": [
    "from azureml.core.model import InferenceConfig\n",
    "\n",
    "inference_config = InferenceConfig(\n",
    "    entry_script='forecast_webservice.py',\n",
    "    source_directory='./scripts',\n",
    "    environment=forecast_env\n",
    ")"
   ]
  },
  {
   "cell_type": "markdown",
   "metadata": {},
   "source": [
    "### 3.3 [Option A] Define deploy configuration using ACI (dev/test)\n",
    "\n",
    "Use this option to deploy the models to Azure Container Instances, indicated for dev/test environments."
   ]
  },
  {
   "cell_type": "code",
   "execution_count": 7,
   "metadata": {},
   "outputs": [],
   "source": [
    "from azureml.core.webservice import AciWebservice\n",
    "\n",
    "deployment_type = 'aci'\n",
    "deployment_config = AciWebservice.deploy_configuration(cpu_cores=2, memory_gb=10)\n",
    "deployment_target = None"
   ]
  },
  {
   "cell_type": "markdown",
   "metadata": {},
   "source": [
    "### 3.3 [Option B] Define deploy configuration using AKS (production)\n",
    "\n",
    "Use this option to deploy the models to Azure Kubernetes Services, indicated for production environments."
   ]
  },
  {
   "cell_type": "code",
   "execution_count": 18,
   "metadata": {},
   "outputs": [],
   "source": [
    "aks_target_name = 'codingforge-aks2'"
   ]
  },
  {
   "cell_type": "code",
   "execution_count": 19,
   "metadata": {},
   "outputs": [
    {
     "name": "stdout",
     "output_type": "stream",
     "text": [
      "AKS cluster already attached. Skip the optional step below and jump to \"Configure AKS\"\n"
     ]
    }
   ],
   "source": [
    "from azureml.core.compute import AksCompute\n",
    "from azureml.core.compute_target import ComputeTargetException\n",
    "\n",
    "try:\n",
    "    aks_target = AksCompute(ws, aks_target_name)\n",
    "    print('AKS cluster already attached. Skip the optional step below and jump to \"Configure AKS\"')\n",
    "except ComputeTargetException:\n",
    "    print('AKS cluster not attached yet. Run the optional step below to do so')"
   ]
  },
  {
   "cell_type": "markdown",
   "metadata": {},
   "source": [
    "#### [Optional] Attach AKS cluster\n",
    "\n",
    "Attach existing AKS cluster as Compute Target in Azure Machine Learning. This needs to be run only the first time."
   ]
  },
  {
   "cell_type": "code",
   "execution_count": 22,
   "metadata": {},
   "outputs": [],
   "source": [
    "aks_resource_name = aks_target_name\n",
    "aks_resource_group = ws.resource_group"
   ]
  },
  {
   "cell_type": "code",
   "execution_count": 11,
   "metadata": {},
   "outputs": [
    {
     "ename": "ComputeTargetException",
     "evalue": "ComputeTargetException:\n\tMessage: Received bad response from Resource Provider:\nResponse Code: 400\nHeaders: {'Cache-Control': 'no-cache', 'Pragma': 'no-cache', 'Content-Length': '677', 'Content-Type': 'application/json; charset=utf-8', 'Expires': '-1', 'x-ms-ratelimit-remaining-subscription-writes': '1199', 'Request-Context': 'appId=cid-v1:2d2e8e63-272e-4b3c-8598-4ee570a0e70d', 'x-ms-response-type': 'error', 'Strict-Transport-Security': 'max-age=31536000; includeSubDomains', 'X-Content-Type-Options': 'nosniff', 'x-request-time': '0.057', 'x-ms-request-id': '521c6f12-5d23-42a5-ac18-4ecf510c15f6', 'x-ms-correlation-request-id': '521c6f12-5d23-42a5-ac18-4ecf510c15f6', 'x-ms-routing-request-id': 'EASTUS:20210901T225453Z:521c6f12-5d23-42a5-ac18-4ecf510c15f6', 'Date': 'Wed, 01 Sep 2021 22:54:52 GMT'}\nContent: b'{\\n  \"error\": {\\n    \"code\": \"UserError\",\\n    \"severity\": null,\\n    \"message\": \"A compute with the same name already exists. Updating property: provisioningState for compute is not supported yet.\",\\n    \"messageFormat\": null,\\n    \"messageParameters\": null,\\n    \"referenceCode\": null,\\n    \"detailsUri\": null,\\n    \"target\": null,\\n    \"details\": [],\\n    \"innerError\": null,\\n    \"debugInfo\": null,\\n    \"additionalInfo\": null\\n  },\\n  \"correlation\": {\\n    \"operation\": \"4d801be228dd1243ba9ce9b0059cd9f4\",\\n    \"request\": \"04ed7c88a05e0145\"\\n  },\\n  \"environment\": \"eastus\",\\n  \"location\": \"eastus\",\\n  \"time\": \"2021-09-01T22:54:53.1671877+00:00\",\\n  \"componentName\": \"machinelearningcompute\"\\n}'\n\tInnerException None\n\tErrorResponse \n{\n    \"error\": {\n        \"message\": \"Received bad response from Resource Provider:\\nResponse Code: 400\\nHeaders: {'Cache-Control': 'no-cache', 'Pragma': 'no-cache', 'Content-Length': '677', 'Content-Type': 'application/json; charset=utf-8', 'Expires': '-1', 'x-ms-ratelimit-remaining-subscription-writes': '1199', 'Request-Context': 'appId=cid-v1:2d2e8e63-272e-4b3c-8598-4ee570a0e70d', 'x-ms-response-type': 'error', 'Strict-Transport-Security': 'max-age=31536000; includeSubDomains', 'X-Content-Type-Options': 'nosniff', 'x-request-time': '0.057', 'x-ms-request-id': '521c6f12-5d23-42a5-ac18-4ecf510c15f6', 'x-ms-correlation-request-id': '521c6f12-5d23-42a5-ac18-4ecf510c15f6', 'x-ms-routing-request-id': 'EASTUS:20210901T225453Z:521c6f12-5d23-42a5-ac18-4ecf510c15f6', 'Date': 'Wed, 01 Sep 2021 22:54:52 GMT'}\\nContent: b'{\\\\n  \\\"error\\\": {\\\\n    \\\"code\\\": \\\"UserError\\\",\\\\n    \\\"severity\\\": null,\\\\n    \\\"message\\\": \\\"A compute with the same name already exists. Updating property: provisioningState for compute is not supported yet.\\\",\\\\n    \\\"messageFormat\\\": null,\\\\n    \\\"messageParameters\\\": null,\\\\n    \\\"referenceCode\\\": null,\\\\n    \\\"detailsUri\\\": null,\\\\n    \\\"target\\\": null,\\\\n    \\\"details\\\": [],\\\\n    \\\"innerError\\\": null,\\\\n    \\\"debugInfo\\\": null,\\\\n    \\\"additionalInfo\\\": null\\\\n  },\\\\n  \\\"correlation\\\": {\\\\n    \\\"operation\\\": \\\"4d801be228dd1243ba9ce9b0059cd9f4\\\",\\\\n    \\\"request\\\": \\\"04ed7c88a05e0145\\\"\\\\n  },\\\\n  \\\"environment\\\": \\\"eastus\\\",\\\\n  \\\"location\\\": \\\"eastus\\\",\\\\n  \\\"time\\\": \\\"2021-09-01T22:54:53.1671877+00:00\\\",\\\\n  \\\"componentName\\\": \\\"machinelearningcompute\\\"\\\\n}'\"\n    }\n}",
     "output_type": "error",
     "traceback": [
      "\u001b[0;31m---------------------------------------------------------------------------\u001b[0m",
      "\u001b[0;31mHTTPError\u001b[0m                                 Traceback (most recent call last)",
      "\u001b[0;32m/anaconda/envs/azureml_py36/lib/python3.6/site-packages/azureml/core/compute/compute.py\u001b[0m in \u001b[0;36m_attach\u001b[0;34m(workspace, name, attach_payload, target_class)\u001b[0m\n\u001b[1;32m    466\u001b[0m         \u001b[0;32mtry\u001b[0m\u001b[0;34m:\u001b[0m\u001b[0;34m\u001b[0m\u001b[0;34m\u001b[0m\u001b[0m\n\u001b[0;32m--> 467\u001b[0;31m             \u001b[0mresp\u001b[0m\u001b[0;34m.\u001b[0m\u001b[0mraise_for_status\u001b[0m\u001b[0;34m(\u001b[0m\u001b[0;34m)\u001b[0m\u001b[0;34m\u001b[0m\u001b[0;34m\u001b[0m\u001b[0m\n\u001b[0m\u001b[1;32m    468\u001b[0m         \u001b[0;32mexcept\u001b[0m \u001b[0mrequests\u001b[0m\u001b[0;34m.\u001b[0m\u001b[0mexceptions\u001b[0m\u001b[0;34m.\u001b[0m\u001b[0mHTTPError\u001b[0m\u001b[0;34m:\u001b[0m\u001b[0;34m\u001b[0m\u001b[0;34m\u001b[0m\u001b[0m\n",
      "\u001b[0;32m/anaconda/envs/azureml_py36/lib/python3.6/site-packages/requests/models.py\u001b[0m in \u001b[0;36mraise_for_status\u001b[0;34m(self)\u001b[0m\n\u001b[1;32m    952\u001b[0m         \u001b[0;32mif\u001b[0m \u001b[0mhttp_error_msg\u001b[0m\u001b[0;34m:\u001b[0m\u001b[0;34m\u001b[0m\u001b[0;34m\u001b[0m\u001b[0m\n\u001b[0;32m--> 953\u001b[0;31m             \u001b[0;32mraise\u001b[0m \u001b[0mHTTPError\u001b[0m\u001b[0;34m(\u001b[0m\u001b[0mhttp_error_msg\u001b[0m\u001b[0;34m,\u001b[0m \u001b[0mresponse\u001b[0m\u001b[0;34m=\u001b[0m\u001b[0mself\u001b[0m\u001b[0;34m)\u001b[0m\u001b[0;34m\u001b[0m\u001b[0;34m\u001b[0m\u001b[0m\n\u001b[0m\u001b[1;32m    954\u001b[0m \u001b[0;34m\u001b[0m\u001b[0m\n",
      "\u001b[0;31mHTTPError\u001b[0m: 400 Client Error: A compute with the same name already exists. Updating property: provisioningState for compute is not for url: https://management.azure.com//subscriptions/af3877c2-18a2-4ce2-b67c-a8e21e968128/resourceGroups/coding-forge-rg/providers/Microsoft.MachineLearningServices/workspaces/coding-forge-ml-ws/computes/codingforge-aks2?api-version=2020-02-02",
      "\nDuring handling of the above exception, another exception occurred:\n",
      "\u001b[0;31mComputeTargetException\u001b[0m                    Traceback (most recent call last)",
      "\u001b[0;32m<ipython-input-11-270740cb1f01>\u001b[0m in \u001b[0;36m<module>\u001b[0;34m\u001b[0m\n\u001b[1;32m      6\u001b[0m )\n\u001b[1;32m      7\u001b[0m \u001b[0;34m\u001b[0m\u001b[0m\n\u001b[0;32m----> 8\u001b[0;31m \u001b[0maks_target\u001b[0m \u001b[0;34m=\u001b[0m \u001b[0mComputeTarget\u001b[0m\u001b[0;34m.\u001b[0m\u001b[0mattach\u001b[0m\u001b[0;34m(\u001b[0m\u001b[0mws\u001b[0m\u001b[0;34m,\u001b[0m \u001b[0maks_target_name\u001b[0m\u001b[0;34m,\u001b[0m \u001b[0mattach_config\u001b[0m\u001b[0;34m)\u001b[0m\u001b[0;34m\u001b[0m\u001b[0;34m\u001b[0m\u001b[0m\n\u001b[0m\u001b[1;32m      9\u001b[0m \u001b[0maks_target\u001b[0m\u001b[0;34m.\u001b[0m\u001b[0mwait_for_completion\u001b[0m\u001b[0;34m(\u001b[0m\u001b[0mshow_output\u001b[0m\u001b[0;34m=\u001b[0m\u001b[0;32mTrue\u001b[0m\u001b[0;34m)\u001b[0m\u001b[0;34m\u001b[0m\u001b[0;34m\u001b[0m\u001b[0m\n",
      "\u001b[0;32m/anaconda/envs/azureml_py36/lib/python3.6/site-packages/azureml/core/compute/compute.py\u001b[0m in \u001b[0;36mattach\u001b[0;34m(workspace, name, attach_configuration)\u001b[0m\n\u001b[1;32m    438\u001b[0m         \"\"\"\n\u001b[1;32m    439\u001b[0m         \u001b[0mcompute_type\u001b[0m \u001b[0;34m=\u001b[0m \u001b[0mattach_configuration\u001b[0m\u001b[0;34m.\u001b[0m\u001b[0m_compute_type\u001b[0m\u001b[0;34m\u001b[0m\u001b[0;34m\u001b[0m\u001b[0m\n\u001b[0;32m--> 440\u001b[0;31m         \u001b[0;32mreturn\u001b[0m \u001b[0mcompute_type\u001b[0m\u001b[0;34m.\u001b[0m\u001b[0m_attach\u001b[0m\u001b[0;34m(\u001b[0m\u001b[0mworkspace\u001b[0m\u001b[0;34m,\u001b[0m \u001b[0mname\u001b[0m\u001b[0;34m,\u001b[0m \u001b[0mattach_configuration\u001b[0m\u001b[0;34m)\u001b[0m\u001b[0;34m\u001b[0m\u001b[0;34m\u001b[0m\u001b[0m\n\u001b[0m\u001b[1;32m    441\u001b[0m \u001b[0;34m\u001b[0m\u001b[0m\n\u001b[1;32m    442\u001b[0m     \u001b[0;34m@\u001b[0m\u001b[0mstaticmethod\u001b[0m\u001b[0;34m\u001b[0m\u001b[0;34m\u001b[0m\u001b[0m\n",
      "\u001b[0;32m/anaconda/envs/azureml_py36/lib/python3.6/site-packages/azureml/core/compute/aks.py\u001b[0m in \u001b[0;36m_attach\u001b[0;34m(workspace, name, config)\u001b[0m\n\u001b[1;32m    181\u001b[0m                                                         config.cluster_name)\n\u001b[1;32m    182\u001b[0m         \u001b[0mattach_payload\u001b[0m \u001b[0;34m=\u001b[0m \u001b[0mAksCompute\u001b[0m\u001b[0;34m.\u001b[0m\u001b[0m_build_attach_payload\u001b[0m\u001b[0;34m(\u001b[0m\u001b[0mconfig\u001b[0m\u001b[0;34m,\u001b[0m \u001b[0mresource_id\u001b[0m\u001b[0;34m)\u001b[0m\u001b[0;34m\u001b[0m\u001b[0;34m\u001b[0m\u001b[0m\n\u001b[0;32m--> 183\u001b[0;31m         \u001b[0;32mreturn\u001b[0m \u001b[0mComputeTarget\u001b[0m\u001b[0;34m.\u001b[0m\u001b[0m_attach\u001b[0m\u001b[0;34m(\u001b[0m\u001b[0mworkspace\u001b[0m\u001b[0;34m,\u001b[0m \u001b[0mname\u001b[0m\u001b[0;34m,\u001b[0m \u001b[0mattach_payload\u001b[0m\u001b[0;34m,\u001b[0m \u001b[0mAksCompute\u001b[0m\u001b[0;34m)\u001b[0m\u001b[0;34m\u001b[0m\u001b[0;34m\u001b[0m\u001b[0m\n\u001b[0m\u001b[1;32m    184\u001b[0m \u001b[0;34m\u001b[0m\u001b[0m\n\u001b[1;32m    185\u001b[0m     \u001b[0;34m@\u001b[0m\u001b[0mstaticmethod\u001b[0m\u001b[0;34m\u001b[0m\u001b[0;34m\u001b[0m\u001b[0m\n",
      "\u001b[0;32m/anaconda/envs/azureml_py36/lib/python3.6/site-packages/azureml/core/compute/compute.py\u001b[0m in \u001b[0;36m_attach\u001b[0;34m(workspace, name, attach_payload, target_class)\u001b[0m\n\u001b[1;32m    470\u001b[0m                                          \u001b[0;34m'Response Code: {}\\n'\u001b[0m\u001b[0;34m\u001b[0m\u001b[0;34m\u001b[0m\u001b[0m\n\u001b[1;32m    471\u001b[0m                                          \u001b[0;34m'Headers: {}\\n'\u001b[0m\u001b[0;34m\u001b[0m\u001b[0;34m\u001b[0m\u001b[0m\n\u001b[0;32m--> 472\u001b[0;31m                                          'Content: {}'.format(resp.status_code, resp.headers, resp.content))\n\u001b[0m\u001b[1;32m    473\u001b[0m         \u001b[0;32mif\u001b[0m \u001b[0;34m'Azure-AsyncOperation'\u001b[0m \u001b[0;32mnot\u001b[0m \u001b[0;32min\u001b[0m \u001b[0mresp\u001b[0m\u001b[0;34m.\u001b[0m\u001b[0mheaders\u001b[0m\u001b[0;34m:\u001b[0m\u001b[0;34m\u001b[0m\u001b[0;34m\u001b[0m\u001b[0m\n\u001b[1;32m    474\u001b[0m             raise ComputeTargetException('Error, missing operation location from resp headers:\\n'\n",
      "\u001b[0;31mComputeTargetException\u001b[0m: ComputeTargetException:\n\tMessage: Received bad response from Resource Provider:\nResponse Code: 400\nHeaders: {'Cache-Control': 'no-cache', 'Pragma': 'no-cache', 'Content-Length': '677', 'Content-Type': 'application/json; charset=utf-8', 'Expires': '-1', 'x-ms-ratelimit-remaining-subscription-writes': '1199', 'Request-Context': 'appId=cid-v1:2d2e8e63-272e-4b3c-8598-4ee570a0e70d', 'x-ms-response-type': 'error', 'Strict-Transport-Security': 'max-age=31536000; includeSubDomains', 'X-Content-Type-Options': 'nosniff', 'x-request-time': '0.057', 'x-ms-request-id': '521c6f12-5d23-42a5-ac18-4ecf510c15f6', 'x-ms-correlation-request-id': '521c6f12-5d23-42a5-ac18-4ecf510c15f6', 'x-ms-routing-request-id': 'EASTUS:20210901T225453Z:521c6f12-5d23-42a5-ac18-4ecf510c15f6', 'Date': 'Wed, 01 Sep 2021 22:54:52 GMT'}\nContent: b'{\\n  \"error\": {\\n    \"code\": \"UserError\",\\n    \"severity\": null,\\n    \"message\": \"A compute with the same name already exists. Updating property: provisioningState for compute is not supported yet.\",\\n    \"messageFormat\": null,\\n    \"messageParameters\": null,\\n    \"referenceCode\": null,\\n    \"detailsUri\": null,\\n    \"target\": null,\\n    \"details\": [],\\n    \"innerError\": null,\\n    \"debugInfo\": null,\\n    \"additionalInfo\": null\\n  },\\n  \"correlation\": {\\n    \"operation\": \"4d801be228dd1243ba9ce9b0059cd9f4\",\\n    \"request\": \"04ed7c88a05e0145\"\\n  },\\n  \"environment\": \"eastus\",\\n  \"location\": \"eastus\",\\n  \"time\": \"2021-09-01T22:54:53.1671877+00:00\",\\n  \"componentName\": \"machinelearningcompute\"\\n}'\n\tInnerException None\n\tErrorResponse \n{\n    \"error\": {\n        \"message\": \"Received bad response from Resource Provider:\\nResponse Code: 400\\nHeaders: {'Cache-Control': 'no-cache', 'Pragma': 'no-cache', 'Content-Length': '677', 'Content-Type': 'application/json; charset=utf-8', 'Expires': '-1', 'x-ms-ratelimit-remaining-subscription-writes': '1199', 'Request-Context': 'appId=cid-v1:2d2e8e63-272e-4b3c-8598-4ee570a0e70d', 'x-ms-response-type': 'error', 'Strict-Transport-Security': 'max-age=31536000; includeSubDomains', 'X-Content-Type-Options': 'nosniff', 'x-request-time': '0.057', 'x-ms-request-id': '521c6f12-5d23-42a5-ac18-4ecf510c15f6', 'x-ms-correlation-request-id': '521c6f12-5d23-42a5-ac18-4ecf510c15f6', 'x-ms-routing-request-id': 'EASTUS:20210901T225453Z:521c6f12-5d23-42a5-ac18-4ecf510c15f6', 'Date': 'Wed, 01 Sep 2021 22:54:52 GMT'}\\nContent: b'{\\\\n  \\\"error\\\": {\\\\n    \\\"code\\\": \\\"UserError\\\",\\\\n    \\\"severity\\\": null,\\\\n    \\\"message\\\": \\\"A compute with the same name already exists. Updating property: provisioningState for compute is not supported yet.\\\",\\\\n    \\\"messageFormat\\\": null,\\\\n    \\\"messageParameters\\\": null,\\\\n    \\\"referenceCode\\\": null,\\\\n    \\\"detailsUri\\\": null,\\\\n    \\\"target\\\": null,\\\\n    \\\"details\\\": [],\\\\n    \\\"innerError\\\": null,\\\\n    \\\"debugInfo\\\": null,\\\\n    \\\"additionalInfo\\\": null\\\\n  },\\\\n  \\\"correlation\\\": {\\\\n    \\\"operation\\\": \\\"4d801be228dd1243ba9ce9b0059cd9f4\\\",\\\\n    \\\"request\\\": \\\"04ed7c88a05e0145\\\"\\\\n  },\\\\n  \\\"environment\\\": \\\"eastus\\\",\\\\n  \\\"location\\\": \\\"eastus\\\",\\\\n  \\\"time\\\": \\\"2021-09-01T22:54:53.1671877+00:00\\\",\\\\n  \\\"componentName\\\": \\\"machinelearningcompute\\\"\\\\n}'\"\n    }\n}"
     ]
    }
   ],
   "source": [
    "from azureml.core.compute import ComputeTarget\n",
    "\n",
    "attach_config = AksCompute.attach_configuration(\n",
    "    resource_group=aks_resource_group,\n",
    "    cluster_name=aks_resource_name\n",
    ")\n",
    "\n",
    "aks_target = ComputeTarget.attach(ws, aks_target_name, attach_config)\n",
    "aks_target.wait_for_completion(show_output=True)"
   ]
  },
  {
   "cell_type": "markdown",
   "metadata": {},
   "source": [
    "#### Configure AKS"
   ]
  },
  {
   "cell_type": "code",
   "execution_count": 23,
   "metadata": {},
   "outputs": [],
   "source": [
    "from azureml.core.webservice import AksWebservice\n",
    "\n",
    "deployment_type = 'aks'\n",
    "deployment_config = AksWebservice.deploy_configuration(cpu_cores=1, memory_gb=1)\n",
    "deployment_target = aks_target"
   ]
  },
  {
   "cell_type": "markdown",
   "metadata": {},
   "source": [
    "## 4.0 Deploy the models\n",
    "\n",
    "We will now deploy one webservice for each of the groups of models. Deployment takes some minutes to complete, so we'll request all of them and then wait for them to finish."
   ]
  },
  {
   "cell_type": "code",
   "execution_count": 27,
   "metadata": {},
   "outputs": [
    {
     "name": "stdout",
     "output_type": "stream",
     "text": [
      "Launching deployment of manymodels-1002...\n",
      "Deployment of manymodels-1002 started\n",
      "Launching deployment of manymodels-1003...\n",
      "Deployment of manymodels-1003 started\n",
      "Launching deployment of manymodels-1001...\n",
      "Deployment of manymodels-1001 started\n",
      "Launching deployment of manymodels-1000...\n",
      "Deployment of manymodels-1000 started\n"
     ]
    }
   ],
   "source": [
    "deployments = []\n",
    "for group_name, group_models in grouped_models.items():\n",
    "    \n",
    "    service_name = '{prefix}manymodels-{group}'.format(\n",
    "        prefix='test-' if deployment_type == 'aci' else '',\n",
    "        group=group_name\n",
    "    ).lower()\n",
    "    \n",
    "    print('Launching deployment of {}...'.format(service_name))\n",
    "    service = Model.deploy(\n",
    "        workspace=ws,\n",
    "        name=service_name,\n",
    "        models=group_models,\n",
    "        inference_config=inference_config,\n",
    "        deployment_config=deployment_config,\n",
    "        deployment_target=deployment_target,\n",
    "        overwrite=True\n",
    "    )\n",
    "    print('Deployment of {} started'.format(service_name))\n",
    "    \n",
    "    deployments.append({ 'service': service, 'group': group_name, 'models': group_models })\n",
    "    "
   ]
  },
  {
   "cell_type": "code",
   "execution_count": 28,
   "metadata": {},
   "outputs": [
    {
     "name": "stdout",
     "output_type": "stream",
     "text": [
      "Waiting for deployment of manymodels-1002 to finish...\n",
      "Tips: You can try get_logs(): https://aka.ms/debugimage#dockerlog or local deployment: https://aka.ms/debugimage#debug-locally to debug if deployment takes longer than 10 minutes.\n",
      "Running\n",
      "2021-09-01 23:14:18+00:00 Creating Container Registry if not exists.\n",
      "2021-09-01 23:14:18+00:00 Registering the environment.\n",
      "2021-09-01 23:14:19+00:00 Use the existing image.\n",
      "2021-09-01 23:14:20+00:00 Creating resources in AKS.\n",
      "2021-09-01 23:14:21+00:00 Submitting deployment to compute.\n",
      "2021-09-01 23:14:21+00:00 Checking the status of deployment manymodels-1002..\n",
      "2021-09-01 23:14:43+00:00 Checking the status of inference endpoint manymodels-1002.\n",
      "Succeeded\n",
      "AKS service creation operation finished, operation \"Succeeded\"\n",
      "Waiting for deployment of manymodels-1003 to finish...\n",
      "Tips: You can try get_logs(): https://aka.ms/debugimage#dockerlog or local deployment: https://aka.ms/debugimage#debug-locally to debug if deployment takes longer than 10 minutes.\n",
      "Running\n",
      "2021-09-01 23:14:22+00:00 Creating Container Registry if not exists.\n",
      "2021-09-01 23:14:22+00:00 Registering the environment.\n",
      "2021-09-01 23:14:23+00:00 Use the existing image.\n",
      "2021-09-01 23:14:24+00:00 Creating resources in AKS.\n",
      "2021-09-01 23:14:25+00:00 Submitting deployment to compute.\n",
      "2021-09-01 23:14:25+00:00 Checking the status of deployment manymodels-1003.\n",
      "2021-09-01 23:14:47+00:00 Checking the status of inference endpoint manymodels-1003.\n",
      "Succeeded\n",
      "AKS service creation operation finished, operation \"Succeeded\"\n",
      "Waiting for deployment of manymodels-1001 to finish...\n",
      "Tips: You can try get_logs(): https://aka.ms/debugimage#dockerlog or local deployment: https://aka.ms/debugimage#debug-locally to debug if deployment takes longer than 10 minutes.\n",
      "SucceededAKS service creation operation finished, operation \"Succeeded\"\n",
      "Waiting for deployment of manymodels-1000 to finish...\n",
      "Tips: You can try get_logs(): https://aka.ms/debugimage#dockerlog or local deployment: https://aka.ms/debugimage#debug-locally to debug if deployment takes longer than 10 minutes.\n",
      "SucceededAKS service creation operation finished, operation \"Succeeded\"\n"
     ]
    }
   ],
   "source": [
    "models_deployed = {}\n",
    "for deployment in deployments:\n",
    "    \n",
    "    service = deployment['service']\n",
    "    print('Waiting for deployment of {} to finish...'.format(service.name))\n",
    "    service.wait_for_deployment(show_output=True)\n",
    "    if service.state != 'Healthy':\n",
    "        print('DEPLOYMENT FAILED FOR SERVICE {}'.format(service.name))\n",
    "    \n",
    "    service_info = {\n",
    "        'webservice': service.name,\n",
    "        'state': service.state,\n",
    "        'endpoint': service.scoring_uri if service.state == 'Healthy' else None,\n",
    "        'key': service.get_keys()[0] if service.auth_enabled and service.state == 'Healthy' else None\n",
    "    }\n",
    "\n",
    "    # Store deployment info for each deployed model\n",
    "    for m in deployment['models']:\n",
    "        models_deployed[m.name] = {\n",
    "            'version': m.version,\n",
    "            'group': deployment['group'],\n",
    "            **service_info\n",
    "        }\n"
   ]
  },
  {
   "cell_type": "markdown",
   "metadata": {},
   "source": [
    "### 4.2 Test the webservices"
   ]
  },
  {
   "cell_type": "markdown",
   "metadata": {},
   "source": [
    "We can query for multiple models into the same request, but all of them need to be from the same store, as each endpoint only contains models corresponding to one particular store."
   ]
  },
  {
   "cell_type": "code",
   "execution_count": 29,
   "metadata": {},
   "outputs": [],
   "source": [
    "from azureml.core import Datastore\n",
    "\n",
    "# Please change the following to point to your own blob container and pass in account_key\n",
    "blob_datastore_name = \"automl_many_models\"\n",
    "container_name = \"automl-sample-notebook-data\"\n",
    "account_name = \"automlsamplenotebookdata\"\n",
    "\n",
    "oj_datastore = Datastore.register_azure_blob_container(workspace=ws, \n",
    "                                                       datastore_name=blob_datastore_name, \n",
    "                                                       container_name=container_name,\n",
    "                                                       account_name=account_name,\n",
    "                                                       create_if_not_exists=True)"
   ]
  },
  {
   "cell_type": "code",
   "execution_count": 30,
   "metadata": {},
   "outputs": [],
   "source": [
    "from azureml.core.dataset import Dataset\n",
    "inference_name_small = 'oj_inference_small'\n",
    "\n",
    "inference_ds_small = Dataset.Tabular.from_delimited_files(path=oj_datastore.path(inference_name_small + '/'), validate=False)\n",
    "all_df = inference_ds_small.to_pandas_dataframe()"
   ]
  },
  {
   "cell_type": "code",
   "execution_count": 31,
   "metadata": {},
   "outputs": [],
   "source": [
    "from scripts.helper import get_model_name\n",
    "store = 1002\n",
    "brand = 'dominicks'\n",
    "tags_dict = {'store':store, 'brand': brand}\n",
    "model_name = get_model_name(tags_dict)"
   ]
  },
  {
   "cell_type": "code",
   "execution_count": 32,
   "metadata": {},
   "outputs": [
    {
     "name": "stdout",
     "output_type": "stream",
     "text": [
      "    WeekStarting  Store      Brand  Quantity  Advert  Price   Revenue\n",
      "108 1992-06-04    1002   dominicks  11957     1       2.07   24750.99\n",
      "109 1992-06-11    1002   dominicks  16608     1       2.49   41353.92\n",
      "110 1992-06-18    1002   dominicks  15073     1       2.63   39641.99\n",
      "111 1992-06-25    1002   dominicks  10881     1       2.16   23502.96\n",
      "112 1992-07-02    1002   dominicks  9384      1       2.66   24961.44\n"
     ]
    }
   ],
   "source": [
    "dominicks_test_data = all_df.loc[(all_df['Store']==store) & (all_df['Brand']==brand)]\n",
    "print(dominicks_test_data.head(5))"
   ]
  },
  {
   "cell_type": "code",
   "execution_count": 33,
   "metadata": {},
   "outputs": [],
   "source": [
    "dominicks_test_data_json = dominicks_test_data[:].to_json(orient='records', date_format='iso')"
   ]
  },
  {
   "cell_type": "code",
   "execution_count": 34,
   "metadata": {},
   "outputs": [],
   "source": [
    "test_data = [{\n",
    "        \"group_column_names\": ['Store', 'Brand'], # This is the same list that is passed in the training script\n",
    "        \"time_column_name\": \"WeekStarting\", # This is the same value for time_column_name that is passed in the training script\n",
    "        \"data\": dominicks_test_data_json\n",
    "    }]"
   ]
  },
  {
   "cell_type": "code",
   "execution_count": 35,
   "metadata": {},
   "outputs": [
    {
     "data": {
      "text/plain": [
       "['[{\"WeekStarting\":\"1992-06-04T00:00:00.000Z\",\"Store\":1002,\"Brand\":\"dominicks\",\"Quantity\":11957,\"Advert\":1,\"Price\":2.07,\"Revenue\":24750.99,\"Predictions\":12289.3375680808},{\"WeekStarting\":\"1992-06-11T00:00:00.000Z\",\"Store\":1002,\"Brand\":\"dominicks\",\"Quantity\":16608,\"Advert\":1,\"Price\":2.49,\"Revenue\":41353.92,\"Predictions\":16814.6225918048},{\"WeekStarting\":\"1992-06-18T00:00:00.000Z\",\"Store\":1002,\"Brand\":\"dominicks\",\"Quantity\":15073,\"Advert\":1,\"Price\":2.63,\"Revenue\":39641.99,\"Predictions\":15422.4112597666},{\"WeekStarting\":\"1992-06-25T00:00:00.000Z\",\"Store\":1002,\"Brand\":\"dominicks\",\"Quantity\":10881,\"Advert\":1,\"Price\":2.16,\"Revenue\":23502.96,\"Predictions\":11116.6752126307},{\"WeekStarting\":\"1992-07-02T00:00:00.000Z\",\"Store\":1002,\"Brand\":\"dominicks\",\"Quantity\":9384,\"Advert\":1,\"Price\":2.66,\"Revenue\":24961.44,\"Predictions\":8741.1437064144},{\"WeekStarting\":\"1992-07-09T00:00:00.000Z\",\"Store\":1002,\"Brand\":\"dominicks\",\"Quantity\":9029,\"Advert\":1,\"Price\":1.92,\"Revenue\":17335.68,\"Predictions\":10241.3438991918},{\"WeekStarting\":\"1992-07-16T00:00:00.000Z\",\"Store\":1002,\"Brand\":\"dominicks\",\"Quantity\":14381,\"Advert\":1,\"Price\":2.28,\"Revenue\":32788.68,\"Predictions\":14449.2066543275},{\"WeekStarting\":\"1992-07-23T00:00:00.000Z\",\"Store\":1002,\"Brand\":\"dominicks\",\"Quantity\":13214,\"Advert\":1,\"Price\":2.55,\"Revenue\":33695.7,\"Predictions\":13096.3731870363},{\"WeekStarting\":\"1992-07-30T00:00:00.000Z\",\"Store\":1002,\"Brand\":\"dominicks\",\"Quantity\":12285,\"Advert\":1,\"Price\":2.53,\"Revenue\":31081.05,\"Predictions\":12130.4664582934},{\"WeekStarting\":\"1992-08-06T00:00:00.000Z\",\"Store\":1002,\"Brand\":\"dominicks\",\"Quantity\":17355,\"Advert\":1,\"Price\":2.52,\"Revenue\":43734.6,\"Predictions\":17536.2549043088},{\"WeekStarting\":\"1992-08-13T00:00:00.000Z\",\"Store\":1002,\"Brand\":\"dominicks\",\"Quantity\":13680,\"Advert\":1,\"Price\":2.34,\"Revenue\":32011.2,\"Predictions\":13732.2829293103},{\"WeekStarting\":\"1992-08-20T00:00:00.000Z\",\"Store\":1002,\"Brand\":\"dominicks\",\"Quantity\":17433,\"Advert\":1,\"Price\":2.16,\"Revenue\":37655.28,\"Predictions\":17289.9570750093},{\"WeekStarting\":\"1992-08-27T00:00:00.000Z\",\"Store\":1002,\"Brand\":\"dominicks\",\"Quantity\":9567,\"Advert\":1,\"Price\":2.38,\"Revenue\":22769.46,\"Predictions\":9524.8513157463},{\"WeekStarting\":\"1992-09-03T00:00:00.000Z\",\"Store\":1002,\"Brand\":\"dominicks\",\"Quantity\":13669,\"Advert\":1,\"Price\":2.67,\"Revenue\":36496.23,\"Predictions\":13607.6864601196},{\"WeekStarting\":\"1992-09-10T00:00:00.000Z\",\"Store\":1002,\"Brand\":\"dominicks\",\"Quantity\":9918,\"Advert\":1,\"Price\":2.41,\"Revenue\":23902.38,\"Predictions\":9778.7508769544},{\"WeekStarting\":\"1992-09-17T00:00:00.000Z\",\"Store\":1002,\"Brand\":\"dominicks\",\"Quantity\":16352,\"Advert\":1,\"Price\":2.21,\"Revenue\":36137.92,\"Predictions\":16268.3101514015},{\"WeekStarting\":\"1992-09-24T00:00:00.000Z\",\"Store\":1002,\"Brand\":\"dominicks\",\"Quantity\":11015,\"Advert\":1,\"Price\":2.33,\"Revenue\":25664.95,\"Predictions\":10957.8148298618},{\"WeekStarting\":\"1992-10-01T00:00:00.000Z\",\"Store\":1002,\"Brand\":\"dominicks\",\"Quantity\":10280,\"Advert\":1,\"Price\":2.29,\"Revenue\":23541.2,\"Predictions\":10361.8248435563}]']"
      ]
     },
     "execution_count": 35,
     "metadata": {},
     "output_type": "execute_result"
    }
   ],
   "source": [
    "import requests\n",
    "import json\n",
    "\n",
    "try:\n",
    "    url = models_deployed[model_name]['endpoint']\n",
    "    key = models_deployed[model_name]['key']    \n",
    "except KeyError as e:\n",
    "    raise ValueError(f'Model for store {store} and brand {brand} has not been deployed')\n",
    "\n",
    "request_headers = {'Content-Type': 'application/json'}\n",
    "if key:\n",
    "    request_headers['Authorization'] = f'Bearer {key}'\n",
    "\n",
    "response = requests.post(url, json=test_data, headers=request_headers)\n",
    "response.json()"
   ]
  },
  {
   "cell_type": "markdown",
   "metadata": {},
   "source": [
    "## 5.0 Group all models into a single routing endpoint"
   ]
  },
  {
   "cell_type": "markdown",
   "metadata": {},
   "source": [
    "We can now group all the services into a single entry point, so that we don't have to handle each endpoint separately. \n",
    "For that, we'll register the `endpoints` object as a model, and deploy it as a webservice. This webservice will receive the incoming requests and route them to the appropiate model service, acting as the unique entry point for outside requests."
   ]
  },
  {
   "cell_type": "markdown",
   "metadata": {},
   "source": [
    "### 5.1 Register endpoints dict as an AML model"
   ]
  },
  {
   "cell_type": "code",
   "execution_count": 36,
   "metadata": {},
   "outputs": [
    {
     "name": "stdout",
     "output_type": "stream",
     "text": [
      "Registering model deployed_models_info\n"
     ]
    }
   ],
   "source": [
    "import joblib\n",
    "\n",
    "joblib.dump(models_deployed, 'models_deployed.pkl')\n",
    "\n",
    "dep_model = Model.register(\n",
    "    workspace=ws, \n",
    "    model_path ='models_deployed.pkl', \n",
    "    model_name='deployed_models_info',\n",
    "    tags={'ModelType': '_meta_'},\n",
    "    description='Dictionary of the service endpoint where each model is deployed'\n",
    ")"
   ]
  },
  {
   "cell_type": "markdown",
   "metadata": {},
   "source": [
    "### 5.2 Deploy routing webservice"
   ]
  },
  {
   "cell_type": "code",
   "execution_count": null,
   "metadata": {},
   "outputs": [
    {
     "name": "stdout",
     "output_type": "stream",
     "text": [
      "Tips: You can try get_logs(): https://aka.ms/debugimage#dockerlog or local deployment: https://aka.ms/debugimage#debug-locally to debug if deployment takes longer than 10 minutes.\n",
      "Running\n",
      "2021-09-01 23:16:54+00:00 Creating Container Registry if not exists.\n",
      "2021-09-01 23:16:54+00:00 Registering the environment.\n",
      "2021-09-01 23:16:55+00:00 Building image."
     ]
    }
   ],
   "source": [
    "from azureml.core import Environment\n",
    "from azureml.core.conda_dependencies import CondaDependencies\n",
    "from azureml.core.runconfig import DEFAULT_CPU_IMAGE\n",
    "routing_env = Environment(name=\"many_models_routing_environment\")\n",
    "routing_env_deps = CondaDependencies.create(pip_packages=['azureml-defaults', 'joblib'])\n",
    "routing_env.python.conda_dependencies = routing_env_deps\n",
    "\n",
    "routing_infconfig = InferenceConfig(\n",
    "    entry_script='routing_webservice.py',\n",
    "    source_directory='./scripts',\n",
    "    environment=routing_env\n",
    ")\n",
    "\n",
    "# Reuse deployment config with lower capacity\n",
    "deployment_config.cpu_cores = 0.1\n",
    "deployment_config.memory_gb = 0.5\n",
    "\n",
    "routing_service = Model.deploy(\n",
    "    workspace=ws,\n",
    "    name='routing-manymodels',\n",
    "    models=[dep_model],\n",
    "    inference_config=routing_infconfig,\n",
    "    deployment_config=deployment_config,\n",
    "    deployment_target=deployment_target,\n",
    "    overwrite=True\n",
    ")\n",
    "routing_service.wait_for_deployment(show_output=True)\n",
    "\n",
    "assert routing_service.state == 'Healthy'\n",
    "\n",
    "print('Routing endpoint deployed with URL: {}'.format(routing_service.scoring_uri))"
   ]
  },
  {
   "cell_type": "markdown",
   "metadata": {},
   "source": [
    "### 5.3 Test the webservice"
   ]
  },
  {
   "cell_type": "markdown",
   "metadata": {},
   "source": [
    "This new endpoint can be called with data from different stores or brands, and it will automatically route the request to the appropiate model endpoint."
   ]
  },
  {
   "cell_type": "code",
   "execution_count": null,
   "metadata": {},
   "outputs": [],
   "source": [
    "import requests\n",
    "import json\n",
    "url = routing_service.scoring_uri\n",
    "\n",
    "request_headers = {'Content-Type': 'application/json'}\n",
    "if routing_service.auth_enabled:\n",
    "    keys = routing_service.get_keys()\n",
    "    request_headers['Authorization'] = 'Bearer {}'.format(keys[0])\n",
    "\n",
    "response = requests.post(url, json=test_data, headers=request_headers)\n",
    "response.json()"
   ]
  }
 ],
 "metadata": {
  "authors": [
   {
    "name": "deeptim"
   }
  ],
  "kernelspec": {
   "display_name": "Python 3.6 - AzureML",
   "language": "python",
   "name": "python3-azureml"
  },
  "language_info": {
   "codemirror_mode": {
    "name": "ipython",
    "version": 3
   },
   "file_extension": ".py",
   "mimetype": "text/x-python",
   "name": "python",
   "nbconvert_exporter": "python",
   "pygments_lexer": "ipython3",
   "version": "3.6.9"
  }
 },
 "nbformat": 4,
 "nbformat_minor": 4
}
