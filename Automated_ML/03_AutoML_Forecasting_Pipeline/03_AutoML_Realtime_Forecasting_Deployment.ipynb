{
 "cells": [
  {
   "cell_type": "markdown",
   "source": [
    "Copyright (c) Microsoft Corporation. All rights reserved.\n",
    "\n",
    "Licensed under the MIT License."
   ],
   "metadata": {}
  },
  {
   "cell_type": "markdown",
   "source": [
    "![Impressions](https://PixelServer20190423114238.azurewebsites.net/api/impressions/MachineLearningNotebooks/how-to-use-azureml/automated-machine-learning/manymodels/03_Forecasting/03_Forecasting_Pipeline.png)"
   ],
   "metadata": {}
  },
  {
   "cell_type": "markdown",
   "source": [
    "# Real-time Forecasting Webservice Deployment - Automated ML\n",
    "---\n",
    "\n",
    "In this notebook we deploy multiple webservices to forecast sales in real-time with the models we trained in the last step.\n",
    "\n",
    "Models are grouped based on their tags and each group is deployed together to the same webservice. You can customize your grouping strategy by simply playing with the model tags. \n",
    "\n",
    "### Prerequisites \n",
    "At this point, you should have already: \n",
    "1. Created your AML Workspace using the [00_Setup_AML_Workspace notebook](../../00_Setup_AML_Workspace.ipynb)\n",
    "2. Run [01_Data_Preparation.ipynb](../../01_Data_Preparation.ipynb) to create the dataset\n",
    "3. Run [02_AutoML_Training_Pipeline.ipynb](../02_AutoML_Training_Pipeline/02_AutoML_Training_Pipeline.ipynb) to train the models"
   ],
   "metadata": {}
  },
  {
   "cell_type": "markdown",
   "source": [
    "## 1.0 Connect to workspace"
   ],
   "metadata": {}
  },
  {
   "cell_type": "code",
   "execution_count": 23,
   "source": [
    "import azureml.core\n",
    "from azureml.core import Workspace, Datastore\n",
    "import pandas as pd\n",
    "\n",
    "# set up workspace\n",
    "ws= Workspace.from_config() \n",
    "\n",
    "# Take a look at Workspace\n",
    "ws.get_details()\n",
    "\n",
    "# set up datastores\n",
    "dstore = ws.get_default_datastore()\n",
    "\n",
    "output = {}\n",
    "output['SDK version'] = azureml.core.VERSION\n",
    "output['Subscription ID'] = ws.subscription_id\n",
    "output['Workspace'] = ws.name\n",
    "output['Resource Group'] = ws.resource_group\n",
    "output['Location'] = ws.location\n",
    "output['Default datastore name'] = dstore.name\n",
    "pd.set_option('display.max_colwidth', -1)\n",
    "outputDf = pd.DataFrame(data = output, index = [''])\n",
    "outputDf.T"
   ],
   "outputs": [
    {
     "output_type": "execute_result",
     "data": {
      "text/plain": [
       "                                                            \n",
       "SDK version             1.33.0                              \n",
       "Subscription ID         af3877c2-18a2-4ce2-b67c-a8e21e968128\n",
       "Workspace               coding-forge-ml-ws                  \n",
       "Resource Group          coding-forge-rg                     \n",
       "Location                eastus                              \n",
       "Default datastore name  workspaceblobstore                  "
      ],
      "text/html": [
       "<div>\n",
       "<style scoped>\n",
       "    .dataframe tbody tr th:only-of-type {\n",
       "        vertical-align: middle;\n",
       "    }\n",
       "\n",
       "    .dataframe tbody tr th {\n",
       "        vertical-align: top;\n",
       "    }\n",
       "\n",
       "    .dataframe thead th {\n",
       "        text-align: right;\n",
       "    }\n",
       "</style>\n",
       "<table border=\"1\" class=\"dataframe\">\n",
       "  <thead>\n",
       "    <tr style=\"text-align: right;\">\n",
       "      <th></th>\n",
       "      <th></th>\n",
       "    </tr>\n",
       "  </thead>\n",
       "  <tbody>\n",
       "    <tr>\n",
       "      <th>SDK version</th>\n",
       "      <td>1.33.0</td>\n",
       "    </tr>\n",
       "    <tr>\n",
       "      <th>Subscription ID</th>\n",
       "      <td>af3877c2-18a2-4ce2-b67c-a8e21e968128</td>\n",
       "    </tr>\n",
       "    <tr>\n",
       "      <th>Workspace</th>\n",
       "      <td>coding-forge-ml-ws</td>\n",
       "    </tr>\n",
       "    <tr>\n",
       "      <th>Resource Group</th>\n",
       "      <td>coding-forge-rg</td>\n",
       "    </tr>\n",
       "    <tr>\n",
       "      <th>Location</th>\n",
       "      <td>eastus</td>\n",
       "    </tr>\n",
       "    <tr>\n",
       "      <th>Default datastore name</th>\n",
       "      <td>workspaceblobstore</td>\n",
       "    </tr>\n",
       "  </tbody>\n",
       "</table>\n",
       "</div>"
      ]
     },
     "metadata": {},
     "execution_count": 23
    }
   ],
   "metadata": {}
  },
  {
   "cell_type": "markdown",
   "source": [
    "## 2.0 Get models to be deployed"
   ],
   "metadata": {}
  },
  {
   "cell_type": "markdown",
   "source": [
    "### 2.1 Get models registered in the workspace that had been trained by a run"
   ],
   "metadata": {}
  },
  {
   "cell_type": "code",
   "execution_count": 24,
   "source": [
    "from azureml.core import Model\n",
    "runid =  'aa417fa2-45ca-4060-9026-adb81b164c8a' # update the pipeline run \n",
    "tags = [['ModelType', 'AutoML'], ['RunId', runid]]\n",
    "\n",
    "models = Model.list(ws, tags=tags, latest=True)\n",
    "print('Got '+str(len(models))+' models from the workspace.')"
   ],
   "outputs": [
    {
     "output_type": "stream",
     "name": "stdout",
     "text": [
      "Got 10 models from the workspace.\n"
     ]
    }
   ],
   "metadata": {}
  },
  {
   "cell_type": "markdown",
   "source": [
    "### 2.2 Group models by store\n",
    "\n",
    "We will group the models by store. Therefore, each group will contain three models, one for each of the orange juice brands, and all of them corresponding to the same store.\n",
    "\n",
    "You can change the grouping strategy by modifying the `grouping_tags` variable below and specifying the names of the tags you want to use for grouping. For convenience, we have created two additional grouping tags you can use:\n",
    "- `StoreGroup10`: groups stores 10 by 10\n",
    "- `StoreGroup100`: groups stores 100 by 100\n",
    "\n",
    "To create custom tags, modify the `tags_dict` object in the [training script](scripts/train.py) and run the training again."
   ],
   "metadata": {}
  },
  {
   "cell_type": "code",
   "execution_count": 25,
   "source": [
    "grouping_tags = ['Store']"
   ],
   "outputs": [],
   "metadata": {}
  },
  {
   "cell_type": "code",
   "execution_count": 26,
   "source": [
    "grouped_models = {}\n",
    "for m in models:\n",
    "    \n",
    "    if m.tags['ModelType'] == '_meta_':\n",
    "        continue\n",
    "    \n",
    "    group_name = '/'.join([m.tags[t] for t in grouping_tags])\n",
    "    group = grouped_models.setdefault(group_name, [])\n",
    "    group.append(m)"
   ],
   "outputs": [],
   "metadata": {}
  },
  {
   "cell_type": "markdown",
   "source": [
    "## 3.0 Configure deployment"
   ],
   "metadata": {
    "scrolled": true
   }
  },
  {
   "cell_type": "markdown",
   "source": [
    "### 3.1 Define inference environment"
   ],
   "metadata": {
    "scrolled": true
   }
  },
  {
   "cell_type": "code",
   "execution_count": 29,
   "source": [
    "from scripts.helper import get_automl_environment\n",
    "forecast_env = get_automl_environment(workspace=ws, training_pipeline_run_id=runid, training_experiment_name='manymodels-training-pipeline')"
   ],
   "outputs": [
    {
     "output_type": "stream",
     "name": "stdout",
     "text": [
      "here is one\n",
      "here is two\n",
      "here is three\n",
      "here is four\n"
     ]
    }
   ],
   "metadata": {}
  },
  {
   "cell_type": "markdown",
   "source": [
    "### 3.2 Define inference configuration"
   ],
   "metadata": {}
  },
  {
   "cell_type": "code",
   "execution_count": 30,
   "source": [
    "from azureml.core.model import InferenceConfig\n",
    "\n",
    "inference_config = InferenceConfig(\n",
    "    entry_script='forecast_webservice.py',\n",
    "    source_directory='./scripts',\n",
    "    environment=forecast_env\n",
    ")"
   ],
   "outputs": [],
   "metadata": {}
  },
  {
   "cell_type": "markdown",
   "source": [
    "### 3.3 [Option A] Define deploy configuration using ACI (dev/test)\n",
    "\n",
    "Use this option to deploy the models to Azure Container Instances, indicated for dev/test environments."
   ],
   "metadata": {}
  },
  {
   "cell_type": "code",
   "execution_count": 31,
   "source": [
    "from azureml.core.webservice import AciWebservice\n",
    "\n",
    "deployment_type = 'aci'\n",
    "deployment_config = AciWebservice.deploy_configuration(cpu_cores=1, memory_gb=1)\n",
    "deployment_target = None"
   ],
   "outputs": [],
   "metadata": {}
  },
  {
   "cell_type": "markdown",
   "source": [
    "### 3.3 [Option B] Define deploy configuration using AKS (production)\n",
    "\n",
    "Use this option to deploy the models to Azure Kubernetes Services, indicated for production environments."
   ],
   "metadata": {}
  },
  {
   "cell_type": "code",
   "execution_count": 70,
   "source": [
    "aks_target_name = 'coding-forge-aks'\n",
    "aks_resource_name = aks_target_name\n",
    "aks_resource_group = ws.resource_group"
   ],
   "outputs": [],
   "metadata": {}
  },
  {
   "cell_type": "code",
   "execution_count": 71,
   "source": [
    "from azureml.core.compute import AksCompute\n",
    "from azureml.core.compute import ComputeTarget\n",
    "from azureml.core.compute_target import ComputeTargetException\n",
    "\n",
    "try:\n",
    "    aks_target = AksCompute(ws, aks_target_name)\n",
    "    found_aks_cluster = True\n",
    "    print('AKS cluster already attached. Skip the optional step below and jump to \"Configure AKS\"')\n",
    "except ComputeTargetException:\n",
    "    print('AKS cluster not attached yet. Attempting to attach compute now')\n",
    "    attach_config = AksCompute.attach_configuration(\n",
    "        resource_group=aks_resource_group,\n",
    "        cluster_name=aks_resource_name\n",
    "    )\n",
    "\n",
    "    aks_target = ComputeTarget.attach(ws, aks_target_name, attach_config)\n",
    "    aks_target.wait_for_completion(show_output=True)\n",
    "\n",
    "    "
   ],
   "outputs": [
    {
     "output_type": "stream",
     "name": "stdout",
     "text": [
      "AKS cluster not attached yet. Attempting to attach compute now\n",
      "InProgress................\n",
      "SucceededProvisioning operation finished, operation \"Succeeded\"\n"
     ]
    }
   ],
   "metadata": {}
  },
  {
   "cell_type": "markdown",
   "source": [
    "#### [Optional] Attach AKS cluster\n",
    "\n",
    "Attach existing AKS cluster as Compute Target in Azure Machine Learning. This needs to be run only the first time."
   ],
   "metadata": {}
  },
  {
   "cell_type": "code",
   "execution_count": 40,
   "source": [],
   "outputs": [],
   "metadata": {}
  },
  {
   "cell_type": "code",
   "execution_count": 41,
   "source": [],
   "outputs": [],
   "metadata": {}
  },
  {
   "cell_type": "markdown",
   "source": [
    "#### Configure AKS"
   ],
   "metadata": {}
  },
  {
   "cell_type": "code",
   "execution_count": 72,
   "source": [
    "from azureml.core.webservice import AksWebservice\n",
    "\n",
    "deployment_type = 'aks'\n",
    "deployment_config = AksWebservice.deploy_configuration(cpu_cores=1, memory_gb=1)\n",
    "deployment_target = aks_target"
   ],
   "outputs": [],
   "metadata": {}
  },
  {
   "cell_type": "markdown",
   "source": [
    "## 4.0 Deploy the models\n",
    "\n",
    "We will now deploy one webservice for each of the groups of models. Deployment takes some minutes to complete, so we'll request all of them and then wait for them to finish."
   ],
   "metadata": {}
  },
  {
   "cell_type": "code",
   "execution_count": 73,
   "source": [
    "deployments = []\n",
    "for group_name, group_models in grouped_models.items():\n",
    "    \n",
    "    service_name = '{prefix}manymodels-{group}'.format(\n",
    "        prefix='test-' if deployment_type == 'aci' else '',\n",
    "        group=group_name\n",
    "    ).lower()\n",
    "    \n",
    "    print('Launching deployment of {}...'.format(service_name))\n",
    "    service = Model.deploy(\n",
    "        workspace=ws,\n",
    "        name=service_name,\n",
    "        models=group_models,\n",
    "        inference_config=inference_config,\n",
    "        deployment_config=deployment_config,\n",
    "        deployment_target=deployment_target,\n",
    "        overwrite=True\n",
    "    )\n",
    "    print('Deployment of {} started'.format(service_name))\n",
    "    \n",
    "    deployments.append({ 'service': service, 'group': group_name, 'models': group_models })\n",
    "    "
   ],
   "outputs": [
    {
     "output_type": "stream",
     "name": "stdout",
     "text": [
      "Launching deployment of manymodels-1002...\n",
      "Deployment of manymodels-1002 started\n",
      "Launching deployment of manymodels-1003...\n",
      "Deployment of manymodels-1003 started\n",
      "Launching deployment of manymodels-1001...\n",
      "Deployment of manymodels-1001 started\n",
      "Launching deployment of manymodels-1000...\n",
      "Deployment of manymodels-1000 started\n"
     ]
    }
   ],
   "metadata": {}
  },
  {
   "cell_type": "code",
   "execution_count": 74,
   "source": [
    "models_deployed = {}\n",
    "for deployment in deployments:\n",
    "    \n",
    "    service = deployment['service']\n",
    "    print('Waiting for deployment of {} to finish...'.format(service.name))\n",
    "    service.wait_for_deployment(show_output=True)\n",
    "    if service.state != 'Healthy':\n",
    "        print('DEPLOYMENT FAILED FOR SERVICE {}'.format(service.name))\n",
    "    \n",
    "    service_info = {\n",
    "        'webservice': service.name,\n",
    "        'state': service.state,\n",
    "        'endpoint': service.scoring_uri if service.state == 'Healthy' else None,\n",
    "        'key': service.get_keys()[0] if service.auth_enabled and service.state == 'Healthy' else None\n",
    "    }\n",
    "\n",
    "    # Store deployment info for each deployed model\n",
    "    for m in deployment['models']:\n",
    "        models_deployed[m.name] = {\n",
    "            'version': m.version,\n",
    "            'group': deployment['group'],\n",
    "            **service_info\n",
    "        }\n"
   ],
   "outputs": [
    {
     "output_type": "stream",
     "name": "stdout",
     "text": [
      "Waiting for deployment of manymodels-1002 to finish...\n",
      "Tips: You can try get_logs(): https://aka.ms/debugimage#dockerlog or local deployment: https://aka.ms/debugimage#debug-locally to debug if deployment takes longer than 10 minutes.\n",
      "Running\n",
      "2021-09-02 16:07:56-04:00 Registering the environment.\n",
      "2021-09-02 16:07:56-04:00 Use the existing image.\n",
      "2021-09-02 16:08:22-04:00 Creating resources in AKS..\n",
      "2021-09-02 16:12:06-04:00 Checking the status of inference endpoint manymodels-1002.\n",
      "Succeeded\n",
      "AKS service creation operation finished, operation \"Succeeded\"\n",
      "Waiting for deployment of manymodels-1003 to finish...\n",
      "Tips: You can try get_logs(): https://aka.ms/debugimage#dockerlog or local deployment: https://aka.ms/debugimage#debug-locally to debug if deployment takes longer than 10 minutes.\n",
      "Running\n",
      "2021-09-02 16:08:00-04:00 Creating Container Registry if not exists.\n",
      "2021-09-02 16:08:01-04:00 Registering the environment.\n",
      "2021-09-02 16:08:02-04:00 Creating resources in AKS.\n",
      "2021-09-02 16:08:03-04:00 Submitting deployment to compute.\n",
      "2021-09-02 16:08:03-04:00 Checking the status of deployment manymodels-1003..\n",
      "2021-09-02 16:12:43-04:00 Checking the status of inference endpoint manymodels-1003.\n",
      "Succeeded\n",
      "AKS service creation operation finished, operation \"Succeeded\"\n",
      "Waiting for deployment of manymodels-1001 to finish...\n",
      "Tips: You can try get_logs(): https://aka.ms/debugimage#dockerlog or local deployment: https://aka.ms/debugimage#debug-locally to debug if deployment takes longer than 10 minutes.\n",
      "SucceededAKS service creation operation finished, operation \"Succeeded\"\n",
      "DEPLOYMENT FAILED FOR SERVICE manymodels-1001\n",
      "Waiting for deployment of manymodels-1000 to finish...\n",
      "Tips: You can try get_logs(): https://aka.ms/debugimage#dockerlog or local deployment: https://aka.ms/debugimage#debug-locally to debug if deployment takes longer than 10 minutes.\n",
      "SucceededAKS service creation operation finished, operation \"Succeeded\"\n"
     ]
    }
   ],
   "metadata": {}
  },
  {
   "cell_type": "code",
   "execution_count": null,
   "source": [
    "from azureml.core import Model\n",
    "for model in Model.list(ws):\n",
    "    print('name:', model.name, '\\nversion:', model.version, '\\n')\n",
    "# Model(ws, name = 'model_name', version = 'model_version').delete()"
   ],
   "outputs": [],
   "metadata": {}
  },
  {
   "cell_type": "code",
   "execution_count": 59,
   "source": [
    "from azureml.core import Webservice\n",
    "for webservice in Webservice.list(ws):\n",
    "    print('name:', webservice.name)\n",
    "    if \"manymodels\" in webservice.name:\n",
    "        Webservice(ws, name = webservice.name).delete()"
   ],
   "outputs": [
    {
     "output_type": "stream",
     "name": "stdout",
     "text": [
      "name: routing-manymodels\n",
      "name: manymodels-1002\n",
      "name: manymodels-1000\n",
      "name: manymodels-1001\n",
      "name: manymodels-1003\n"
     ]
    }
   ],
   "metadata": {}
  },
  {
   "cell_type": "markdown",
   "source": [
    "### 4.2 Test the webservices"
   ],
   "metadata": {}
  },
  {
   "cell_type": "markdown",
   "source": [
    "We can query for multiple models into the same request, but all of them need to be from the same store, as each endpoint only contains models corresponding to one particular store."
   ],
   "metadata": {}
  },
  {
   "cell_type": "code",
   "execution_count": 85,
   "source": [
    "from azureml.core import Datastore\n",
    "\n",
    "# Please change the following to point to your own blob container and pass in account_key\n",
    "blob_datastore_name = \"automl_many_models\"\n",
    "container_name = \"automl-sample-notebook-data\"\n",
    "account_name =  \"automlsamplenotebookdata\"\n",
    "\n",
    "oj_datastore = Datastore.register_azure_blob_container(workspace=ws, \n",
    "                                                       datastore_name=blob_datastore_name, \n",
    "                                                       container_name=container_name,\n",
    "                                                       account_name=account_name,\n",
    "                                                       create_if_not_exists=True)"
   ],
   "outputs": [
    {
     "output_type": "stream",
     "name": "stderr",
     "text": [
      "Registering datastore failed with a 400 error code and error message 'Another datastore with the same name already exists but with different connection information. You can only update the credential information of a datastore. You can either use a different datastore name or delete the existing one and try again.'\n"
     ]
    },
    {
     "output_type": "error",
     "ename": "ErrorResponseException",
     "evalue": "(DatastoreNameInUse) Another datastore with the same name already exists but with different connection information. You can only update the credential information of a datastore. You can either use a different datastore name or delete the existing one and try again.",
     "traceback": [
      "\u001b[0;31m---------------------------------------------------------------------------\u001b[0m",
      "\u001b[0;31mErrorResponseException\u001b[0m                    Traceback (most recent call last)",
      "\u001b[0;32m<ipython-input-85-d92370a76170>\u001b[0m in \u001b[0;36m<module>\u001b[0;34m\u001b[0m\n\u001b[1;32m     10\u001b[0m                                                        \u001b[0mcontainer_name\u001b[0m\u001b[0;34m=\u001b[0m\u001b[0mcontainer_name\u001b[0m\u001b[0;34m,\u001b[0m\u001b[0;34m\u001b[0m\u001b[0;34m\u001b[0m\u001b[0m\n\u001b[1;32m     11\u001b[0m                                                        \u001b[0maccount_name\u001b[0m\u001b[0;34m=\u001b[0m\u001b[0maccount_name\u001b[0m\u001b[0;34m,\u001b[0m\u001b[0;34m\u001b[0m\u001b[0;34m\u001b[0m\u001b[0m\n\u001b[0;32m---> 12\u001b[0;31m                                                        create_if_not_exists=True)\n\u001b[0m",
      "\u001b[0;32m~/anaconda3/envs/mm/lib/python3.7/site-packages/azureml/core/datastore.py\u001b[0m in \u001b[0;36mregister_azure_blob_container\u001b[0;34m(workspace, datastore_name, container_name, account_name, sas_token, account_key, protocol, endpoint, overwrite, create_if_not_exists, skip_validation, blob_cache_timeout, grant_workspace_access, subscription_id, resource_group)\u001b[0m\n\u001b[1;32m    236\u001b[0m             \u001b[0mgrant_workspace_access\u001b[0m\u001b[0;34m=\u001b[0m\u001b[0mgrant_workspace_access\u001b[0m\u001b[0;34m,\u001b[0m\u001b[0;34m\u001b[0m\u001b[0;34m\u001b[0m\u001b[0m\n\u001b[1;32m    237\u001b[0m             \u001b[0msubscription_id\u001b[0m\u001b[0;34m=\u001b[0m\u001b[0msubscription_id\u001b[0m\u001b[0;34m,\u001b[0m\u001b[0;34m\u001b[0m\u001b[0;34m\u001b[0m\u001b[0m\n\u001b[0;32m--> 238\u001b[0;31m             \u001b[0mresource_group\u001b[0m\u001b[0;34m=\u001b[0m\u001b[0mresource_group\u001b[0m\u001b[0;34m,\u001b[0m\u001b[0;34m\u001b[0m\u001b[0;34m\u001b[0m\u001b[0m\n\u001b[0m\u001b[1;32m    239\u001b[0m         )\n\u001b[1;32m    240\u001b[0m \u001b[0;34m\u001b[0m\u001b[0m\n",
      "\u001b[0;32m~/anaconda3/envs/mm/lib/python3.7/site-packages/azureml/data/datastore_client.py\u001b[0m in \u001b[0;36mregister_azure_blob_container\u001b[0;34m(workspace, datastore_name, container_name, account_name, sas_token, account_key, protocol, endpoint, overwrite, create_if_not_exists, skip_validation, blob_cache_timeout, grant_workspace_access, subscription_id, resource_group)\u001b[0m\n\u001b[1;32m    268\u001b[0m             \u001b[0mgrant_workspace_access\u001b[0m\u001b[0;34m=\u001b[0m\u001b[0mgrant_workspace_access\u001b[0m\u001b[0;34m,\u001b[0m\u001b[0;34m\u001b[0m\u001b[0;34m\u001b[0m\u001b[0m\n\u001b[1;32m    269\u001b[0m             \u001b[0msubscription_id\u001b[0m\u001b[0;34m=\u001b[0m\u001b[0msubscription_id\u001b[0m\u001b[0;34m,\u001b[0m\u001b[0;34m\u001b[0m\u001b[0;34m\u001b[0m\u001b[0m\n\u001b[0;32m--> 270\u001b[0;31m             \u001b[0mresource_group\u001b[0m\u001b[0;34m=\u001b[0m\u001b[0mresource_group\u001b[0m\u001b[0;34m,\u001b[0m\u001b[0;34m\u001b[0m\u001b[0;34m\u001b[0m\u001b[0m\n\u001b[0m\u001b[1;32m    271\u001b[0m         )\n\u001b[1;32m    272\u001b[0m \u001b[0;34m\u001b[0m\u001b[0m\n",
      "\u001b[0;32m~/anaconda3/envs/mm/lib/python3.7/site-packages/azureml/data/datastore_client.py\u001b[0m in \u001b[0;36m_register_azure_storage\u001b[0;34m(ws, datastore_name, storage_type, container_name, account_name, credential_type, credential, protocol, endpoint, overwrite, create_if_not_exists, skip_validation, auth, host, blob_cache_timeout, grant_workspace_access, subscription_id, resource_group)\u001b[0m\n\u001b[1;32m    686\u001b[0m         \u001b[0mmodule_logger\u001b[0m\u001b[0;34m.\u001b[0m\u001b[0mdebug\u001b[0m\u001b[0;34m(\u001b[0m\u001b[0;34m\"Converted data into DTO\"\u001b[0m\u001b[0;34m)\u001b[0m\u001b[0;34m\u001b[0m\u001b[0;34m\u001b[0m\u001b[0m\n\u001b[1;32m    687\u001b[0m         return _DatastoreClient._register(ws=ws, dto=datastore, create_if_not_exists=create_if_not_exists,\n\u001b[0;32m--> 688\u001b[0;31m                                           skip_validation=skip_validation, overwrite=overwrite, auth=auth, host=host)\n\u001b[0m\u001b[1;32m    689\u001b[0m \u001b[0;34m\u001b[0m\u001b[0m\n\u001b[1;32m    690\u001b[0m     \u001b[0;34m@\u001b[0m\u001b[0mstaticmethod\u001b[0m\u001b[0;34m\u001b[0m\u001b[0;34m\u001b[0m\u001b[0m\n",
      "\u001b[0;32m~/anaconda3/envs/mm/lib/python3.7/site-packages/azureml/data/_exception_handler.py\u001b[0m in \u001b[0;36mdecorated\u001b[0;34m(*args, **kwargs)\u001b[0m\n\u001b[1;32m     18\u001b[0m             \u001b[0;32mif\u001b[0m \u001b[0me\u001b[0m\u001b[0;34m.\u001b[0m\u001b[0mresponse\u001b[0m\u001b[0;34m.\u001b[0m\u001b[0mstatus_code\u001b[0m \u001b[0;34m<\u001b[0m \u001b[0;36m500\u001b[0m \u001b[0;32mand\u001b[0m \u001b[0;34m\"(UserError)\"\u001b[0m \u001b[0;32min\u001b[0m \u001b[0mstr\u001b[0m\u001b[0;34m(\u001b[0m\u001b[0me\u001b[0m\u001b[0;34m)\u001b[0m\u001b[0;34m:\u001b[0m\u001b[0;34m\u001b[0m\u001b[0;34m\u001b[0m\u001b[0m\n\u001b[1;32m     19\u001b[0m                 \u001b[0;32mraise\u001b[0m \u001b[0mUserErrorException\u001b[0m\u001b[0;34m(\u001b[0m\u001b[0mstr\u001b[0m\u001b[0;34m(\u001b[0m\u001b[0me\u001b[0m\u001b[0;34m)\u001b[0m\u001b[0;34m)\u001b[0m\u001b[0;34m\u001b[0m\u001b[0;34m\u001b[0m\u001b[0m\n\u001b[0;32m---> 20\u001b[0;31m             \u001b[0;32mraise\u001b[0m \u001b[0me\u001b[0m\u001b[0;34m\u001b[0m\u001b[0;34m\u001b[0m\u001b[0m\n\u001b[0m\u001b[1;32m     21\u001b[0m \u001b[0;34m\u001b[0m\u001b[0m\n\u001b[1;32m     22\u001b[0m     \u001b[0;32mreturn\u001b[0m \u001b[0mdecorated\u001b[0m\u001b[0;34m\u001b[0m\u001b[0;34m\u001b[0m\u001b[0m\n",
      "\u001b[0;32m~/anaconda3/envs/mm/lib/python3.7/site-packages/azureml/data/_exception_handler.py\u001b[0m in \u001b[0;36mdecorated\u001b[0;34m(*args, **kwargs)\u001b[0m\n\u001b[1;32m     14\u001b[0m     \u001b[0;32mdef\u001b[0m \u001b[0mdecorated\u001b[0m\u001b[0;34m(\u001b[0m\u001b[0;34m*\u001b[0m\u001b[0margs\u001b[0m\u001b[0;34m,\u001b[0m \u001b[0;34m**\u001b[0m\u001b[0mkwargs\u001b[0m\u001b[0;34m)\u001b[0m\u001b[0;34m:\u001b[0m\u001b[0;34m\u001b[0m\u001b[0;34m\u001b[0m\u001b[0m\n\u001b[1;32m     15\u001b[0m         \u001b[0;32mtry\u001b[0m\u001b[0;34m:\u001b[0m\u001b[0;34m\u001b[0m\u001b[0;34m\u001b[0m\u001b[0m\n\u001b[0;32m---> 16\u001b[0;31m             \u001b[0;32mreturn\u001b[0m \u001b[0mf\u001b[0m\u001b[0;34m(\u001b[0m\u001b[0;34m*\u001b[0m\u001b[0margs\u001b[0m\u001b[0;34m,\u001b[0m \u001b[0;34m**\u001b[0m\u001b[0mkwargs\u001b[0m\u001b[0;34m)\u001b[0m\u001b[0;34m\u001b[0m\u001b[0;34m\u001b[0m\u001b[0m\n\u001b[0m\u001b[1;32m     17\u001b[0m         \u001b[0;32mexcept\u001b[0m \u001b[0mErrorResponseException\u001b[0m \u001b[0;32mas\u001b[0m \u001b[0me\u001b[0m\u001b[0;34m:\u001b[0m\u001b[0;34m\u001b[0m\u001b[0;34m\u001b[0m\u001b[0m\n\u001b[1;32m     18\u001b[0m             \u001b[0;32mif\u001b[0m \u001b[0me\u001b[0m\u001b[0;34m.\u001b[0m\u001b[0mresponse\u001b[0m\u001b[0;34m.\u001b[0m\u001b[0mstatus_code\u001b[0m \u001b[0;34m<\u001b[0m \u001b[0;36m500\u001b[0m \u001b[0;32mand\u001b[0m \u001b[0;34m\"(UserError)\"\u001b[0m \u001b[0;32min\u001b[0m \u001b[0mstr\u001b[0m\u001b[0;34m(\u001b[0m\u001b[0me\u001b[0m\u001b[0;34m)\u001b[0m\u001b[0;34m:\u001b[0m\u001b[0;34m\u001b[0m\u001b[0;34m\u001b[0m\u001b[0m\n",
      "\u001b[0;32m~/anaconda3/envs/mm/lib/python3.7/site-packages/azureml/data/datastore_client.py\u001b[0m in \u001b[0;36m_register\u001b[0;34m(ws, dto, create_if_not_exists, skip_validation, overwrite, auth, host)\u001b[0m\n\u001b[1;32m    841\u001b[0m                 module_logger.error(\"Registering datastore failed with a {} error code and error message '{}'\"\n\u001b[1;32m    842\u001b[0m                                     .format(e.response.status_code, _DatastoreClient._get_http_exception_message(e)))\n\u001b[0;32m--> 843\u001b[0;31m                 \u001b[0;32mraise\u001b[0m \u001b[0me\u001b[0m\u001b[0;34m\u001b[0m\u001b[0;34m\u001b[0m\u001b[0m\n\u001b[0m\u001b[1;32m    844\u001b[0m \u001b[0;34m\u001b[0m\u001b[0m\n\u001b[1;32m    845\u001b[0m         \u001b[0;32mreturn\u001b[0m \u001b[0m_DatastoreClient\u001b[0m\u001b[0;34m.\u001b[0m\u001b[0m_get\u001b[0m\u001b[0;34m(\u001b[0m\u001b[0mws\u001b[0m\u001b[0;34m,\u001b[0m \u001b[0mdto\u001b[0m\u001b[0;34m.\u001b[0m\u001b[0mname\u001b[0m\u001b[0;34m,\u001b[0m \u001b[0mauth\u001b[0m\u001b[0;34m,\u001b[0m \u001b[0mhost\u001b[0m\u001b[0;34m)\u001b[0m\u001b[0;34m\u001b[0m\u001b[0;34m\u001b[0m\u001b[0m\n",
      "\u001b[0;32m~/anaconda3/envs/mm/lib/python3.7/site-packages/azureml/data/datastore_client.py\u001b[0m in \u001b[0;36m_register\u001b[0;34m(ws, dto, create_if_not_exists, skip_validation, overwrite, auth, host)\u001b[0m\n\u001b[1;32m    828\u001b[0m             client.data_stores.create(ws._subscription_id, ws._resource_group, ws._workspace_name,\n\u001b[1;32m    829\u001b[0m                                       \u001b[0mdto\u001b[0m\u001b[0;34m,\u001b[0m \u001b[0mcreate_if_not_exists\u001b[0m\u001b[0;34m,\u001b[0m \u001b[0mskip_validation\u001b[0m\u001b[0;34m,\u001b[0m\u001b[0;34m\u001b[0m\u001b[0;34m\u001b[0m\u001b[0m\n\u001b[0;32m--> 830\u001b[0;31m                                       custom_headers=_DatastoreClient._custom_headers)\n\u001b[0m\u001b[1;32m    831\u001b[0m         \u001b[0;32mexcept\u001b[0m \u001b[0mHttpOperationError\u001b[0m \u001b[0;32mas\u001b[0m \u001b[0me\u001b[0m\u001b[0;34m:\u001b[0m\u001b[0;34m\u001b[0m\u001b[0;34m\u001b[0m\u001b[0m\n\u001b[1;32m    832\u001b[0m             \u001b[0;32mif\u001b[0m \u001b[0me\u001b[0m\u001b[0;34m.\u001b[0m\u001b[0mresponse\u001b[0m\u001b[0;34m.\u001b[0m\u001b[0mstatus_code\u001b[0m \u001b[0;34m==\u001b[0m \u001b[0;36m400\u001b[0m \u001b[0;32mand\u001b[0m \u001b[0moverwrite\u001b[0m \u001b[0;32mand\u001b[0m \u001b[0mCONFLICT_MESSAGE\u001b[0m \u001b[0;32min\u001b[0m \u001b[0me\u001b[0m\u001b[0;34m.\u001b[0m\u001b[0mmessage\u001b[0m\u001b[0;34m:\u001b[0m\u001b[0;34m\u001b[0m\u001b[0;34m\u001b[0m\u001b[0m\n",
      "\u001b[0;32m~/anaconda3/envs/mm/lib/python3.7/site-packages/azureml/_restclient/operations/data_stores_operations.py\u001b[0m in \u001b[0;36mcreate\u001b[0;34m(self, subscription_id, resource_group_name, workspace_name, dto, create_if_not_exists, skip_validation, custom_headers, raw, **operation_config)\u001b[0m\n\u001b[1;32m    177\u001b[0m \u001b[0;34m\u001b[0m\u001b[0m\n\u001b[1;32m    178\u001b[0m         \u001b[0;32mif\u001b[0m \u001b[0mresponse\u001b[0m\u001b[0;34m.\u001b[0m\u001b[0mstatus_code\u001b[0m \u001b[0;32mnot\u001b[0m \u001b[0;32min\u001b[0m \u001b[0;34m[\u001b[0m\u001b[0;36m200\u001b[0m\u001b[0;34m]\u001b[0m\u001b[0;34m:\u001b[0m\u001b[0;34m\u001b[0m\u001b[0;34m\u001b[0m\u001b[0m\n\u001b[0;32m--> 179\u001b[0;31m             \u001b[0;32mraise\u001b[0m \u001b[0mmodels\u001b[0m\u001b[0;34m.\u001b[0m\u001b[0mErrorResponseException\u001b[0m\u001b[0;34m(\u001b[0m\u001b[0mself\u001b[0m\u001b[0;34m.\u001b[0m\u001b[0m_deserialize\u001b[0m\u001b[0;34m,\u001b[0m \u001b[0mresponse\u001b[0m\u001b[0;34m)\u001b[0m\u001b[0;34m\u001b[0m\u001b[0;34m\u001b[0m\u001b[0m\n\u001b[0m\u001b[1;32m    180\u001b[0m \u001b[0;34m\u001b[0m\u001b[0m\n\u001b[1;32m    181\u001b[0m         \u001b[0;32mif\u001b[0m \u001b[0mraw\u001b[0m\u001b[0;34m:\u001b[0m\u001b[0;34m\u001b[0m\u001b[0;34m\u001b[0m\u001b[0m\n",
      "\u001b[0;31mErrorResponseException\u001b[0m: (DatastoreNameInUse) Another datastore with the same name already exists but with different connection information. You can only update the credential information of a datastore. You can either use a different datastore name or delete the existing one and try again."
     ]
    }
   ],
   "metadata": {}
  },
  {
   "cell_type": "code",
   "execution_count": 84,
   "source": [
    "display(dstore.name)\n",
    "display(dstore.container_name)\n",
    "display(dstore.account_name)\n"
   ],
   "outputs": [
    {
     "output_type": "display_data",
     "data": {
      "text/plain": [
       "'workspaceblobstore'"
      ]
     },
     "metadata": {}
    },
    {
     "output_type": "display_data",
     "data": {
      "text/plain": [
       "'azureml-blobstore-e057c1f8-0319-435b-92cd-84642f9e37d5'"
      ]
     },
     "metadata": {}
    },
    {
     "output_type": "display_data",
     "data": {
      "text/plain": [
       "'codingforgesa'"
      ]
     },
     "metadata": {}
    }
   ],
   "metadata": {}
  },
  {
   "cell_type": "code",
   "execution_count": 76,
   "source": [
    "from azureml.core.dataset import Dataset\n",
    "inference_name_small = 'oj_inference_small'\n",
    "\n",
    "inference_ds_small = Dataset.Tabular.from_delimited_files(path=oj_datastore.path(inference_name_small + '/'), validate=False)\n",
    "all_df = inference_ds_small.to_pandas_dataframe()"
   ],
   "outputs": [],
   "metadata": {}
  },
  {
   "cell_type": "code",
   "execution_count": 77,
   "source": [
    "from scripts.helper import get_model_name\n",
    "store = 1002\n",
    "brand = 'dominicks'\n",
    "tags_dict = {'store':store, 'brand': brand}\n",
    "model_name = get_model_name(tags_dict)"
   ],
   "outputs": [],
   "metadata": {}
  },
  {
   "cell_type": "code",
   "execution_count": 78,
   "source": [
    "dominicks_test_data = all_df.loc[(all_df['Store']==store) & (all_df['Brand']==brand)]\n",
    "print(dominicks_test_data.head(5))"
   ],
   "outputs": [
    {
     "output_type": "stream",
     "name": "stdout",
     "text": [
      "    WeekStarting  Store      Brand  Quantity  Advert  Price   Revenue\n",
      "108 1992-06-04    1002   dominicks  11957     1       2.07   24750.99\n",
      "109 1992-06-11    1002   dominicks  16608     1       2.49   41353.92\n",
      "110 1992-06-18    1002   dominicks  15073     1       2.63   39641.99\n",
      "111 1992-06-25    1002   dominicks  10881     1       2.16   23502.96\n",
      "112 1992-07-02    1002   dominicks  9384      1       2.66   24961.44\n"
     ]
    }
   ],
   "metadata": {}
  },
  {
   "cell_type": "code",
   "execution_count": 79,
   "source": [
    "dominicks_test_data_json = dominicks_test_data[:].to_json(orient='records', date_format='iso')"
   ],
   "outputs": [
    {
     "output_type": "execute_result",
     "data": {
      "text/plain": [
       "'[{\"WeekStarting\":\"1992-06-04T00:00:00.000Z\",\"Store\":1002,\"Brand\":\"dominicks\",\"Quantity\":11957,\"Advert\":1,\"Price\":2.07,\"Revenue\":24750.99},{\"WeekStarting\":\"1992-06-11T00:00:00.000Z\",\"Store\":1002,\"Brand\":\"dominicks\",\"Quantity\":16608,\"Advert\":1,\"Price\":2.49,\"Revenue\":41353.92},{\"WeekStarting\":\"1992-06-18T00:00:00.000Z\",\"Store\":1002,\"Brand\":\"dominicks\",\"Quantity\":15073,\"Advert\":1,\"Price\":2.63,\"Revenue\":39641.99},{\"WeekStarting\":\"1992-06-25T00:00:00.000Z\",\"Store\":1002,\"Brand\":\"dominicks\",\"Quantity\":10881,\"Advert\":1,\"Price\":2.16,\"Revenue\":23502.96},{\"WeekStarting\":\"1992-07-02T00:00:00.000Z\",\"Store\":1002,\"Brand\":\"dominicks\",\"Quantity\":9384,\"Advert\":1,\"Price\":2.66,\"Revenue\":24961.44},{\"WeekStarting\":\"1992-07-09T00:00:00.000Z\",\"Store\":1002,\"Brand\":\"dominicks\",\"Quantity\":9029,\"Advert\":1,\"Price\":1.92,\"Revenue\":17335.68},{\"WeekStarting\":\"1992-07-16T00:00:00.000Z\",\"Store\":1002,\"Brand\":\"dominicks\",\"Quantity\":14381,\"Advert\":1,\"Price\":2.28,\"Revenue\":32788.68},{\"WeekStarting\":\"1992-07-23T00:00:00.000Z\",\"Store\":1002,\"Brand\":\"dominicks\",\"Quantity\":13214,\"Advert\":1,\"Price\":2.55,\"Revenue\":33695.7},{\"WeekStarting\":\"1992-07-30T00:00:00.000Z\",\"Store\":1002,\"Brand\":\"dominicks\",\"Quantity\":12285,\"Advert\":1,\"Price\":2.53,\"Revenue\":31081.05},{\"WeekStarting\":\"1992-08-06T00:00:00.000Z\",\"Store\":1002,\"Brand\":\"dominicks\",\"Quantity\":17355,\"Advert\":1,\"Price\":2.52,\"Revenue\":43734.6},{\"WeekStarting\":\"1992-08-13T00:00:00.000Z\",\"Store\":1002,\"Brand\":\"dominicks\",\"Quantity\":13680,\"Advert\":1,\"Price\":2.34,\"Revenue\":32011.2},{\"WeekStarting\":\"1992-08-20T00:00:00.000Z\",\"Store\":1002,\"Brand\":\"dominicks\",\"Quantity\":17433,\"Advert\":1,\"Price\":2.16,\"Revenue\":37655.28},{\"WeekStarting\":\"1992-08-27T00:00:00.000Z\",\"Store\":1002,\"Brand\":\"dominicks\",\"Quantity\":9567,\"Advert\":1,\"Price\":2.38,\"Revenue\":22769.46},{\"WeekStarting\":\"1992-09-03T00:00:00.000Z\",\"Store\":1002,\"Brand\":\"dominicks\",\"Quantity\":13669,\"Advert\":1,\"Price\":2.67,\"Revenue\":36496.23},{\"WeekStarting\":\"1992-09-10T00:00:00.000Z\",\"Store\":1002,\"Brand\":\"dominicks\",\"Quantity\":9918,\"Advert\":1,\"Price\":2.41,\"Revenue\":23902.38},{\"WeekStarting\":\"1992-09-17T00:00:00.000Z\",\"Store\":1002,\"Brand\":\"dominicks\",\"Quantity\":16352,\"Advert\":1,\"Price\":2.21,\"Revenue\":36137.92},{\"WeekStarting\":\"1992-09-24T00:00:00.000Z\",\"Store\":1002,\"Brand\":\"dominicks\",\"Quantity\":11015,\"Advert\":1,\"Price\":2.33,\"Revenue\":25664.95},{\"WeekStarting\":\"1992-10-01T00:00:00.000Z\",\"Store\":1002,\"Brand\":\"dominicks\",\"Quantity\":10280,\"Advert\":1,\"Price\":2.29,\"Revenue\":23541.2}]'"
      ]
     },
     "metadata": {},
     "execution_count": 79
    }
   ],
   "metadata": {}
  },
  {
   "cell_type": "code",
   "execution_count": 80,
   "source": [
    "test_data = [{\n",
    "        \"group_column_names\": ['Store', 'Brand'], # This is the same list that is passed in the training script\n",
    "        \"time_column_name\": \"WeekStarting\", # This is the same value for time_column_name that is passed in the training script\n",
    "        \"data\": dominicks_test_data_json\n",
    "    }]"
   ],
   "outputs": [
    {
     "output_type": "execute_result",
     "data": {
      "text/plain": [
       "[{'group_column_names': ['Store', 'Brand'],\n",
       "  'time_column_name': 'WeekStarting',\n",
       "  'data': '[{\"WeekStarting\":\"1992-06-04T00:00:00.000Z\",\"Store\":1002,\"Brand\":\"dominicks\",\"Quantity\":11957,\"Advert\":1,\"Price\":2.07,\"Revenue\":24750.99},{\"WeekStarting\":\"1992-06-11T00:00:00.000Z\",\"Store\":1002,\"Brand\":\"dominicks\",\"Quantity\":16608,\"Advert\":1,\"Price\":2.49,\"Revenue\":41353.92},{\"WeekStarting\":\"1992-06-18T00:00:00.000Z\",\"Store\":1002,\"Brand\":\"dominicks\",\"Quantity\":15073,\"Advert\":1,\"Price\":2.63,\"Revenue\":39641.99},{\"WeekStarting\":\"1992-06-25T00:00:00.000Z\",\"Store\":1002,\"Brand\":\"dominicks\",\"Quantity\":10881,\"Advert\":1,\"Price\":2.16,\"Revenue\":23502.96},{\"WeekStarting\":\"1992-07-02T00:00:00.000Z\",\"Store\":1002,\"Brand\":\"dominicks\",\"Quantity\":9384,\"Advert\":1,\"Price\":2.66,\"Revenue\":24961.44},{\"WeekStarting\":\"1992-07-09T00:00:00.000Z\",\"Store\":1002,\"Brand\":\"dominicks\",\"Quantity\":9029,\"Advert\":1,\"Price\":1.92,\"Revenue\":17335.68},{\"WeekStarting\":\"1992-07-16T00:00:00.000Z\",\"Store\":1002,\"Brand\":\"dominicks\",\"Quantity\":14381,\"Advert\":1,\"Price\":2.28,\"Revenue\":32788.68},{\"WeekStarting\":\"1992-07-23T00:00:00.000Z\",\"Store\":1002,\"Brand\":\"dominicks\",\"Quantity\":13214,\"Advert\":1,\"Price\":2.55,\"Revenue\":33695.7},{\"WeekStarting\":\"1992-07-30T00:00:00.000Z\",\"Store\":1002,\"Brand\":\"dominicks\",\"Quantity\":12285,\"Advert\":1,\"Price\":2.53,\"Revenue\":31081.05},{\"WeekStarting\":\"1992-08-06T00:00:00.000Z\",\"Store\":1002,\"Brand\":\"dominicks\",\"Quantity\":17355,\"Advert\":1,\"Price\":2.52,\"Revenue\":43734.6},{\"WeekStarting\":\"1992-08-13T00:00:00.000Z\",\"Store\":1002,\"Brand\":\"dominicks\",\"Quantity\":13680,\"Advert\":1,\"Price\":2.34,\"Revenue\":32011.2},{\"WeekStarting\":\"1992-08-20T00:00:00.000Z\",\"Store\":1002,\"Brand\":\"dominicks\",\"Quantity\":17433,\"Advert\":1,\"Price\":2.16,\"Revenue\":37655.28},{\"WeekStarting\":\"1992-08-27T00:00:00.000Z\",\"Store\":1002,\"Brand\":\"dominicks\",\"Quantity\":9567,\"Advert\":1,\"Price\":2.38,\"Revenue\":22769.46},{\"WeekStarting\":\"1992-09-03T00:00:00.000Z\",\"Store\":1002,\"Brand\":\"dominicks\",\"Quantity\":13669,\"Advert\":1,\"Price\":2.67,\"Revenue\":36496.23},{\"WeekStarting\":\"1992-09-10T00:00:00.000Z\",\"Store\":1002,\"Brand\":\"dominicks\",\"Quantity\":9918,\"Advert\":1,\"Price\":2.41,\"Revenue\":23902.38},{\"WeekStarting\":\"1992-09-17T00:00:00.000Z\",\"Store\":1002,\"Brand\":\"dominicks\",\"Quantity\":16352,\"Advert\":1,\"Price\":2.21,\"Revenue\":36137.92},{\"WeekStarting\":\"1992-09-24T00:00:00.000Z\",\"Store\":1002,\"Brand\":\"dominicks\",\"Quantity\":11015,\"Advert\":1,\"Price\":2.33,\"Revenue\":25664.95},{\"WeekStarting\":\"1992-10-01T00:00:00.000Z\",\"Store\":1002,\"Brand\":\"dominicks\",\"Quantity\":10280,\"Advert\":1,\"Price\":2.29,\"Revenue\":23541.2}]'}]"
      ]
     },
     "metadata": {},
     "execution_count": 80
    }
   ],
   "metadata": {}
  },
  {
   "cell_type": "code",
   "execution_count": 81,
   "source": [
    "import requests\n",
    "import json\n",
    "\n",
    "try:\n",
    "    url = models_deployed[model_name]['endpoint']\n",
    "    key = models_deployed[model_name]['key']    \n",
    "except KeyError as e:\n",
    "    raise ValueError(f'Model for store {store} and brand {brand} has not been deployed')\n",
    "\n",
    "request_headers = {'Content-Type': 'application/json'}\n",
    "if key:\n",
    "    request_headers['Authorization'] = f'Bearer {key}'\n",
    "\n",
    "response = requests.post(url, json=test_data, headers=request_headers)\n",
    "# response.json() # uncomment the line to see the values returned in the response"
   ],
   "outputs": [
    {
     "output_type": "execute_result",
     "data": {
      "text/plain": [
       "['[{\"WeekStarting\":\"1992-06-04T00:00:00.000Z\",\"Store\":1002,\"Brand\":\"dominicks\",\"Quantity\":11957,\"Advert\":1,\"Price\":2.07,\"Revenue\":24750.99,\"Predictions\":12289.3375680808},{\"WeekStarting\":\"1992-06-11T00:00:00.000Z\",\"Store\":1002,\"Brand\":\"dominicks\",\"Quantity\":16608,\"Advert\":1,\"Price\":2.49,\"Revenue\":41353.92,\"Predictions\":16814.6225918048},{\"WeekStarting\":\"1992-06-18T00:00:00.000Z\",\"Store\":1002,\"Brand\":\"dominicks\",\"Quantity\":15073,\"Advert\":1,\"Price\":2.63,\"Revenue\":39641.99,\"Predictions\":15422.4112597666},{\"WeekStarting\":\"1992-06-25T00:00:00.000Z\",\"Store\":1002,\"Brand\":\"dominicks\",\"Quantity\":10881,\"Advert\":1,\"Price\":2.16,\"Revenue\":23502.96,\"Predictions\":11116.6752126307},{\"WeekStarting\":\"1992-07-02T00:00:00.000Z\",\"Store\":1002,\"Brand\":\"dominicks\",\"Quantity\":9384,\"Advert\":1,\"Price\":2.66,\"Revenue\":24961.44,\"Predictions\":8741.1437064144},{\"WeekStarting\":\"1992-07-09T00:00:00.000Z\",\"Store\":1002,\"Brand\":\"dominicks\",\"Quantity\":9029,\"Advert\":1,\"Price\":1.92,\"Revenue\":17335.68,\"Predictions\":10241.3438991918},{\"WeekStarting\":\"1992-07-16T00:00:00.000Z\",\"Store\":1002,\"Brand\":\"dominicks\",\"Quantity\":14381,\"Advert\":1,\"Price\":2.28,\"Revenue\":32788.68,\"Predictions\":14449.2066543275},{\"WeekStarting\":\"1992-07-23T00:00:00.000Z\",\"Store\":1002,\"Brand\":\"dominicks\",\"Quantity\":13214,\"Advert\":1,\"Price\":2.55,\"Revenue\":33695.7,\"Predictions\":13096.3731870363},{\"WeekStarting\":\"1992-07-30T00:00:00.000Z\",\"Store\":1002,\"Brand\":\"dominicks\",\"Quantity\":12285,\"Advert\":1,\"Price\":2.53,\"Revenue\":31081.05,\"Predictions\":12130.4664582934},{\"WeekStarting\":\"1992-08-06T00:00:00.000Z\",\"Store\":1002,\"Brand\":\"dominicks\",\"Quantity\":17355,\"Advert\":1,\"Price\":2.52,\"Revenue\":43734.6,\"Predictions\":17536.2549043088},{\"WeekStarting\":\"1992-08-13T00:00:00.000Z\",\"Store\":1002,\"Brand\":\"dominicks\",\"Quantity\":13680,\"Advert\":1,\"Price\":2.34,\"Revenue\":32011.2,\"Predictions\":13732.2829293103},{\"WeekStarting\":\"1992-08-20T00:00:00.000Z\",\"Store\":1002,\"Brand\":\"dominicks\",\"Quantity\":17433,\"Advert\":1,\"Price\":2.16,\"Revenue\":37655.28,\"Predictions\":17289.9570750093},{\"WeekStarting\":\"1992-08-27T00:00:00.000Z\",\"Store\":1002,\"Brand\":\"dominicks\",\"Quantity\":9567,\"Advert\":1,\"Price\":2.38,\"Revenue\":22769.46,\"Predictions\":9524.8513157463},{\"WeekStarting\":\"1992-09-03T00:00:00.000Z\",\"Store\":1002,\"Brand\":\"dominicks\",\"Quantity\":13669,\"Advert\":1,\"Price\":2.67,\"Revenue\":36496.23,\"Predictions\":13607.6864601196},{\"WeekStarting\":\"1992-09-10T00:00:00.000Z\",\"Store\":1002,\"Brand\":\"dominicks\",\"Quantity\":9918,\"Advert\":1,\"Price\":2.41,\"Revenue\":23902.38,\"Predictions\":9778.7508769544},{\"WeekStarting\":\"1992-09-17T00:00:00.000Z\",\"Store\":1002,\"Brand\":\"dominicks\",\"Quantity\":16352,\"Advert\":1,\"Price\":2.21,\"Revenue\":36137.92,\"Predictions\":16268.3101514015},{\"WeekStarting\":\"1992-09-24T00:00:00.000Z\",\"Store\":1002,\"Brand\":\"dominicks\",\"Quantity\":11015,\"Advert\":1,\"Price\":2.33,\"Revenue\":25664.95,\"Predictions\":10957.8148298618},{\"WeekStarting\":\"1992-10-01T00:00:00.000Z\",\"Store\":1002,\"Brand\":\"dominicks\",\"Quantity\":10280,\"Advert\":1,\"Price\":2.29,\"Revenue\":23541.2,\"Predictions\":10361.8248435563}]']"
      ]
     },
     "metadata": {},
     "execution_count": 81
    }
   ],
   "metadata": {}
  },
  {
   "cell_type": "markdown",
   "source": [
    "## 5.0 Group all models into a single routing endpoint"
   ],
   "metadata": {}
  },
  {
   "cell_type": "markdown",
   "source": [
    "We can now group all the services into a single entry point, so that we don't have to handle each endpoint separately. \n",
    "For that, we'll register the `endpoints` object as a model, and deploy it as a webservice. This webservice will receive the incoming requests and route them to the appropiate model service, acting as the unique entry point for outside requests."
   ],
   "metadata": {}
  },
  {
   "cell_type": "markdown",
   "source": [
    "### 5.1 Register endpoints dict as an AML model"
   ],
   "metadata": {}
  },
  {
   "cell_type": "code",
   "execution_count": 57,
   "source": [
    "import joblib\n",
    "\n",
    "joblib.dump(models_deployed, 'models_deployed.pkl')\n",
    "\n",
    "dep_model = Model.register(\n",
    "    workspace=ws, \n",
    "    model_path ='models_deployed.pkl', \n",
    "    model_name='deployed_models_info',\n",
    "    tags={'ModelType': '_meta_'},\n",
    "    description='Dictionary of the service endpoint where each model is deployed'\n",
    ")"
   ],
   "outputs": [
    {
     "output_type": "stream",
     "name": "stdout",
     "text": [
      "Registering model deployed_models_info\n"
     ]
    }
   ],
   "metadata": {}
  },
  {
   "cell_type": "markdown",
   "source": [
    "### 5.2 Deploy routing webservice"
   ],
   "metadata": {}
  },
  {
   "cell_type": "code",
   "execution_count": 58,
   "source": [
    "from azureml.core import Environment\n",
    "from azureml.core.conda_dependencies import CondaDependencies\n",
    "from azureml.core.runconfig import DEFAULT_CPU_IMAGE\n",
    "routing_env = Environment(name=\"many_models_routing_environment\")\n",
    "routing_env_deps = CondaDependencies.create(pip_packages=['azureml-defaults', 'joblib'])\n",
    "routing_env.python.conda_dependencies = routing_env_deps\n",
    "\n",
    "routing_infconfig = InferenceConfig(\n",
    "    entry_script='routing_webservice.py',\n",
    "    source_directory='./scripts',\n",
    "    environment=routing_env\n",
    ")\n",
    "\n",
    "# Reuse deployment config with lower capacity\n",
    "deployment_config.cpu_cores = 0.1\n",
    "deployment_config.memory_gb = 0.5\n",
    "\n",
    "routing_service = Model.deploy(\n",
    "    workspace=ws,\n",
    "    name='routing-manymodels',\n",
    "    models=[dep_model],\n",
    "    inference_config=routing_infconfig,\n",
    "    deployment_config=deployment_config,\n",
    "    deployment_target=deployment_target,\n",
    "    overwrite=True\n",
    ")\n",
    "routing_service.wait_for_deployment(show_output=True)\n",
    "\n",
    "assert routing_service.state == 'Healthy'\n",
    "\n",
    "print('Routing endpoint deployed with URL: {}'.format(routing_service.scoring_uri))"
   ],
   "outputs": [
    {
     "output_type": "stream",
     "name": "stdout",
     "text": [
      "Tips: You can try get_logs(): https://aka.ms/debugimage#dockerlog or local deployment: https://aka.ms/debugimage#debug-locally to debug if deployment takes longer than 10 minutes.\n",
      "Running\n",
      "2021-09-02 15:41:13-04:00 Creating Container Registry if not exists.\n",
      "2021-09-02 15:41:14-04:00 Registering the environment.\n",
      "2021-09-02 15:41:16-04:00 Use the existing image.\n",
      "2021-09-02 15:41:18-04:00 Creating resources in AKS.\n",
      "2021-09-02 15:41:19-04:00 Submitting deployment to compute.\n",
      "2021-09-02 15:41:19-04:00 Checking the status of deployment routing-manymodels.\n",
      "Failed\n"
     ]
    },
    {
     "output_type": "stream",
     "name": "stderr",
     "text": [
      "Service deployment polling reached non-successful terminal state, current service state: Failed\n",
      "Operation ID: b378888b-4e63-406a-a420-1a82be102cee\n",
      "More information can be found using '.get_logs()'\n",
      "Error:\n",
      "{\n",
      "  \"code\": \"KubernetesDeploymentFailed\",\n",
      "  \"statusCode\": 400,\n",
      "  \"message\": \"Kubernetes Deployment failed\",\n",
      "  \"details\": [\n",
      "    {\n",
      "      \"code\": \"CrashLoopBackOff\",\n",
      "      \"message\": \"Error in entry script, ModuleNotFoundError: No module named 'pandas', please run print(service.get_logs()) to get details.\"\n",
      "    },\n",
      "    {\n",
      "      \"code\": \"DeploymentFailed\",\n",
      "      \"message\": \"Your container endpoint is not available. Please follow the steps to debug:\n",
      "\t1. From the AML SDK, you can run print(service.get_logs()) if you have service object to fetch the logs. Please refer to https://aka.ms/debugimage#dockerlog for more information.\n",
      "\t2. You can also interactively debug your scoring file locally. Please refer to https://docs.microsoft.com/azure/machine-learning/how-to-debug-visual-studio-code#debug-and-troubleshoot-deployments for more information.\n",
      "\t3. View the diagnostic events to check status of container, it may help you to debug the issue.\n",
      "{\"InvolvedObject\":\"routing-manymodels-965445949-dgxnw\",\"InvolvedKind\":\"Pod\",\"Type\":\"Normal\",\"Reason\":\"Pulled\",\"Message\":\"Container image \"mcr.microsoft.com/azureml/dependency-unpacker:20210714\" already present on machine\",\"LastTimestamp\":\"2021-09-02T19:41:25Z\"}\n",
      "{\"InvolvedObject\":\"routing-manymodels-965445949-dgxnw\",\"InvolvedKind\":\"Pod\",\"Type\":\"Normal\",\"Reason\":\"Created\",\"Message\":\"Created container amlappinit\",\"LastTimestamp\":\"2021-09-02T19:41:26Z\"}\n",
      "{\"InvolvedObject\":\"routing-manymodels-965445949-dgxnw\",\"InvolvedKind\":\"Pod\",\"Type\":\"Normal\",\"Reason\":\"Started\",\"Message\":\"Started container amlappinit\",\"LastTimestamp\":\"2021-09-02T19:41:26Z\"}\n",
      "{\"InvolvedObject\":\"routing-manymodels-965445949-dgxnw\",\"InvolvedKind\":\"Pod\",\"Type\":\"Normal\",\"Reason\":\"Pulling\",\"Message\":\"Pulling image \"codingforgeacr.azurecr.io/azureml/azureml_35a9381b420b5785105cafc67c239794\"\",\"LastTimestamp\":\"2021-09-02T19:41:27Z\"}\n",
      "{\"InvolvedObject\":\"routing-manymodels-965445949-dgxnw\",\"InvolvedKind\":\"Pod\",\"Type\":\"Normal\",\"Reason\":\"Pulled\",\"Message\":\"Successfully pulled image \"codingforgeacr.azurecr.io/azureml/azureml_35a9381b420b5785105cafc67c239794\" in 58.377643613s\",\"LastTimestamp\":\"2021-09-02T19:42:26Z\"}\n",
      "{\"InvolvedObject\":\"routing-manymodels-965445949-dgxnw\",\"InvolvedKind\":\"Pod\",\"Type\":\"Normal\",\"Reason\":\"Pulled\",\"Message\":\"Container image \"codingforgeacr.azurecr.io/azureml/azureml_35a9381b420b5785105cafc67c239794\" already present on machine\",\"LastTimestamp\":\"2021-09-02T19:42:38Z\"}\n",
      "{\"InvolvedObject\":\"routing-manymodels-965445949-dgxnw\",\"InvolvedKind\":\"Pod\",\"Type\":\"Normal\",\"Reason\":\"Created\",\"Message\":\"Created container routing-manymodels\",\"LastTimestamp\":\"2021-09-02T19:42:39Z\"}\n",
      "{\"InvolvedObject\":\"routing-manymodels-965445949-dgxnw\",\"InvolvedKind\":\"Pod\",\"Type\":\"Normal\",\"Reason\":\"Started\",\"Message\":\"Started container routing-manymodels\",\"LastTimestamp\":\"2021-09-02T19:42:39Z\"}\n",
      "{\"InvolvedObject\":\"routing-manymodels-965445949-dgxnw\",\"InvolvedKind\":\"Pod\",\"Type\":\"Warning\",\"Reason\":\"Unhealthy\",\"Message\":\"Readiness probe failed: HTTP probe failed with statuscode: 502\",\"LastTimestamp\":\"2021-09-02T19:42:40Z\"}\n",
      "{\"InvolvedObject\":\"routing-manymodels-965445949-dgxnw\",\"InvolvedKind\":\"Pod\",\"Type\":\"Warning\",\"Reason\":\"BackOff\",\"Message\":\"Back-off restarting failed container\",\"LastTimestamp\":\"2021-09-02T19:42:45Z\"}\n",
      "\"\n",
      "    }\n",
      "  ]\n",
      "}\n",
      "\n"
     ]
    },
    {
     "output_type": "error",
     "ename": "WebserviceException",
     "evalue": "WebserviceException:\n\tMessage: Service deployment polling reached non-successful terminal state, current service state: Failed\nOperation ID: b378888b-4e63-406a-a420-1a82be102cee\nMore information can be found using '.get_logs()'\nError:\n{\n  \"code\": \"KubernetesDeploymentFailed\",\n  \"statusCode\": 400,\n  \"message\": \"Kubernetes Deployment failed\",\n  \"details\": [\n    {\n      \"code\": \"CrashLoopBackOff\",\n      \"message\": \"Error in entry script, ModuleNotFoundError: No module named 'pandas', please run print(service.get_logs()) to get details.\"\n    },\n    {\n      \"code\": \"DeploymentFailed\",\n      \"message\": \"Your container endpoint is not available. Please follow the steps to debug:\n\t1. From the AML SDK, you can run print(service.get_logs()) if you have service object to fetch the logs. Please refer to https://aka.ms/debugimage#dockerlog for more information.\n\t2. You can also interactively debug your scoring file locally. Please refer to https://docs.microsoft.com/azure/machine-learning/how-to-debug-visual-studio-code#debug-and-troubleshoot-deployments for more information.\n\t3. View the diagnostic events to check status of container, it may help you to debug the issue.\n{\"InvolvedObject\":\"routing-manymodels-965445949-dgxnw\",\"InvolvedKind\":\"Pod\",\"Type\":\"Normal\",\"Reason\":\"Pulled\",\"Message\":\"Container image \"mcr.microsoft.com/azureml/dependency-unpacker:20210714\" already present on machine\",\"LastTimestamp\":\"2021-09-02T19:41:25Z\"}\n{\"InvolvedObject\":\"routing-manymodels-965445949-dgxnw\",\"InvolvedKind\":\"Pod\",\"Type\":\"Normal\",\"Reason\":\"Created\",\"Message\":\"Created container amlappinit\",\"LastTimestamp\":\"2021-09-02T19:41:26Z\"}\n{\"InvolvedObject\":\"routing-manymodels-965445949-dgxnw\",\"InvolvedKind\":\"Pod\",\"Type\":\"Normal\",\"Reason\":\"Started\",\"Message\":\"Started container amlappinit\",\"LastTimestamp\":\"2021-09-02T19:41:26Z\"}\n{\"InvolvedObject\":\"routing-manymodels-965445949-dgxnw\",\"InvolvedKind\":\"Pod\",\"Type\":\"Normal\",\"Reason\":\"Pulling\",\"Message\":\"Pulling image \"codingforgeacr.azurecr.io/azureml/azureml_35a9381b420b5785105cafc67c239794\"\",\"LastTimestamp\":\"2021-09-02T19:41:27Z\"}\n{\"InvolvedObject\":\"routing-manymodels-965445949-dgxnw\",\"InvolvedKind\":\"Pod\",\"Type\":\"Normal\",\"Reason\":\"Pulled\",\"Message\":\"Successfully pulled image \"codingforgeacr.azurecr.io/azureml/azureml_35a9381b420b5785105cafc67c239794\" in 58.377643613s\",\"LastTimestamp\":\"2021-09-02T19:42:26Z\"}\n{\"InvolvedObject\":\"routing-manymodels-965445949-dgxnw\",\"InvolvedKind\":\"Pod\",\"Type\":\"Normal\",\"Reason\":\"Pulled\",\"Message\":\"Container image \"codingforgeacr.azurecr.io/azureml/azureml_35a9381b420b5785105cafc67c239794\" already present on machine\",\"LastTimestamp\":\"2021-09-02T19:42:38Z\"}\n{\"InvolvedObject\":\"routing-manymodels-965445949-dgxnw\",\"InvolvedKind\":\"Pod\",\"Type\":\"Normal\",\"Reason\":\"Created\",\"Message\":\"Created container routing-manymodels\",\"LastTimestamp\":\"2021-09-02T19:42:39Z\"}\n{\"InvolvedObject\":\"routing-manymodels-965445949-dgxnw\",\"InvolvedKind\":\"Pod\",\"Type\":\"Normal\",\"Reason\":\"Started\",\"Message\":\"Started container routing-manymodels\",\"LastTimestamp\":\"2021-09-02T19:42:39Z\"}\n{\"InvolvedObject\":\"routing-manymodels-965445949-dgxnw\",\"InvolvedKind\":\"Pod\",\"Type\":\"Warning\",\"Reason\":\"Unhealthy\",\"Message\":\"Readiness probe failed: HTTP probe failed with statuscode: 502\",\"LastTimestamp\":\"2021-09-02T19:42:40Z\"}\n{\"InvolvedObject\":\"routing-manymodels-965445949-dgxnw\",\"InvolvedKind\":\"Pod\",\"Type\":\"Warning\",\"Reason\":\"BackOff\",\"Message\":\"Back-off restarting failed container\",\"LastTimestamp\":\"2021-09-02T19:42:45Z\"}\n\"\n    }\n  ]\n}\n\tInnerException None\n\tErrorResponse \n{\n    \"error\": {\n        \"message\": \"Service deployment polling reached non-successful terminal state, current service state: Failed\\nOperation ID: b378888b-4e63-406a-a420-1a82be102cee\\nMore information can be found using '.get_logs()'\\nError:\\n{\\n  \\\"code\\\": \\\"KubernetesDeploymentFailed\\\",\\n  \\\"statusCode\\\": 400,\\n  \\\"message\\\": \\\"Kubernetes Deployment failed\\\",\\n  \\\"details\\\": [\\n    {\\n      \\\"code\\\": \\\"CrashLoopBackOff\\\",\\n      \\\"message\\\": \\\"Error in entry script, ModuleNotFoundError: No module named 'pandas', please run print(service.get_logs()) to get details.\\\"\\n    },\\n    {\\n      \\\"code\\\": \\\"DeploymentFailed\\\",\\n      \\\"message\\\": \\\"Your container endpoint is not available. Please follow the steps to debug:\\n\\t1. From the AML SDK, you can run print(service.get_logs()) if you have service object to fetch the logs. Please refer to https://aka.ms/debugimage#dockerlog for more information.\\n\\t2. You can also interactively debug your scoring file locally. Please refer to https://docs.microsoft.com/azure/machine-learning/how-to-debug-visual-studio-code#debug-and-troubleshoot-deployments for more information.\\n\\t3. View the diagnostic events to check status of container, it may help you to debug the issue.\\n{\\\"InvolvedObject\\\":\\\"routing-manymodels-965445949-dgxnw\\\",\\\"InvolvedKind\\\":\\\"Pod\\\",\\\"Type\\\":\\\"Normal\\\",\\\"Reason\\\":\\\"Pulled\\\",\\\"Message\\\":\\\"Container image \\\"mcr.microsoft.com/azureml/dependency-unpacker:20210714\\\" already present on machine\\\",\\\"LastTimestamp\\\":\\\"2021-09-02T19:41:25Z\\\"}\\n{\\\"InvolvedObject\\\":\\\"routing-manymodels-965445949-dgxnw\\\",\\\"InvolvedKind\\\":\\\"Pod\\\",\\\"Type\\\":\\\"Normal\\\",\\\"Reason\\\":\\\"Created\\\",\\\"Message\\\":\\\"Created container amlappinit\\\",\\\"LastTimestamp\\\":\\\"2021-09-02T19:41:26Z\\\"}\\n{\\\"InvolvedObject\\\":\\\"routing-manymodels-965445949-dgxnw\\\",\\\"InvolvedKind\\\":\\\"Pod\\\",\\\"Type\\\":\\\"Normal\\\",\\\"Reason\\\":\\\"Started\\\",\\\"Message\\\":\\\"Started container amlappinit\\\",\\\"LastTimestamp\\\":\\\"2021-09-02T19:41:26Z\\\"}\\n{\\\"InvolvedObject\\\":\\\"routing-manymodels-965445949-dgxnw\\\",\\\"InvolvedKind\\\":\\\"Pod\\\",\\\"Type\\\":\\\"Normal\\\",\\\"Reason\\\":\\\"Pulling\\\",\\\"Message\\\":\\\"Pulling image \\\"codingforgeacr.azurecr.io/azureml/azureml_35a9381b420b5785105cafc67c239794\\\"\\\",\\\"LastTimestamp\\\":\\\"2021-09-02T19:41:27Z\\\"}\\n{\\\"InvolvedObject\\\":\\\"routing-manymodels-965445949-dgxnw\\\",\\\"InvolvedKind\\\":\\\"Pod\\\",\\\"Type\\\":\\\"Normal\\\",\\\"Reason\\\":\\\"Pulled\\\",\\\"Message\\\":\\\"Successfully pulled image \\\"codingforgeacr.azurecr.io/azureml/azureml_35a9381b420b5785105cafc67c239794\\\" in 58.377643613s\\\",\\\"LastTimestamp\\\":\\\"2021-09-02T19:42:26Z\\\"}\\n{\\\"InvolvedObject\\\":\\\"routing-manymodels-965445949-dgxnw\\\",\\\"InvolvedKind\\\":\\\"Pod\\\",\\\"Type\\\":\\\"Normal\\\",\\\"Reason\\\":\\\"Pulled\\\",\\\"Message\\\":\\\"Container image \\\"codingforgeacr.azurecr.io/azureml/azureml_35a9381b420b5785105cafc67c239794\\\" already present on machine\\\",\\\"LastTimestamp\\\":\\\"2021-09-02T19:42:38Z\\\"}\\n{\\\"InvolvedObject\\\":\\\"routing-manymodels-965445949-dgxnw\\\",\\\"InvolvedKind\\\":\\\"Pod\\\",\\\"Type\\\":\\\"Normal\\\",\\\"Reason\\\":\\\"Created\\\",\\\"Message\\\":\\\"Created container routing-manymodels\\\",\\\"LastTimestamp\\\":\\\"2021-09-02T19:42:39Z\\\"}\\n{\\\"InvolvedObject\\\":\\\"routing-manymodels-965445949-dgxnw\\\",\\\"InvolvedKind\\\":\\\"Pod\\\",\\\"Type\\\":\\\"Normal\\\",\\\"Reason\\\":\\\"Started\\\",\\\"Message\\\":\\\"Started container routing-manymodels\\\",\\\"LastTimestamp\\\":\\\"2021-09-02T19:42:39Z\\\"}\\n{\\\"InvolvedObject\\\":\\\"routing-manymodels-965445949-dgxnw\\\",\\\"InvolvedKind\\\":\\\"Pod\\\",\\\"Type\\\":\\\"Warning\\\",\\\"Reason\\\":\\\"Unhealthy\\\",\\\"Message\\\":\\\"Readiness probe failed: HTTP probe failed with statuscode: 502\\\",\\\"LastTimestamp\\\":\\\"2021-09-02T19:42:40Z\\\"}\\n{\\\"InvolvedObject\\\":\\\"routing-manymodels-965445949-dgxnw\\\",\\\"InvolvedKind\\\":\\\"Pod\\\",\\\"Type\\\":\\\"Warning\\\",\\\"Reason\\\":\\\"BackOff\\\",\\\"Message\\\":\\\"Back-off restarting failed container\\\",\\\"LastTimestamp\\\":\\\"2021-09-02T19:42:45Z\\\"}\\n\\\"\\n    }\\n  ]\\n}\"\n    }\n}",
     "traceback": [
      "\u001b[0;31m---------------------------------------------------------------------------\u001b[0m",
      "\u001b[0;31mWebserviceException\u001b[0m                       Traceback (most recent call last)",
      "\u001b[0;32m<ipython-input-58-bd40b3dbd074>\u001b[0m in \u001b[0;36m<module>\u001b[0;34m\u001b[0m\n\u001b[1;32m     25\u001b[0m     \u001b[0moverwrite\u001b[0m\u001b[0;34m=\u001b[0m\u001b[0;32mTrue\u001b[0m\u001b[0;34m\u001b[0m\u001b[0;34m\u001b[0m\u001b[0m\n\u001b[1;32m     26\u001b[0m )\n\u001b[0;32m---> 27\u001b[0;31m \u001b[0mrouting_service\u001b[0m\u001b[0;34m.\u001b[0m\u001b[0mwait_for_deployment\u001b[0m\u001b[0;34m(\u001b[0m\u001b[0mshow_output\u001b[0m\u001b[0;34m=\u001b[0m\u001b[0;32mTrue\u001b[0m\u001b[0;34m)\u001b[0m\u001b[0;34m\u001b[0m\u001b[0;34m\u001b[0m\u001b[0m\n\u001b[0m\u001b[1;32m     28\u001b[0m \u001b[0;34m\u001b[0m\u001b[0m\n\u001b[1;32m     29\u001b[0m \u001b[0;32massert\u001b[0m \u001b[0mrouting_service\u001b[0m\u001b[0;34m.\u001b[0m\u001b[0mstate\u001b[0m \u001b[0;34m==\u001b[0m \u001b[0;34m'Healthy'\u001b[0m\u001b[0;34m\u001b[0m\u001b[0;34m\u001b[0m\u001b[0m\n",
      "\u001b[0;32m~/anaconda3/envs/mm/lib/python3.7/site-packages/azureml/core/webservice/webservice.py\u001b[0m in \u001b[0;36mwait_for_deployment\u001b[0;34m(self, show_output, timeout_sec)\u001b[0m\n\u001b[1;32m    923\u001b[0m                                           \u001b[0;34m'Error:\\n'\u001b[0m\u001b[0;34m\u001b[0m\u001b[0;34m\u001b[0m\u001b[0m\n\u001b[1;32m    924\u001b[0m                                           '{}'.format(self.state, self._operation_endpoint.split('/')[-1],\n\u001b[0;32m--> 925\u001b[0;31m                                                       logs_response, format_error_response), logger=module_logger)\n\u001b[0m\u001b[1;32m    926\u001b[0m             print('{} service creation operation finished, operation \"{}\"'.format(self._webservice_type,\n\u001b[1;32m    927\u001b[0m                                                                                   operation_state))\n",
      "\u001b[0;31mWebserviceException\u001b[0m: WebserviceException:\n\tMessage: Service deployment polling reached non-successful terminal state, current service state: Failed\nOperation ID: b378888b-4e63-406a-a420-1a82be102cee\nMore information can be found using '.get_logs()'\nError:\n{\n  \"code\": \"KubernetesDeploymentFailed\",\n  \"statusCode\": 400,\n  \"message\": \"Kubernetes Deployment failed\",\n  \"details\": [\n    {\n      \"code\": \"CrashLoopBackOff\",\n      \"message\": \"Error in entry script, ModuleNotFoundError: No module named 'pandas', please run print(service.get_logs()) to get details.\"\n    },\n    {\n      \"code\": \"DeploymentFailed\",\n      \"message\": \"Your container endpoint is not available. Please follow the steps to debug:\n\t1. From the AML SDK, you can run print(service.get_logs()) if you have service object to fetch the logs. Please refer to https://aka.ms/debugimage#dockerlog for more information.\n\t2. You can also interactively debug your scoring file locally. Please refer to https://docs.microsoft.com/azure/machine-learning/how-to-debug-visual-studio-code#debug-and-troubleshoot-deployments for more information.\n\t3. View the diagnostic events to check status of container, it may help you to debug the issue.\n{\"InvolvedObject\":\"routing-manymodels-965445949-dgxnw\",\"InvolvedKind\":\"Pod\",\"Type\":\"Normal\",\"Reason\":\"Pulled\",\"Message\":\"Container image \"mcr.microsoft.com/azureml/dependency-unpacker:20210714\" already present on machine\",\"LastTimestamp\":\"2021-09-02T19:41:25Z\"}\n{\"InvolvedObject\":\"routing-manymodels-965445949-dgxnw\",\"InvolvedKind\":\"Pod\",\"Type\":\"Normal\",\"Reason\":\"Created\",\"Message\":\"Created container amlappinit\",\"LastTimestamp\":\"2021-09-02T19:41:26Z\"}\n{\"InvolvedObject\":\"routing-manymodels-965445949-dgxnw\",\"InvolvedKind\":\"Pod\",\"Type\":\"Normal\",\"Reason\":\"Started\",\"Message\":\"Started container amlappinit\",\"LastTimestamp\":\"2021-09-02T19:41:26Z\"}\n{\"InvolvedObject\":\"routing-manymodels-965445949-dgxnw\",\"InvolvedKind\":\"Pod\",\"Type\":\"Normal\",\"Reason\":\"Pulling\",\"Message\":\"Pulling image \"codingforgeacr.azurecr.io/azureml/azureml_35a9381b420b5785105cafc67c239794\"\",\"LastTimestamp\":\"2021-09-02T19:41:27Z\"}\n{\"InvolvedObject\":\"routing-manymodels-965445949-dgxnw\",\"InvolvedKind\":\"Pod\",\"Type\":\"Normal\",\"Reason\":\"Pulled\",\"Message\":\"Successfully pulled image \"codingforgeacr.azurecr.io/azureml/azureml_35a9381b420b5785105cafc67c239794\" in 58.377643613s\",\"LastTimestamp\":\"2021-09-02T19:42:26Z\"}\n{\"InvolvedObject\":\"routing-manymodels-965445949-dgxnw\",\"InvolvedKind\":\"Pod\",\"Type\":\"Normal\",\"Reason\":\"Pulled\",\"Message\":\"Container image \"codingforgeacr.azurecr.io/azureml/azureml_35a9381b420b5785105cafc67c239794\" already present on machine\",\"LastTimestamp\":\"2021-09-02T19:42:38Z\"}\n{\"InvolvedObject\":\"routing-manymodels-965445949-dgxnw\",\"InvolvedKind\":\"Pod\",\"Type\":\"Normal\",\"Reason\":\"Created\",\"Message\":\"Created container routing-manymodels\",\"LastTimestamp\":\"2021-09-02T19:42:39Z\"}\n{\"InvolvedObject\":\"routing-manymodels-965445949-dgxnw\",\"InvolvedKind\":\"Pod\",\"Type\":\"Normal\",\"Reason\":\"Started\",\"Message\":\"Started container routing-manymodels\",\"LastTimestamp\":\"2021-09-02T19:42:39Z\"}\n{\"InvolvedObject\":\"routing-manymodels-965445949-dgxnw\",\"InvolvedKind\":\"Pod\",\"Type\":\"Warning\",\"Reason\":\"Unhealthy\",\"Message\":\"Readiness probe failed: HTTP probe failed with statuscode: 502\",\"LastTimestamp\":\"2021-09-02T19:42:40Z\"}\n{\"InvolvedObject\":\"routing-manymodels-965445949-dgxnw\",\"InvolvedKind\":\"Pod\",\"Type\":\"Warning\",\"Reason\":\"BackOff\",\"Message\":\"Back-off restarting failed container\",\"LastTimestamp\":\"2021-09-02T19:42:45Z\"}\n\"\n    }\n  ]\n}\n\tInnerException None\n\tErrorResponse \n{\n    \"error\": {\n        \"message\": \"Service deployment polling reached non-successful terminal state, current service state: Failed\\nOperation ID: b378888b-4e63-406a-a420-1a82be102cee\\nMore information can be found using '.get_logs()'\\nError:\\n{\\n  \\\"code\\\": \\\"KubernetesDeploymentFailed\\\",\\n  \\\"statusCode\\\": 400,\\n  \\\"message\\\": \\\"Kubernetes Deployment failed\\\",\\n  \\\"details\\\": [\\n    {\\n      \\\"code\\\": \\\"CrashLoopBackOff\\\",\\n      \\\"message\\\": \\\"Error in entry script, ModuleNotFoundError: No module named 'pandas', please run print(service.get_logs()) to get details.\\\"\\n    },\\n    {\\n      \\\"code\\\": \\\"DeploymentFailed\\\",\\n      \\\"message\\\": \\\"Your container endpoint is not available. Please follow the steps to debug:\\n\\t1. From the AML SDK, you can run print(service.get_logs()) if you have service object to fetch the logs. Please refer to https://aka.ms/debugimage#dockerlog for more information.\\n\\t2. You can also interactively debug your scoring file locally. Please refer to https://docs.microsoft.com/azure/machine-learning/how-to-debug-visual-studio-code#debug-and-troubleshoot-deployments for more information.\\n\\t3. View the diagnostic events to check status of container, it may help you to debug the issue.\\n{\\\"InvolvedObject\\\":\\\"routing-manymodels-965445949-dgxnw\\\",\\\"InvolvedKind\\\":\\\"Pod\\\",\\\"Type\\\":\\\"Normal\\\",\\\"Reason\\\":\\\"Pulled\\\",\\\"Message\\\":\\\"Container image \\\"mcr.microsoft.com/azureml/dependency-unpacker:20210714\\\" already present on machine\\\",\\\"LastTimestamp\\\":\\\"2021-09-02T19:41:25Z\\\"}\\n{\\\"InvolvedObject\\\":\\\"routing-manymodels-965445949-dgxnw\\\",\\\"InvolvedKind\\\":\\\"Pod\\\",\\\"Type\\\":\\\"Normal\\\",\\\"Reason\\\":\\\"Created\\\",\\\"Message\\\":\\\"Created container amlappinit\\\",\\\"LastTimestamp\\\":\\\"2021-09-02T19:41:26Z\\\"}\\n{\\\"InvolvedObject\\\":\\\"routing-manymodels-965445949-dgxnw\\\",\\\"InvolvedKind\\\":\\\"Pod\\\",\\\"Type\\\":\\\"Normal\\\",\\\"Reason\\\":\\\"Started\\\",\\\"Message\\\":\\\"Started container amlappinit\\\",\\\"LastTimestamp\\\":\\\"2021-09-02T19:41:26Z\\\"}\\n{\\\"InvolvedObject\\\":\\\"routing-manymodels-965445949-dgxnw\\\",\\\"InvolvedKind\\\":\\\"Pod\\\",\\\"Type\\\":\\\"Normal\\\",\\\"Reason\\\":\\\"Pulling\\\",\\\"Message\\\":\\\"Pulling image \\\"codingforgeacr.azurecr.io/azureml/azureml_35a9381b420b5785105cafc67c239794\\\"\\\",\\\"LastTimestamp\\\":\\\"2021-09-02T19:41:27Z\\\"}\\n{\\\"InvolvedObject\\\":\\\"routing-manymodels-965445949-dgxnw\\\",\\\"InvolvedKind\\\":\\\"Pod\\\",\\\"Type\\\":\\\"Normal\\\",\\\"Reason\\\":\\\"Pulled\\\",\\\"Message\\\":\\\"Successfully pulled image \\\"codingforgeacr.azurecr.io/azureml/azureml_35a9381b420b5785105cafc67c239794\\\" in 58.377643613s\\\",\\\"LastTimestamp\\\":\\\"2021-09-02T19:42:26Z\\\"}\\n{\\\"InvolvedObject\\\":\\\"routing-manymodels-965445949-dgxnw\\\",\\\"InvolvedKind\\\":\\\"Pod\\\",\\\"Type\\\":\\\"Normal\\\",\\\"Reason\\\":\\\"Pulled\\\",\\\"Message\\\":\\\"Container image \\\"codingforgeacr.azurecr.io/azureml/azureml_35a9381b420b5785105cafc67c239794\\\" already present on machine\\\",\\\"LastTimestamp\\\":\\\"2021-09-02T19:42:38Z\\\"}\\n{\\\"InvolvedObject\\\":\\\"routing-manymodels-965445949-dgxnw\\\",\\\"InvolvedKind\\\":\\\"Pod\\\",\\\"Type\\\":\\\"Normal\\\",\\\"Reason\\\":\\\"Created\\\",\\\"Message\\\":\\\"Created container routing-manymodels\\\",\\\"LastTimestamp\\\":\\\"2021-09-02T19:42:39Z\\\"}\\n{\\\"InvolvedObject\\\":\\\"routing-manymodels-965445949-dgxnw\\\",\\\"InvolvedKind\\\":\\\"Pod\\\",\\\"Type\\\":\\\"Normal\\\",\\\"Reason\\\":\\\"Started\\\",\\\"Message\\\":\\\"Started container routing-manymodels\\\",\\\"LastTimestamp\\\":\\\"2021-09-02T19:42:39Z\\\"}\\n{\\\"InvolvedObject\\\":\\\"routing-manymodels-965445949-dgxnw\\\",\\\"InvolvedKind\\\":\\\"Pod\\\",\\\"Type\\\":\\\"Warning\\\",\\\"Reason\\\":\\\"Unhealthy\\\",\\\"Message\\\":\\\"Readiness probe failed: HTTP probe failed with statuscode: 502\\\",\\\"LastTimestamp\\\":\\\"2021-09-02T19:42:40Z\\\"}\\n{\\\"InvolvedObject\\\":\\\"routing-manymodels-965445949-dgxnw\\\",\\\"InvolvedKind\\\":\\\"Pod\\\",\\\"Type\\\":\\\"Warning\\\",\\\"Reason\\\":\\\"BackOff\\\",\\\"Message\\\":\\\"Back-off restarting failed container\\\",\\\"LastTimestamp\\\":\\\"2021-09-02T19:42:45Z\\\"}\\n\\\"\\n    }\\n  ]\\n}\"\n    }\n}"
     ]
    }
   ],
   "metadata": {}
  },
  {
   "cell_type": "markdown",
   "source": [
    "### 5.3 Test the webservice"
   ],
   "metadata": {}
  },
  {
   "cell_type": "markdown",
   "source": [
    "This new endpoint can be called with data from different stores or brands, and it will automatically route the request to the appropiate model endpoint."
   ],
   "metadata": {}
  },
  {
   "cell_type": "code",
   "execution_count": null,
   "source": [
    "import requests\n",
    "import json\n",
    "url = routing_service.scoring_uri\n",
    "\n",
    "request_headers = {'Content-Type': 'application/json'}\n",
    "if routing_service.auth_enabled:\n",
    "    keys = routing_service.get_keys()\n",
    "    request_headers['Authorization'] = 'Bearer {}'.format(keys[0])\n",
    "\n",
    "response = requests.post(url, json=test_data, headers=request_headers)\n",
    "response.json()"
   ],
   "outputs": [],
   "metadata": {}
  }
 ],
 "metadata": {
  "authors": [
   {
    "name": "deeptim"
   }
  ],
  "kernelspec": {
   "name": "python3",
   "display_name": "Python 3.7.11 64-bit ('mm': conda)"
  },
  "language_info": {
   "codemirror_mode": {
    "name": "ipython",
    "version": 3
   },
   "file_extension": ".py",
   "mimetype": "text/x-python",
   "name": "python",
   "nbconvert_exporter": "python",
   "pygments_lexer": "ipython3",
   "version": "3.7.11"
  },
  "interpreter": {
   "hash": "9ffaa93a1da240c6e4760ff6f5da4e26eb0b2149dc0c9afc5ced3714a737930b"
  }
 },
 "nbformat": 4,
 "nbformat_minor": 2
}